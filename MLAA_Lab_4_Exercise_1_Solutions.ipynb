{
  "nbformat": 4,
  "nbformat_minor": 0,
  "metadata": {
    "colab": {
      "provenance": [],
      "include_colab_link": true
    },
    "kernelspec": {
      "name": "python3",
      "display_name": "Python 3"
    }
  },
  "cells": [
    {
      "cell_type": "markdown",
      "metadata": {
        "id": "view-in-github",
        "colab_type": "text"
      },
      "source": [
        "<a href=\"https://colab.research.google.com/github/wongwara/AT2_Classification/blob/main/MLAA_Lab_4_Exercise_1_Solutions.ipynb\" target=\"_parent\"><img src=\"https://colab.research.google.com/assets/colab-badge.svg\" alt=\"Open In Colab\"/></a>"
      ]
    },
    {
      "cell_type": "markdown",
      "metadata": {
        "id": "uQ6wc2HE0pke"
      },
      "source": [
        "# **Lab 4: Binary Classification**\n",
        "\n"
      ]
    },
    {
      "cell_type": "markdown",
      "metadata": {
        "id": "2_OzElWylM3Y"
      },
      "source": [
        "## Exercise 1: Logistic Regression\n",
        "\n",
        "In this exercise, you will train a binary classifier using a logistic regression and you will look at solving some of the most common data quality issues.\n",
        "\n",
        "We will be using a dataset from the Australian Bureau of Metereology which contains the daily weather data for Sydney between May 2019 and June 2020 (http://reg.bom.gov.au/climate/dwo/IDCJDW2124.latest.shtml).\n",
        "\n",
        "The goal of this exercise is to predict if it will rain tomorrow by training a logistic regression model on the target \"**rain_tomorrow**\".\n",
        "\n",
        "You will have to import the dataset from the following link:\n",
        "https://raw.githubusercontent.com/aso-uts/mlaa/main/datasets/lab4/ex1/Sydney_Weather_BOM.csv\n",
        "\n",
        "The steps are:\n",
        "1.   Load and explore dataset\n",
        "2.   Data Cleaning\n",
        "3.   Data Splitting\n",
        "4.   Assess Baseline model\n",
        "5.   Train Logistic Regression Classifier"
      ]
    },
    {
      "cell_type": "markdown",
      "metadata": {
        "id": "3IwbDesTs-dr"
      },
      "source": [
        "## 1. Load and explore dataset"
      ]
    },
    {
      "cell_type": "markdown",
      "metadata": {
        "id": "qMQmbGW_tKJ-"
      },
      "source": [
        "**[1.1]** Import the pandas and numpy packages"
      ]
    },
    {
      "cell_type": "code",
      "metadata": {
        "id": "ykWfXSdAtKR-"
      },
      "source": [
        "# Placeholder for student's code"
      ],
      "execution_count": null,
      "outputs": []
    },
    {
      "cell_type": "code",
      "metadata": {
        "id": "2vRVBbfjtOhU"
      },
      "source": [
        "# Solution\n",
        "import pandas as pd\n",
        "import numpy as np"
      ],
      "execution_count": null,
      "outputs": []
    },
    {
      "cell_type": "markdown",
      "metadata": {
        "id": "DzT7km_-tTKZ"
      },
      "source": [
        "**[1.2]** Create a variable called file_url containing the link to the CSV file and load the dataset into dataframe called df"
      ]
    },
    {
      "cell_type": "code",
      "metadata": {
        "id": "hgWX6pTstTTb"
      },
      "source": [
        "# Placeholder for student's code"
      ],
      "execution_count": null,
      "outputs": []
    },
    {
      "cell_type": "code",
      "metadata": {
        "id": "lF-hsEINtTkK"
      },
      "source": [
        "# Solution\n",
        "file_url = 'https://raw.githubusercontent.com/aso-uts/mlaa/main/datasets/lab4/ex1/Sydney_Weather_BOM.csv'\n",
        "df = pd.read_csv(file_url)"
      ],
      "execution_count": null,
      "outputs": []
    },
    {
      "cell_type": "code",
      "source": [
        "# Unit Tests\n",
        "assert isinstance(file_url, str)\n",
        "assert isinstance(df, pd.DataFrame)"
      ],
      "metadata": {
        "id": "O-V22YvPuPG_"
      },
      "execution_count": null,
      "outputs": []
    },
    {
      "cell_type": "markdown",
      "metadata": {
        "id": "3_LcXROJtzuB"
      },
      "source": [
        "**[1.3]** Display the first 5 rows of df\n"
      ]
    },
    {
      "cell_type": "code",
      "metadata": {
        "id": "D8yWhrkVtzy3"
      },
      "source": [
        "# Placeholder for student's code"
      ],
      "execution_count": null,
      "outputs": []
    },
    {
      "cell_type": "code",
      "metadata": {
        "id": "UQCI2nkSK_Cw",
        "colab": {
          "base_uri": "https://localhost:8080/",
          "height": 357
        },
        "outputId": "9421b033-ba21-4d9a-8d30-969c81b34cfd"
      },
      "source": [
        "# Solution\n",
        "df.head()"
      ],
      "execution_count": null,
      "outputs": [
        {
          "output_type": "execute_result",
          "data": {
            "text/plain": [
              "         date  min_temperature_c  max_temperature_c  rainfall_mm  \\\n",
              "0  2019-05-01               17.9               22.5          0.0   \n",
              "1  2019-05-02               19.5               24.1          0.0   \n",
              "2  2019-05-03               19.2               24.1          0.0   \n",
              "3  2019-05-04               17.3               23.1         10.8   \n",
              "4  2019-05-05               12.0               19.1          0.0   \n",
              "\n",
              "   evaporation_mm  sunshine_hours  max_wind_speed_kmh  max_pressure_hpa  \\\n",
              "0             5.4             1.9                35.0            1022.6   \n",
              "1             3.4             1.7                33.0            1025.8   \n",
              "2             3.4             0.7                31.0            1019.1   \n",
              "3             2.4             5.8                39.0            1015.9   \n",
              "4             4.8             5.5                76.0            1017.6   \n",
              "\n",
              "  rain_today rain_tomorrow  \n",
              "0         NO            NO  \n",
              "1         NO            NO  \n",
              "2         NO           YES  \n",
              "3        YES            NO  \n",
              "4         NO           YES  "
            ],
            "text/html": [
              "\n",
              "  <div id=\"df-e29ccd07-1ed0-4860-a811-8c5082e8c643\">\n",
              "    <div class=\"colab-df-container\">\n",
              "      <div>\n",
              "<style scoped>\n",
              "    .dataframe tbody tr th:only-of-type {\n",
              "        vertical-align: middle;\n",
              "    }\n",
              "\n",
              "    .dataframe tbody tr th {\n",
              "        vertical-align: top;\n",
              "    }\n",
              "\n",
              "    .dataframe thead th {\n",
              "        text-align: right;\n",
              "    }\n",
              "</style>\n",
              "<table border=\"1\" class=\"dataframe\">\n",
              "  <thead>\n",
              "    <tr style=\"text-align: right;\">\n",
              "      <th></th>\n",
              "      <th>date</th>\n",
              "      <th>min_temperature_c</th>\n",
              "      <th>max_temperature_c</th>\n",
              "      <th>rainfall_mm</th>\n",
              "      <th>evaporation_mm</th>\n",
              "      <th>sunshine_hours</th>\n",
              "      <th>max_wind_speed_kmh</th>\n",
              "      <th>max_pressure_hpa</th>\n",
              "      <th>rain_today</th>\n",
              "      <th>rain_tomorrow</th>\n",
              "    </tr>\n",
              "  </thead>\n",
              "  <tbody>\n",
              "    <tr>\n",
              "      <th>0</th>\n",
              "      <td>2019-05-01</td>\n",
              "      <td>17.9</td>\n",
              "      <td>22.5</td>\n",
              "      <td>0.0</td>\n",
              "      <td>5.4</td>\n",
              "      <td>1.9</td>\n",
              "      <td>35.0</td>\n",
              "      <td>1022.6</td>\n",
              "      <td>NO</td>\n",
              "      <td>NO</td>\n",
              "    </tr>\n",
              "    <tr>\n",
              "      <th>1</th>\n",
              "      <td>2019-05-02</td>\n",
              "      <td>19.5</td>\n",
              "      <td>24.1</td>\n",
              "      <td>0.0</td>\n",
              "      <td>3.4</td>\n",
              "      <td>1.7</td>\n",
              "      <td>33.0</td>\n",
              "      <td>1025.8</td>\n",
              "      <td>NO</td>\n",
              "      <td>NO</td>\n",
              "    </tr>\n",
              "    <tr>\n",
              "      <th>2</th>\n",
              "      <td>2019-05-03</td>\n",
              "      <td>19.2</td>\n",
              "      <td>24.1</td>\n",
              "      <td>0.0</td>\n",
              "      <td>3.4</td>\n",
              "      <td>0.7</td>\n",
              "      <td>31.0</td>\n",
              "      <td>1019.1</td>\n",
              "      <td>NO</td>\n",
              "      <td>YES</td>\n",
              "    </tr>\n",
              "    <tr>\n",
              "      <th>3</th>\n",
              "      <td>2019-05-04</td>\n",
              "      <td>17.3</td>\n",
              "      <td>23.1</td>\n",
              "      <td>10.8</td>\n",
              "      <td>2.4</td>\n",
              "      <td>5.8</td>\n",
              "      <td>39.0</td>\n",
              "      <td>1015.9</td>\n",
              "      <td>YES</td>\n",
              "      <td>NO</td>\n",
              "    </tr>\n",
              "    <tr>\n",
              "      <th>4</th>\n",
              "      <td>2019-05-05</td>\n",
              "      <td>12.0</td>\n",
              "      <td>19.1</td>\n",
              "      <td>0.0</td>\n",
              "      <td>4.8</td>\n",
              "      <td>5.5</td>\n",
              "      <td>76.0</td>\n",
              "      <td>1017.6</td>\n",
              "      <td>NO</td>\n",
              "      <td>YES</td>\n",
              "    </tr>\n",
              "  </tbody>\n",
              "</table>\n",
              "</div>\n",
              "      <button class=\"colab-df-convert\" onclick=\"convertToInteractive('df-e29ccd07-1ed0-4860-a811-8c5082e8c643')\"\n",
              "              title=\"Convert this dataframe to an interactive table.\"\n",
              "              style=\"display:none;\">\n",
              "        \n",
              "  <svg xmlns=\"http://www.w3.org/2000/svg\" height=\"24px\"viewBox=\"0 0 24 24\"\n",
              "       width=\"24px\">\n",
              "    <path d=\"M0 0h24v24H0V0z\" fill=\"none\"/>\n",
              "    <path d=\"M18.56 5.44l.94 2.06.94-2.06 2.06-.94-2.06-.94-.94-2.06-.94 2.06-2.06.94zm-11 1L8.5 8.5l.94-2.06 2.06-.94-2.06-.94L8.5 2.5l-.94 2.06-2.06.94zm10 10l.94 2.06.94-2.06 2.06-.94-2.06-.94-.94-2.06-.94 2.06-2.06.94z\"/><path d=\"M17.41 7.96l-1.37-1.37c-.4-.4-.92-.59-1.43-.59-.52 0-1.04.2-1.43.59L10.3 9.45l-7.72 7.72c-.78.78-.78 2.05 0 2.83L4 21.41c.39.39.9.59 1.41.59.51 0 1.02-.2 1.41-.59l7.78-7.78 2.81-2.81c.8-.78.8-2.07 0-2.86zM5.41 20L4 18.59l7.72-7.72 1.47 1.35L5.41 20z\"/>\n",
              "  </svg>\n",
              "      </button>\n",
              "      \n",
              "  <style>\n",
              "    .colab-df-container {\n",
              "      display:flex;\n",
              "      flex-wrap:wrap;\n",
              "      gap: 12px;\n",
              "    }\n",
              "\n",
              "    .colab-df-convert {\n",
              "      background-color: #E8F0FE;\n",
              "      border: none;\n",
              "      border-radius: 50%;\n",
              "      cursor: pointer;\n",
              "      display: none;\n",
              "      fill: #1967D2;\n",
              "      height: 32px;\n",
              "      padding: 0 0 0 0;\n",
              "      width: 32px;\n",
              "    }\n",
              "\n",
              "    .colab-df-convert:hover {\n",
              "      background-color: #E2EBFA;\n",
              "      box-shadow: 0px 1px 2px rgba(60, 64, 67, 0.3), 0px 1px 3px 1px rgba(60, 64, 67, 0.15);\n",
              "      fill: #174EA6;\n",
              "    }\n",
              "\n",
              "    [theme=dark] .colab-df-convert {\n",
              "      background-color: #3B4455;\n",
              "      fill: #D2E3FC;\n",
              "    }\n",
              "\n",
              "    [theme=dark] .colab-df-convert:hover {\n",
              "      background-color: #434B5C;\n",
              "      box-shadow: 0px 1px 3px 1px rgba(0, 0, 0, 0.15);\n",
              "      filter: drop-shadow(0px 1px 2px rgba(0, 0, 0, 0.3));\n",
              "      fill: #FFFFFF;\n",
              "    }\n",
              "  </style>\n",
              "\n",
              "      <script>\n",
              "        const buttonEl =\n",
              "          document.querySelector('#df-e29ccd07-1ed0-4860-a811-8c5082e8c643 button.colab-df-convert');\n",
              "        buttonEl.style.display =\n",
              "          google.colab.kernel.accessAllowed ? 'block' : 'none';\n",
              "\n",
              "        async function convertToInteractive(key) {\n",
              "          const element = document.querySelector('#df-e29ccd07-1ed0-4860-a811-8c5082e8c643');\n",
              "          const dataTable =\n",
              "            await google.colab.kernel.invokeFunction('convertToInteractive',\n",
              "                                                     [key], {});\n",
              "          if (!dataTable) return;\n",
              "\n",
              "          const docLinkHtml = 'Like what you see? Visit the ' +\n",
              "            '<a target=\"_blank\" href=https://colab.research.google.com/notebooks/data_table.ipynb>data table notebook</a>'\n",
              "            + ' to learn more about interactive tables.';\n",
              "          element.innerHTML = '';\n",
              "          dataTable['output_type'] = 'display_data';\n",
              "          await google.colab.output.renderOutput(dataTable, element);\n",
              "          const docLink = document.createElement('div');\n",
              "          docLink.innerHTML = docLinkHtml;\n",
              "          element.appendChild(docLink);\n",
              "        }\n",
              "      </script>\n",
              "    </div>\n",
              "  </div>\n",
              "  "
            ]
          },
          "metadata": {},
          "execution_count": 180
        }
      ]
    },
    {
      "cell_type": "markdown",
      "metadata": {
        "id": "8Ck-nyJyK_ef"
      },
      "source": [
        "**[1.4]** Display the dimensions of df"
      ]
    },
    {
      "cell_type": "code",
      "metadata": {
        "id": "Mm7jYu5lvAwl"
      },
      "source": [
        "# Placeholder for student's code"
      ],
      "execution_count": null,
      "outputs": []
    },
    {
      "cell_type": "code",
      "metadata": {
        "id": "bVXzXR2Bxfvi",
        "colab": {
          "base_uri": "https://localhost:8080/"
        },
        "outputId": "3b91f8a4-f40a-4bd1-861d-441c0e39e24e"
      },
      "source": [
        "# Solution\n",
        "df.shape"
      ],
      "execution_count": null,
      "outputs": [
        {
          "output_type": "execute_result",
          "data": {
            "text/plain": [
              "(432, 10)"
            ]
          },
          "metadata": {},
          "execution_count": 182
        }
      ]
    },
    {
      "cell_type": "markdown",
      "metadata": {
        "id": "JNXwJBVPxws1"
      },
      "source": [
        "**[1.5]** Display the summary of df"
      ]
    },
    {
      "cell_type": "code",
      "metadata": {
        "id": "GGIESdPPvK50"
      },
      "source": [
        "# Placeholder for student's code"
      ],
      "execution_count": null,
      "outputs": []
    },
    {
      "cell_type": "code",
      "metadata": {
        "id": "DSzdprjXzlnN",
        "colab": {
          "base_uri": "https://localhost:8080/"
        },
        "outputId": "f39c5471-b4b8-419f-aebd-823140baa150"
      },
      "source": [
        "# Solution\n",
        "df.info()"
      ],
      "execution_count": null,
      "outputs": [
        {
          "output_type": "stream",
          "name": "stdout",
          "text": [
            "<class 'pandas.core.frame.DataFrame'>\n",
            "RangeIndex: 432 entries, 0 to 431\n",
            "Data columns (total 10 columns):\n",
            " #   Column              Non-Null Count  Dtype  \n",
            "---  ------              --------------  -----  \n",
            " 0   date                432 non-null    object \n",
            " 1   min_temperature_c   432 non-null    float64\n",
            " 2   max_temperature_c   432 non-null    float64\n",
            " 3   rainfall_mm         432 non-null    float64\n",
            " 4   evaporation_mm      419 non-null    float64\n",
            " 5   sunshine_hours      430 non-null    float64\n",
            " 6   max_wind_speed_kmh  422 non-null    float64\n",
            " 7   max_pressure_hpa    432 non-null    float64\n",
            " 8   rain_today          432 non-null    object \n",
            " 9   rain_tomorrow       432 non-null    object \n",
            "dtypes: float64(7), object(3)\n",
            "memory usage: 33.9+ KB\n"
          ]
        }
      ]
    },
    {
      "cell_type": "markdown",
      "metadata": {
        "id": "1UJCNeUmziyR"
      },
      "source": [
        "It seeems that we have a few columns with missing data (**evaporation_mm, sunshine_hours, max_wind_speed_kmh**)."
      ]
    },
    {
      "cell_type": "markdown",
      "metadata": {
        "id": "0MhNgwrTvitS"
      },
      "source": [
        "**[1.6]** Display the descriptive statictics of df\n"
      ]
    },
    {
      "cell_type": "code",
      "metadata": {
        "id": "nfT50d--vnLK"
      },
      "source": [
        "# Placeholder for student's code"
      ],
      "execution_count": null,
      "outputs": []
    },
    {
      "cell_type": "code",
      "metadata": {
        "id": "5uLDkH7D0xZa",
        "colab": {
          "base_uri": "https://localhost:8080/",
          "height": 300
        },
        "outputId": "d7b11dc6-30fc-4122-8bbe-771626513995"
      },
      "source": [
        "# Solution\n",
        "df.describe()"
      ],
      "execution_count": null,
      "outputs": [
        {
          "output_type": "execute_result",
          "data": {
            "text/plain": [
              "       min_temperature_c  max_temperature_c  rainfall_mm  evaporation_mm  \\\n",
              "count         432.000000         432.000000   432.000000      419.000000   \n",
              "mean           14.324074          23.090278     3.314352        5.371838   \n",
              "std             4.476080           4.606265    12.581730        3.100628   \n",
              "min             6.100000          14.100000     0.000000        0.000000   \n",
              "25%            10.600000          19.700000     0.000000        3.000000   \n",
              "50%            13.900000          22.800000     0.000000        4.600000   \n",
              "75%            18.400000          25.900000     0.400000        7.200000   \n",
              "max            24.800000          41.300000   176.000000       17.000000   \n",
              "\n",
              "       sunshine_hours  max_wind_speed_kmh  max_pressure_hpa  \n",
              "count      430.000000          422.000000        432.000000  \n",
              "mean         7.176512           42.308057       1019.272222  \n",
              "std          5.823038           14.937236          7.416347  \n",
              "min          0.000000            2.000000        994.500000  \n",
              "25%          4.200000           31.000000       1014.475000  \n",
              "50%          7.900000           39.000000       1019.400000  \n",
              "75%         10.100000           50.000000       1024.400000  \n",
              "max        100.000000          104.000000       1038.400000  "
            ],
            "text/html": [
              "\n",
              "  <div id=\"df-ba422c60-5a07-4208-9026-0e5a8b553b49\">\n",
              "    <div class=\"colab-df-container\">\n",
              "      <div>\n",
              "<style scoped>\n",
              "    .dataframe tbody tr th:only-of-type {\n",
              "        vertical-align: middle;\n",
              "    }\n",
              "\n",
              "    .dataframe tbody tr th {\n",
              "        vertical-align: top;\n",
              "    }\n",
              "\n",
              "    .dataframe thead th {\n",
              "        text-align: right;\n",
              "    }\n",
              "</style>\n",
              "<table border=\"1\" class=\"dataframe\">\n",
              "  <thead>\n",
              "    <tr style=\"text-align: right;\">\n",
              "      <th></th>\n",
              "      <th>min_temperature_c</th>\n",
              "      <th>max_temperature_c</th>\n",
              "      <th>rainfall_mm</th>\n",
              "      <th>evaporation_mm</th>\n",
              "      <th>sunshine_hours</th>\n",
              "      <th>max_wind_speed_kmh</th>\n",
              "      <th>max_pressure_hpa</th>\n",
              "    </tr>\n",
              "  </thead>\n",
              "  <tbody>\n",
              "    <tr>\n",
              "      <th>count</th>\n",
              "      <td>432.000000</td>\n",
              "      <td>432.000000</td>\n",
              "      <td>432.000000</td>\n",
              "      <td>419.000000</td>\n",
              "      <td>430.000000</td>\n",
              "      <td>422.000000</td>\n",
              "      <td>432.000000</td>\n",
              "    </tr>\n",
              "    <tr>\n",
              "      <th>mean</th>\n",
              "      <td>14.324074</td>\n",
              "      <td>23.090278</td>\n",
              "      <td>3.314352</td>\n",
              "      <td>5.371838</td>\n",
              "      <td>7.176512</td>\n",
              "      <td>42.308057</td>\n",
              "      <td>1019.272222</td>\n",
              "    </tr>\n",
              "    <tr>\n",
              "      <th>std</th>\n",
              "      <td>4.476080</td>\n",
              "      <td>4.606265</td>\n",
              "      <td>12.581730</td>\n",
              "      <td>3.100628</td>\n",
              "      <td>5.823038</td>\n",
              "      <td>14.937236</td>\n",
              "      <td>7.416347</td>\n",
              "    </tr>\n",
              "    <tr>\n",
              "      <th>min</th>\n",
              "      <td>6.100000</td>\n",
              "      <td>14.100000</td>\n",
              "      <td>0.000000</td>\n",
              "      <td>0.000000</td>\n",
              "      <td>0.000000</td>\n",
              "      <td>2.000000</td>\n",
              "      <td>994.500000</td>\n",
              "    </tr>\n",
              "    <tr>\n",
              "      <th>25%</th>\n",
              "      <td>10.600000</td>\n",
              "      <td>19.700000</td>\n",
              "      <td>0.000000</td>\n",
              "      <td>3.000000</td>\n",
              "      <td>4.200000</td>\n",
              "      <td>31.000000</td>\n",
              "      <td>1014.475000</td>\n",
              "    </tr>\n",
              "    <tr>\n",
              "      <th>50%</th>\n",
              "      <td>13.900000</td>\n",
              "      <td>22.800000</td>\n",
              "      <td>0.000000</td>\n",
              "      <td>4.600000</td>\n",
              "      <td>7.900000</td>\n",
              "      <td>39.000000</td>\n",
              "      <td>1019.400000</td>\n",
              "    </tr>\n",
              "    <tr>\n",
              "      <th>75%</th>\n",
              "      <td>18.400000</td>\n",
              "      <td>25.900000</td>\n",
              "      <td>0.400000</td>\n",
              "      <td>7.200000</td>\n",
              "      <td>10.100000</td>\n",
              "      <td>50.000000</td>\n",
              "      <td>1024.400000</td>\n",
              "    </tr>\n",
              "    <tr>\n",
              "      <th>max</th>\n",
              "      <td>24.800000</td>\n",
              "      <td>41.300000</td>\n",
              "      <td>176.000000</td>\n",
              "      <td>17.000000</td>\n",
              "      <td>100.000000</td>\n",
              "      <td>104.000000</td>\n",
              "      <td>1038.400000</td>\n",
              "    </tr>\n",
              "  </tbody>\n",
              "</table>\n",
              "</div>\n",
              "      <button class=\"colab-df-convert\" onclick=\"convertToInteractive('df-ba422c60-5a07-4208-9026-0e5a8b553b49')\"\n",
              "              title=\"Convert this dataframe to an interactive table.\"\n",
              "              style=\"display:none;\">\n",
              "        \n",
              "  <svg xmlns=\"http://www.w3.org/2000/svg\" height=\"24px\"viewBox=\"0 0 24 24\"\n",
              "       width=\"24px\">\n",
              "    <path d=\"M0 0h24v24H0V0z\" fill=\"none\"/>\n",
              "    <path d=\"M18.56 5.44l.94 2.06.94-2.06 2.06-.94-2.06-.94-.94-2.06-.94 2.06-2.06.94zm-11 1L8.5 8.5l.94-2.06 2.06-.94-2.06-.94L8.5 2.5l-.94 2.06-2.06.94zm10 10l.94 2.06.94-2.06 2.06-.94-2.06-.94-.94-2.06-.94 2.06-2.06.94z\"/><path d=\"M17.41 7.96l-1.37-1.37c-.4-.4-.92-.59-1.43-.59-.52 0-1.04.2-1.43.59L10.3 9.45l-7.72 7.72c-.78.78-.78 2.05 0 2.83L4 21.41c.39.39.9.59 1.41.59.51 0 1.02-.2 1.41-.59l7.78-7.78 2.81-2.81c.8-.78.8-2.07 0-2.86zM5.41 20L4 18.59l7.72-7.72 1.47 1.35L5.41 20z\"/>\n",
              "  </svg>\n",
              "      </button>\n",
              "      \n",
              "  <style>\n",
              "    .colab-df-container {\n",
              "      display:flex;\n",
              "      flex-wrap:wrap;\n",
              "      gap: 12px;\n",
              "    }\n",
              "\n",
              "    .colab-df-convert {\n",
              "      background-color: #E8F0FE;\n",
              "      border: none;\n",
              "      border-radius: 50%;\n",
              "      cursor: pointer;\n",
              "      display: none;\n",
              "      fill: #1967D2;\n",
              "      height: 32px;\n",
              "      padding: 0 0 0 0;\n",
              "      width: 32px;\n",
              "    }\n",
              "\n",
              "    .colab-df-convert:hover {\n",
              "      background-color: #E2EBFA;\n",
              "      box-shadow: 0px 1px 2px rgba(60, 64, 67, 0.3), 0px 1px 3px 1px rgba(60, 64, 67, 0.15);\n",
              "      fill: #174EA6;\n",
              "    }\n",
              "\n",
              "    [theme=dark] .colab-df-convert {\n",
              "      background-color: #3B4455;\n",
              "      fill: #D2E3FC;\n",
              "    }\n",
              "\n",
              "    [theme=dark] .colab-df-convert:hover {\n",
              "      background-color: #434B5C;\n",
              "      box-shadow: 0px 1px 3px 1px rgba(0, 0, 0, 0.15);\n",
              "      filter: drop-shadow(0px 1px 2px rgba(0, 0, 0, 0.3));\n",
              "      fill: #FFFFFF;\n",
              "    }\n",
              "  </style>\n",
              "\n",
              "      <script>\n",
              "        const buttonEl =\n",
              "          document.querySelector('#df-ba422c60-5a07-4208-9026-0e5a8b553b49 button.colab-df-convert');\n",
              "        buttonEl.style.display =\n",
              "          google.colab.kernel.accessAllowed ? 'block' : 'none';\n",
              "\n",
              "        async function convertToInteractive(key) {\n",
              "          const element = document.querySelector('#df-ba422c60-5a07-4208-9026-0e5a8b553b49');\n",
              "          const dataTable =\n",
              "            await google.colab.kernel.invokeFunction('convertToInteractive',\n",
              "                                                     [key], {});\n",
              "          if (!dataTable) return;\n",
              "\n",
              "          const docLinkHtml = 'Like what you see? Visit the ' +\n",
              "            '<a target=\"_blank\" href=https://colab.research.google.com/notebooks/data_table.ipynb>data table notebook</a>'\n",
              "            + ' to learn more about interactive tables.';\n",
              "          element.innerHTML = '';\n",
              "          dataTable['output_type'] = 'display_data';\n",
              "          await google.colab.output.renderOutput(dataTable, element);\n",
              "          const docLink = document.createElement('div');\n",
              "          docLink.innerHTML = docLinkHtml;\n",
              "          element.appendChild(docLink);\n",
              "        }\n",
              "      </script>\n",
              "    </div>\n",
              "  </div>\n",
              "  "
            ]
          },
          "metadata": {},
          "execution_count": 186
        }
      ]
    },
    {
      "cell_type": "markdown",
      "metadata": {
        "id": "8ximPkB_elvd"
      },
      "source": [
        "The column \"**sunshine_hours**\" have an issue as its maximum value is 100 hours. Obviously one day contains only 24 hours.\n",
        "\n"
      ]
    },
    {
      "cell_type": "markdown",
      "metadata": {
        "id": "sLT4FEhRfqct"
      },
      "source": [
        "## 2. Data Cleaning"
      ]
    },
    {
      "cell_type": "markdown",
      "metadata": {
        "id": "IrRvEG_S0bT4"
      },
      "source": [
        "**[2.1]** Create a copy of the dataframe"
      ]
    },
    {
      "cell_type": "code",
      "source": [
        "# Placeholder for student's code"
      ],
      "metadata": {
        "id": "ERc6nXMwnFty"
      },
      "execution_count": null,
      "outputs": []
    },
    {
      "cell_type": "code",
      "metadata": {
        "id": "Bp9-uS7M0bZM"
      },
      "source": [
        "# Solution\n",
        "df_cleaned = df.copy()"
      ],
      "execution_count": null,
      "outputs": []
    },
    {
      "cell_type": "code",
      "source": [
        "# Unit Tests\n",
        "assert isinstance(df_cleaned, pd.DataFrame)\n",
        "assert df_cleaned.shape == df.shape"
      ],
      "metadata": {
        "id": "d51PUu5ruYSI"
      },
      "execution_count": null,
      "outputs": []
    },
    {
      "cell_type": "markdown",
      "metadata": {
        "id": "HwORH37GfvYT"
      },
      "source": [
        "**[2.2]** Create a filtering mask that will find the observations with less or equal to 24 hours of sunshine"
      ]
    },
    {
      "cell_type": "code",
      "metadata": {
        "id": "SMUwgksnf87k",
        "colab": {
          "base_uri": "https://localhost:8080/"
        },
        "outputId": "78483ce4-1a8f-4890-9a40-8f186a7672ba"
      },
      "source": [
        "correct_sunshine = df_cleaned['sunshine_hours'] <= 24\n",
        "correct_sunshine"
      ],
      "execution_count": null,
      "outputs": [
        {
          "output_type": "execute_result",
          "data": {
            "text/plain": [
              "0      True\n",
              "1      True\n",
              "2      True\n",
              "3      True\n",
              "4      True\n",
              "       ... \n",
              "427    True\n",
              "428    True\n",
              "429    True\n",
              "430    True\n",
              "431    True\n",
              "Name: sunshine_hours, Length: 432, dtype: bool"
            ]
          },
          "metadata": {},
          "execution_count": 190
        }
      ]
    },
    {
      "cell_type": "code",
      "source": [
        "# Unit Tests\n",
        "assert correct_sunshine.sum() == 429"
      ],
      "metadata": {
        "id": "JHmcaO8mucBK"
      },
      "execution_count": null,
      "outputs": []
    },
    {
      "cell_type": "markdown",
      "metadata": {
        "id": "L163nawsDsW2"
      },
      "source": [
        "**[2.3]** Filter out the observations with over 24 hours of sunshine"
      ]
    },
    {
      "cell_type": "code",
      "metadata": {
        "id": "yEgC1TLcDsdy"
      },
      "source": [
        "df_cleaned = df_cleaned[correct_sunshine]"
      ],
      "execution_count": null,
      "outputs": []
    },
    {
      "cell_type": "markdown",
      "metadata": {
        "id": "3HNbBiREEO0X"
      },
      "source": [
        "**[2.4]** Print the list of distinct values of rain_today and rain_tomorrow"
      ]
    },
    {
      "cell_type": "code",
      "source": [
        "# Placeholder for student's code"
      ],
      "metadata": {
        "id": "Ue_vK8B6ngys"
      },
      "execution_count": null,
      "outputs": []
    },
    {
      "cell_type": "code",
      "metadata": {
        "id": "feVW6t5XhwiN",
        "colab": {
          "base_uri": "https://localhost:8080/"
        },
        "outputId": "7c19313d-0263-4e9d-aa36-834c9bc9dcdb"
      },
      "source": [
        "# Solution\n",
        "print(df_cleaned.rain_today.unique())\n",
        "print(df_cleaned.rain_tomorrow.unique())"
      ],
      "execution_count": null,
      "outputs": [
        {
          "output_type": "stream",
          "name": "stdout",
          "text": [
            "['NO' 'YES' 'no' 'yes' 'Yes']\n",
            "['NO' 'YES' 'yes' 'no' 'Yes']\n"
          ]
        }
      ]
    },
    {
      "cell_type": "markdown",
      "metadata": {
        "id": "az2czyPXiX2j"
      },
      "source": [
        "Both \"**rain_today**\" and \"**rain_tomorrow**\" are binary and should only have 2 values. We have multiple variants of the same values \"**yes**\" or \"**no**\".\n",
        "\n",
        "**[2.5]** Re-map all values of rain_today and rain_tomorrow to binary outcome (either 0 or 1):"
      ]
    },
    {
      "cell_type": "code",
      "source": [
        "# Placeholder for student's code"
      ],
      "metadata": {
        "id": "9Ec22R1unqtw"
      },
      "execution_count": null,
      "outputs": []
    },
    {
      "cell_type": "code",
      "metadata": {
        "id": "nToj2WbYjLF_"
      },
      "source": [
        "# Solution\n",
        "df_cleaned.rain_today = df_cleaned.rain_today.map( {'YES':1 ,'yes':1 ,'Yes':1 ,'NO':0,'no':0} )\n",
        "df_cleaned.rain_tomorrow = df_cleaned.rain_tomorrow.map( {'YES':1 ,'yes':1 ,'Yes':1 ,'NO':0,'no':0} )"
      ],
      "execution_count": null,
      "outputs": []
    },
    {
      "cell_type": "markdown",
      "metadata": {
        "id": "Blx8Ih2xFBe2"
      },
      "source": [
        "**[2.6]** Print the distinct values of rain_today and rain_tomorrow"
      ]
    },
    {
      "cell_type": "code",
      "metadata": {
        "id": "7bbMEImXjjxW"
      },
      "source": [
        "# Placeholder for student's code"
      ],
      "execution_count": null,
      "outputs": []
    },
    {
      "cell_type": "code",
      "metadata": {
        "id": "82VCq58Ujpbw",
        "colab": {
          "base_uri": "https://localhost:8080/"
        },
        "outputId": "020cfb1d-09f8-4aec-f111-9f40b2618e9d"
      },
      "source": [
        "# Solution\n",
        "print(df_cleaned.rain_today.unique())\n",
        "print(df_cleaned.rain_tomorrow.unique())"
      ],
      "execution_count": null,
      "outputs": [
        {
          "output_type": "stream",
          "name": "stdout",
          "text": [
            "[0 1]\n",
            "[0 1]\n"
          ]
        }
      ]
    },
    {
      "cell_type": "code",
      "source": [
        "# Unit Tests\n",
        "assert list(df_cleaned.rain_today.unique()) == [0, 1]\n",
        "assert list(df_cleaned.rain_tomorrow.unique()) == [0, 1]"
      ],
      "metadata": {
        "id": "LLc0dKgpulY7"
      },
      "execution_count": null,
      "outputs": []
    },
    {
      "cell_type": "markdown",
      "metadata": {
        "id": "Rb1TMVaSjz0z"
      },
      "source": [
        "**[2.7]** Find all the duplicated rows in the dataframe"
      ]
    },
    {
      "cell_type": "code",
      "source": [
        "# Placeholder for student's code"
      ],
      "metadata": {
        "id": "dPjX3m3Pn8Io"
      },
      "execution_count": null,
      "outputs": []
    },
    {
      "cell_type": "code",
      "metadata": {
        "id": "tvLCEI_2kW44",
        "colab": {
          "base_uri": "https://localhost:8080/",
          "height": 357
        },
        "outputId": "3079194c-3903-4044-c8a1-ec3545850cfc"
      },
      "source": [
        "# Solution\n",
        "dup = df_cleaned.duplicated()\n",
        "df_cleaned[dup]"
      ],
      "execution_count": null,
      "outputs": [
        {
          "output_type": "execute_result",
          "data": {
            "text/plain": [
              "           date  min_temperature_c  max_temperature_c  rainfall_mm  \\\n",
              "103  2019-08-11                8.8               16.1          0.0   \n",
              "142  2019-09-18               10.6               17.9         65.6   \n",
              "184  2019-10-29               13.9               24.5          0.0   \n",
              "252  2020-01-04               21.3               35.9          0.0   \n",
              "261  2020-01-12               19.2               22.2          0.0   \n",
              "\n",
              "     evaporation_mm  sunshine_hours  max_wind_speed_kmh  max_pressure_hpa  \\\n",
              "103             5.6             6.6                56.0            1003.7   \n",
              "142             NaN             0.1                57.0            1025.4   \n",
              "184             5.4            12.2                46.0            1024.2   \n",
              "252            15.4            10.5                81.0            1010.4   \n",
              "261             6.4             0.0                37.0            1018.5   \n",
              "\n",
              "     rain_today  rain_tomorrow  \n",
              "103           0              1  \n",
              "142           1              1  \n",
              "184           0              0  \n",
              "252           0              0  \n",
              "261           0              1  "
            ],
            "text/html": [
              "\n",
              "  <div id=\"df-7a91eaa9-346e-4038-8889-4c504efab55a\">\n",
              "    <div class=\"colab-df-container\">\n",
              "      <div>\n",
              "<style scoped>\n",
              "    .dataframe tbody tr th:only-of-type {\n",
              "        vertical-align: middle;\n",
              "    }\n",
              "\n",
              "    .dataframe tbody tr th {\n",
              "        vertical-align: top;\n",
              "    }\n",
              "\n",
              "    .dataframe thead th {\n",
              "        text-align: right;\n",
              "    }\n",
              "</style>\n",
              "<table border=\"1\" class=\"dataframe\">\n",
              "  <thead>\n",
              "    <tr style=\"text-align: right;\">\n",
              "      <th></th>\n",
              "      <th>date</th>\n",
              "      <th>min_temperature_c</th>\n",
              "      <th>max_temperature_c</th>\n",
              "      <th>rainfall_mm</th>\n",
              "      <th>evaporation_mm</th>\n",
              "      <th>sunshine_hours</th>\n",
              "      <th>max_wind_speed_kmh</th>\n",
              "      <th>max_pressure_hpa</th>\n",
              "      <th>rain_today</th>\n",
              "      <th>rain_tomorrow</th>\n",
              "    </tr>\n",
              "  </thead>\n",
              "  <tbody>\n",
              "    <tr>\n",
              "      <th>103</th>\n",
              "      <td>2019-08-11</td>\n",
              "      <td>8.8</td>\n",
              "      <td>16.1</td>\n",
              "      <td>0.0</td>\n",
              "      <td>5.6</td>\n",
              "      <td>6.6</td>\n",
              "      <td>56.0</td>\n",
              "      <td>1003.7</td>\n",
              "      <td>0</td>\n",
              "      <td>1</td>\n",
              "    </tr>\n",
              "    <tr>\n",
              "      <th>142</th>\n",
              "      <td>2019-09-18</td>\n",
              "      <td>10.6</td>\n",
              "      <td>17.9</td>\n",
              "      <td>65.6</td>\n",
              "      <td>NaN</td>\n",
              "      <td>0.1</td>\n",
              "      <td>57.0</td>\n",
              "      <td>1025.4</td>\n",
              "      <td>1</td>\n",
              "      <td>1</td>\n",
              "    </tr>\n",
              "    <tr>\n",
              "      <th>184</th>\n",
              "      <td>2019-10-29</td>\n",
              "      <td>13.9</td>\n",
              "      <td>24.5</td>\n",
              "      <td>0.0</td>\n",
              "      <td>5.4</td>\n",
              "      <td>12.2</td>\n",
              "      <td>46.0</td>\n",
              "      <td>1024.2</td>\n",
              "      <td>0</td>\n",
              "      <td>0</td>\n",
              "    </tr>\n",
              "    <tr>\n",
              "      <th>252</th>\n",
              "      <td>2020-01-04</td>\n",
              "      <td>21.3</td>\n",
              "      <td>35.9</td>\n",
              "      <td>0.0</td>\n",
              "      <td>15.4</td>\n",
              "      <td>10.5</td>\n",
              "      <td>81.0</td>\n",
              "      <td>1010.4</td>\n",
              "      <td>0</td>\n",
              "      <td>0</td>\n",
              "    </tr>\n",
              "    <tr>\n",
              "      <th>261</th>\n",
              "      <td>2020-01-12</td>\n",
              "      <td>19.2</td>\n",
              "      <td>22.2</td>\n",
              "      <td>0.0</td>\n",
              "      <td>6.4</td>\n",
              "      <td>0.0</td>\n",
              "      <td>37.0</td>\n",
              "      <td>1018.5</td>\n",
              "      <td>0</td>\n",
              "      <td>1</td>\n",
              "    </tr>\n",
              "  </tbody>\n",
              "</table>\n",
              "</div>\n",
              "      <button class=\"colab-df-convert\" onclick=\"convertToInteractive('df-7a91eaa9-346e-4038-8889-4c504efab55a')\"\n",
              "              title=\"Convert this dataframe to an interactive table.\"\n",
              "              style=\"display:none;\">\n",
              "        \n",
              "  <svg xmlns=\"http://www.w3.org/2000/svg\" height=\"24px\"viewBox=\"0 0 24 24\"\n",
              "       width=\"24px\">\n",
              "    <path d=\"M0 0h24v24H0V0z\" fill=\"none\"/>\n",
              "    <path d=\"M18.56 5.44l.94 2.06.94-2.06 2.06-.94-2.06-.94-.94-2.06-.94 2.06-2.06.94zm-11 1L8.5 8.5l.94-2.06 2.06-.94-2.06-.94L8.5 2.5l-.94 2.06-2.06.94zm10 10l.94 2.06.94-2.06 2.06-.94-2.06-.94-.94-2.06-.94 2.06-2.06.94z\"/><path d=\"M17.41 7.96l-1.37-1.37c-.4-.4-.92-.59-1.43-.59-.52 0-1.04.2-1.43.59L10.3 9.45l-7.72 7.72c-.78.78-.78 2.05 0 2.83L4 21.41c.39.39.9.59 1.41.59.51 0 1.02-.2 1.41-.59l7.78-7.78 2.81-2.81c.8-.78.8-2.07 0-2.86zM5.41 20L4 18.59l7.72-7.72 1.47 1.35L5.41 20z\"/>\n",
              "  </svg>\n",
              "      </button>\n",
              "      \n",
              "  <style>\n",
              "    .colab-df-container {\n",
              "      display:flex;\n",
              "      flex-wrap:wrap;\n",
              "      gap: 12px;\n",
              "    }\n",
              "\n",
              "    .colab-df-convert {\n",
              "      background-color: #E8F0FE;\n",
              "      border: none;\n",
              "      border-radius: 50%;\n",
              "      cursor: pointer;\n",
              "      display: none;\n",
              "      fill: #1967D2;\n",
              "      height: 32px;\n",
              "      padding: 0 0 0 0;\n",
              "      width: 32px;\n",
              "    }\n",
              "\n",
              "    .colab-df-convert:hover {\n",
              "      background-color: #E2EBFA;\n",
              "      box-shadow: 0px 1px 2px rgba(60, 64, 67, 0.3), 0px 1px 3px 1px rgba(60, 64, 67, 0.15);\n",
              "      fill: #174EA6;\n",
              "    }\n",
              "\n",
              "    [theme=dark] .colab-df-convert {\n",
              "      background-color: #3B4455;\n",
              "      fill: #D2E3FC;\n",
              "    }\n",
              "\n",
              "    [theme=dark] .colab-df-convert:hover {\n",
              "      background-color: #434B5C;\n",
              "      box-shadow: 0px 1px 3px 1px rgba(0, 0, 0, 0.15);\n",
              "      filter: drop-shadow(0px 1px 2px rgba(0, 0, 0, 0.3));\n",
              "      fill: #FFFFFF;\n",
              "    }\n",
              "  </style>\n",
              "\n",
              "      <script>\n",
              "        const buttonEl =\n",
              "          document.querySelector('#df-7a91eaa9-346e-4038-8889-4c504efab55a button.colab-df-convert');\n",
              "        buttonEl.style.display =\n",
              "          google.colab.kernel.accessAllowed ? 'block' : 'none';\n",
              "\n",
              "        async function convertToInteractive(key) {\n",
              "          const element = document.querySelector('#df-7a91eaa9-346e-4038-8889-4c504efab55a');\n",
              "          const dataTable =\n",
              "            await google.colab.kernel.invokeFunction('convertToInteractive',\n",
              "                                                     [key], {});\n",
              "          if (!dataTable) return;\n",
              "\n",
              "          const docLinkHtml = 'Like what you see? Visit the ' +\n",
              "            '<a target=\"_blank\" href=https://colab.research.google.com/notebooks/data_table.ipynb>data table notebook</a>'\n",
              "            + ' to learn more about interactive tables.';\n",
              "          element.innerHTML = '';\n",
              "          dataTable['output_type'] = 'display_data';\n",
              "          await google.colab.output.renderOutput(dataTable, element);\n",
              "          const docLink = document.createElement('div');\n",
              "          docLink.innerHTML = docLinkHtml;\n",
              "          element.appendChild(docLink);\n",
              "        }\n",
              "      </script>\n",
              "    </div>\n",
              "  </div>\n",
              "  "
            ]
          },
          "metadata": {},
          "execution_count": 201
        }
      ]
    },
    {
      "cell_type": "markdown",
      "metadata": {
        "id": "F1x5I1rakmT4"
      },
      "source": [
        "**[2.8]** Remove all duplicated rows from the dataframe"
      ]
    },
    {
      "cell_type": "code",
      "source": [
        "# Placeholder for student's code"
      ],
      "metadata": {
        "id": "1l_2wpE4oHog"
      },
      "execution_count": null,
      "outputs": []
    },
    {
      "cell_type": "code",
      "metadata": {
        "id": "ycruhwz6kwh9"
      },
      "source": [
        "# Solution\n",
        "df_cleaned.drop_duplicates(inplace=True)"
      ],
      "execution_count": null,
      "outputs": []
    },
    {
      "cell_type": "code",
      "source": [
        "# Unit Tests\n",
        "assert df_cleaned.duplicated().sum() == 0"
      ],
      "metadata": {
        "id": "iLZk85DnvgDC"
      },
      "execution_count": null,
      "outputs": []
    },
    {
      "cell_type": "markdown",
      "metadata": {
        "id": "_Pq3vwGuk7Rm"
      },
      "source": [
        "**[2.9]** Print the range of values for the date column using the \"**.min()**\" and \"**.max()**\" functions"
      ]
    },
    {
      "cell_type": "code",
      "metadata": {
        "id": "xEqTiNilk6qd"
      },
      "source": [
        "# Placeholder for student's code"
      ],
      "execution_count": null,
      "outputs": []
    },
    {
      "cell_type": "code",
      "metadata": {
        "id": "evkYip4dlxBH",
        "colab": {
          "base_uri": "https://localhost:8080/"
        },
        "outputId": "0087fd2f-9b3a-402e-8671-f8f815f93efe"
      },
      "source": [
        "# Solution\n",
        "print(df_cleaned.date.min())\n",
        "print(df_cleaned.date.max())"
      ],
      "execution_count": null,
      "outputs": [
        {
          "output_type": "stream",
          "name": "stdout",
          "text": [
            "2019-05-01\n",
            "2120-03-16\n"
          ]
        }
      ]
    },
    {
      "cell_type": "code",
      "source": [
        "# Unit Tests\n",
        "assert str(df_cleaned.date.min()) == \"2019-05-01\"\n",
        "assert str(df_cleaned.date.max()) == \"2120-03-16\""
      ],
      "metadata": {
        "id": "7btoRsFQvH4J"
      },
      "execution_count": null,
      "outputs": []
    },
    {
      "cell_type": "markdown",
      "metadata": {
        "id": "CAo8hojul1t5"
      },
      "source": [
        "Our date should be between May 2019 and June 2020, clearly we have some wrong dates."
      ]
    },
    {
      "cell_type": "markdown",
      "metadata": {
        "id": "38sYpzRjtDEU"
      },
      "source": [
        "**[2.10]** Print all the rows with dates after June 2020"
      ]
    },
    {
      "cell_type": "code",
      "metadata": {
        "id": "6yqcQ6tOtOZh"
      },
      "source": [
        "# Placeholder for student's code"
      ],
      "execution_count": null,
      "outputs": []
    },
    {
      "cell_type": "code",
      "metadata": {
        "id": "gR9w7VQPmT_U",
        "colab": {
          "base_uri": "https://localhost:8080/",
          "height": 162
        },
        "outputId": "ec1f6f9c-83be-44ff-9376-f97e17b78e88"
      },
      "source": [
        "# Solution\n",
        "df_cleaned[df_cleaned['date'] > '2020-06-30']"
      ],
      "execution_count": null,
      "outputs": [
        {
          "output_type": "execute_result",
          "data": {
            "text/plain": [
              "           date  min_temperature_c  max_temperature_c  rainfall_mm  \\\n",
              "325  2120-03-16               15.9               22.3         12.6   \n",
              "\n",
              "     evaporation_mm  sunshine_hours  max_wind_speed_kmh  max_pressure_hpa  \\\n",
              "325             3.4             3.3                48.0            1025.4   \n",
              "\n",
              "     rain_today  rain_tomorrow  \n",
              "325           1              1  "
            ],
            "text/html": [
              "\n",
              "  <div id=\"df-6eaccb14-0d3f-4111-88bd-8d02620dce34\">\n",
              "    <div class=\"colab-df-container\">\n",
              "      <div>\n",
              "<style scoped>\n",
              "    .dataframe tbody tr th:only-of-type {\n",
              "        vertical-align: middle;\n",
              "    }\n",
              "\n",
              "    .dataframe tbody tr th {\n",
              "        vertical-align: top;\n",
              "    }\n",
              "\n",
              "    .dataframe thead th {\n",
              "        text-align: right;\n",
              "    }\n",
              "</style>\n",
              "<table border=\"1\" class=\"dataframe\">\n",
              "  <thead>\n",
              "    <tr style=\"text-align: right;\">\n",
              "      <th></th>\n",
              "      <th>date</th>\n",
              "      <th>min_temperature_c</th>\n",
              "      <th>max_temperature_c</th>\n",
              "      <th>rainfall_mm</th>\n",
              "      <th>evaporation_mm</th>\n",
              "      <th>sunshine_hours</th>\n",
              "      <th>max_wind_speed_kmh</th>\n",
              "      <th>max_pressure_hpa</th>\n",
              "      <th>rain_today</th>\n",
              "      <th>rain_tomorrow</th>\n",
              "    </tr>\n",
              "  </thead>\n",
              "  <tbody>\n",
              "    <tr>\n",
              "      <th>325</th>\n",
              "      <td>2120-03-16</td>\n",
              "      <td>15.9</td>\n",
              "      <td>22.3</td>\n",
              "      <td>12.6</td>\n",
              "      <td>3.4</td>\n",
              "      <td>3.3</td>\n",
              "      <td>48.0</td>\n",
              "      <td>1025.4</td>\n",
              "      <td>1</td>\n",
              "      <td>1</td>\n",
              "    </tr>\n",
              "  </tbody>\n",
              "</table>\n",
              "</div>\n",
              "      <button class=\"colab-df-convert\" onclick=\"convertToInteractive('df-6eaccb14-0d3f-4111-88bd-8d02620dce34')\"\n",
              "              title=\"Convert this dataframe to an interactive table.\"\n",
              "              style=\"display:none;\">\n",
              "        \n",
              "  <svg xmlns=\"http://www.w3.org/2000/svg\" height=\"24px\"viewBox=\"0 0 24 24\"\n",
              "       width=\"24px\">\n",
              "    <path d=\"M0 0h24v24H0V0z\" fill=\"none\"/>\n",
              "    <path d=\"M18.56 5.44l.94 2.06.94-2.06 2.06-.94-2.06-.94-.94-2.06-.94 2.06-2.06.94zm-11 1L8.5 8.5l.94-2.06 2.06-.94-2.06-.94L8.5 2.5l-.94 2.06-2.06.94zm10 10l.94 2.06.94-2.06 2.06-.94-2.06-.94-.94-2.06-.94 2.06-2.06.94z\"/><path d=\"M17.41 7.96l-1.37-1.37c-.4-.4-.92-.59-1.43-.59-.52 0-1.04.2-1.43.59L10.3 9.45l-7.72 7.72c-.78.78-.78 2.05 0 2.83L4 21.41c.39.39.9.59 1.41.59.51 0 1.02-.2 1.41-.59l7.78-7.78 2.81-2.81c.8-.78.8-2.07 0-2.86zM5.41 20L4 18.59l7.72-7.72 1.47 1.35L5.41 20z\"/>\n",
              "  </svg>\n",
              "      </button>\n",
              "      \n",
              "  <style>\n",
              "    .colab-df-container {\n",
              "      display:flex;\n",
              "      flex-wrap:wrap;\n",
              "      gap: 12px;\n",
              "    }\n",
              "\n",
              "    .colab-df-convert {\n",
              "      background-color: #E8F0FE;\n",
              "      border: none;\n",
              "      border-radius: 50%;\n",
              "      cursor: pointer;\n",
              "      display: none;\n",
              "      fill: #1967D2;\n",
              "      height: 32px;\n",
              "      padding: 0 0 0 0;\n",
              "      width: 32px;\n",
              "    }\n",
              "\n",
              "    .colab-df-convert:hover {\n",
              "      background-color: #E2EBFA;\n",
              "      box-shadow: 0px 1px 2px rgba(60, 64, 67, 0.3), 0px 1px 3px 1px rgba(60, 64, 67, 0.15);\n",
              "      fill: #174EA6;\n",
              "    }\n",
              "\n",
              "    [theme=dark] .colab-df-convert {\n",
              "      background-color: #3B4455;\n",
              "      fill: #D2E3FC;\n",
              "    }\n",
              "\n",
              "    [theme=dark] .colab-df-convert:hover {\n",
              "      background-color: #434B5C;\n",
              "      box-shadow: 0px 1px 3px 1px rgba(0, 0, 0, 0.15);\n",
              "      filter: drop-shadow(0px 1px 2px rgba(0, 0, 0, 0.3));\n",
              "      fill: #FFFFFF;\n",
              "    }\n",
              "  </style>\n",
              "\n",
              "      <script>\n",
              "        const buttonEl =\n",
              "          document.querySelector('#df-6eaccb14-0d3f-4111-88bd-8d02620dce34 button.colab-df-convert');\n",
              "        buttonEl.style.display =\n",
              "          google.colab.kernel.accessAllowed ? 'block' : 'none';\n",
              "\n",
              "        async function convertToInteractive(key) {\n",
              "          const element = document.querySelector('#df-6eaccb14-0d3f-4111-88bd-8d02620dce34');\n",
              "          const dataTable =\n",
              "            await google.colab.kernel.invokeFunction('convertToInteractive',\n",
              "                                                     [key], {});\n",
              "          if (!dataTable) return;\n",
              "\n",
              "          const docLinkHtml = 'Like what you see? Visit the ' +\n",
              "            '<a target=\"_blank\" href=https://colab.research.google.com/notebooks/data_table.ipynb>data table notebook</a>'\n",
              "            + ' to learn more about interactive tables.';\n",
              "          element.innerHTML = '';\n",
              "          dataTable['output_type'] = 'display_data';\n",
              "          await google.colab.output.renderOutput(dataTable, element);\n",
              "          const docLink = document.createElement('div');\n",
              "          docLink.innerHTML = docLinkHtml;\n",
              "          element.appendChild(docLink);\n",
              "        }\n",
              "      </script>\n",
              "    </div>\n",
              "  </div>\n",
              "  "
            ]
          },
          "metadata": {},
          "execution_count": 209
        }
      ]
    },
    {
      "cell_type": "markdown",
      "metadata": {
        "id": "fcUxYLQBmwZ9"
      },
      "source": [
        "The data seem correct except for the date. Maybe the year was entered incorrectly and it should refer to \"2020-03-16\". Let's see if this date does exist"
      ]
    },
    {
      "cell_type": "markdown",
      "metadata": {
        "id": "hXiReZAOtot6"
      },
      "source": [
        "**[2.11]** Print all the rows with dates equal to '2020-03-16'"
      ]
    },
    {
      "cell_type": "code",
      "metadata": {
        "id": "5858Mphuto27"
      },
      "source": [
        "# Placeholder for student's code"
      ],
      "execution_count": null,
      "outputs": []
    },
    {
      "cell_type": "code",
      "metadata": {
        "id": "ambHApJym91z",
        "colab": {
          "base_uri": "https://localhost:8080/",
          "height": 113
        },
        "outputId": "bac40fe9-90fa-49ee-a686-7dab6589ade4"
      },
      "source": [
        "# Solution\n",
        "df_cleaned[df_cleaned['date'] == '2020-03-16']"
      ],
      "execution_count": null,
      "outputs": [
        {
          "output_type": "execute_result",
          "data": {
            "text/plain": [
              "Empty DataFrame\n",
              "Columns: [date, min_temperature_c, max_temperature_c, rainfall_mm, evaporation_mm, sunshine_hours, max_wind_speed_kmh, max_pressure_hpa, rain_today, rain_tomorrow]\n",
              "Index: []"
            ],
            "text/html": [
              "\n",
              "  <div id=\"df-e0385694-60c5-48ca-a977-5bc0614d019d\">\n",
              "    <div class=\"colab-df-container\">\n",
              "      <div>\n",
              "<style scoped>\n",
              "    .dataframe tbody tr th:only-of-type {\n",
              "        vertical-align: middle;\n",
              "    }\n",
              "\n",
              "    .dataframe tbody tr th {\n",
              "        vertical-align: top;\n",
              "    }\n",
              "\n",
              "    .dataframe thead th {\n",
              "        text-align: right;\n",
              "    }\n",
              "</style>\n",
              "<table border=\"1\" class=\"dataframe\">\n",
              "  <thead>\n",
              "    <tr style=\"text-align: right;\">\n",
              "      <th></th>\n",
              "      <th>date</th>\n",
              "      <th>min_temperature_c</th>\n",
              "      <th>max_temperature_c</th>\n",
              "      <th>rainfall_mm</th>\n",
              "      <th>evaporation_mm</th>\n",
              "      <th>sunshine_hours</th>\n",
              "      <th>max_wind_speed_kmh</th>\n",
              "      <th>max_pressure_hpa</th>\n",
              "      <th>rain_today</th>\n",
              "      <th>rain_tomorrow</th>\n",
              "    </tr>\n",
              "  </thead>\n",
              "  <tbody>\n",
              "  </tbody>\n",
              "</table>\n",
              "</div>\n",
              "      <button class=\"colab-df-convert\" onclick=\"convertToInteractive('df-e0385694-60c5-48ca-a977-5bc0614d019d')\"\n",
              "              title=\"Convert this dataframe to an interactive table.\"\n",
              "              style=\"display:none;\">\n",
              "        \n",
              "  <svg xmlns=\"http://www.w3.org/2000/svg\" height=\"24px\"viewBox=\"0 0 24 24\"\n",
              "       width=\"24px\">\n",
              "    <path d=\"M0 0h24v24H0V0z\" fill=\"none\"/>\n",
              "    <path d=\"M18.56 5.44l.94 2.06.94-2.06 2.06-.94-2.06-.94-.94-2.06-.94 2.06-2.06.94zm-11 1L8.5 8.5l.94-2.06 2.06-.94-2.06-.94L8.5 2.5l-.94 2.06-2.06.94zm10 10l.94 2.06.94-2.06 2.06-.94-2.06-.94-.94-2.06-.94 2.06-2.06.94z\"/><path d=\"M17.41 7.96l-1.37-1.37c-.4-.4-.92-.59-1.43-.59-.52 0-1.04.2-1.43.59L10.3 9.45l-7.72 7.72c-.78.78-.78 2.05 0 2.83L4 21.41c.39.39.9.59 1.41.59.51 0 1.02-.2 1.41-.59l7.78-7.78 2.81-2.81c.8-.78.8-2.07 0-2.86zM5.41 20L4 18.59l7.72-7.72 1.47 1.35L5.41 20z\"/>\n",
              "  </svg>\n",
              "      </button>\n",
              "      \n",
              "  <style>\n",
              "    .colab-df-container {\n",
              "      display:flex;\n",
              "      flex-wrap:wrap;\n",
              "      gap: 12px;\n",
              "    }\n",
              "\n",
              "    .colab-df-convert {\n",
              "      background-color: #E8F0FE;\n",
              "      border: none;\n",
              "      border-radius: 50%;\n",
              "      cursor: pointer;\n",
              "      display: none;\n",
              "      fill: #1967D2;\n",
              "      height: 32px;\n",
              "      padding: 0 0 0 0;\n",
              "      width: 32px;\n",
              "    }\n",
              "\n",
              "    .colab-df-convert:hover {\n",
              "      background-color: #E2EBFA;\n",
              "      box-shadow: 0px 1px 2px rgba(60, 64, 67, 0.3), 0px 1px 3px 1px rgba(60, 64, 67, 0.15);\n",
              "      fill: #174EA6;\n",
              "    }\n",
              "\n",
              "    [theme=dark] .colab-df-convert {\n",
              "      background-color: #3B4455;\n",
              "      fill: #D2E3FC;\n",
              "    }\n",
              "\n",
              "    [theme=dark] .colab-df-convert:hover {\n",
              "      background-color: #434B5C;\n",
              "      box-shadow: 0px 1px 3px 1px rgba(0, 0, 0, 0.15);\n",
              "      filter: drop-shadow(0px 1px 2px rgba(0, 0, 0, 0.3));\n",
              "      fill: #FFFFFF;\n",
              "    }\n",
              "  </style>\n",
              "\n",
              "      <script>\n",
              "        const buttonEl =\n",
              "          document.querySelector('#df-e0385694-60c5-48ca-a977-5bc0614d019d button.colab-df-convert');\n",
              "        buttonEl.style.display =\n",
              "          google.colab.kernel.accessAllowed ? 'block' : 'none';\n",
              "\n",
              "        async function convertToInteractive(key) {\n",
              "          const element = document.querySelector('#df-e0385694-60c5-48ca-a977-5bc0614d019d');\n",
              "          const dataTable =\n",
              "            await google.colab.kernel.invokeFunction('convertToInteractive',\n",
              "                                                     [key], {});\n",
              "          if (!dataTable) return;\n",
              "\n",
              "          const docLinkHtml = 'Like what you see? Visit the ' +\n",
              "            '<a target=\"_blank\" href=https://colab.research.google.com/notebooks/data_table.ipynb>data table notebook</a>'\n",
              "            + ' to learn more about interactive tables.';\n",
              "          element.innerHTML = '';\n",
              "          dataTable['output_type'] = 'display_data';\n",
              "          await google.colab.output.renderOutput(dataTable, element);\n",
              "          const docLink = document.createElement('div');\n",
              "          docLink.innerHTML = docLinkHtml;\n",
              "          element.appendChild(docLink);\n",
              "        }\n",
              "      </script>\n",
              "    </div>\n",
              "  </div>\n",
              "  "
            ]
          },
          "metadata": {},
          "execution_count": 211
        }
      ]
    },
    {
      "cell_type": "markdown",
      "metadata": {
        "id": "IoYMvRSqnR5P"
      },
      "source": [
        "There is no data for \"2020-03-16\", we can assume \"2120-03-16\" is actually referring to this date."
      ]
    },
    {
      "cell_type": "markdown",
      "metadata": {
        "id": "hsRIF6x4t9m3"
      },
      "source": [
        "**[2.12]** Replace '2021-03-16' by '2020-03-16' in the dataframe"
      ]
    },
    {
      "cell_type": "code",
      "metadata": {
        "id": "9Axq35c6t9vM"
      },
      "source": [
        "# Placeholder for student's code"
      ],
      "execution_count": null,
      "outputs": []
    },
    {
      "cell_type": "code",
      "metadata": {
        "id": "Y6-8wLyRnhH2"
      },
      "source": [
        "# Solution\n",
        "df_cleaned['date'].replace({'2120-03-16': '2020-03-16'}, inplace=True)"
      ],
      "execution_count": null,
      "outputs": []
    },
    {
      "cell_type": "code",
      "source": [
        "# Unit Tests\n",
        "assert str(df_cleaned.date.max()) == \"2020-06-30\""
      ],
      "metadata": {
        "id": "8SAiTyMBvv_n"
      },
      "execution_count": null,
      "outputs": []
    },
    {
      "cell_type": "markdown",
      "metadata": {
        "id": "Xn1np3VWulIf"
      },
      "source": [
        "**[2.13]** Remove all observation with missing values:"
      ]
    },
    {
      "cell_type": "code",
      "source": [
        "# Placeholder for student's code"
      ],
      "metadata": {
        "id": "s3f0ftpVoblh"
      },
      "execution_count": null,
      "outputs": []
    },
    {
      "cell_type": "code",
      "metadata": {
        "id": "rLjX-NPHD_H5"
      },
      "source": [
        "# Solution\n",
        "df_cleaned.dropna(how='any', inplace=True)"
      ],
      "execution_count": null,
      "outputs": []
    },
    {
      "cell_type": "code",
      "source": [
        "# Unit Tests\n",
        "assert df_cleaned.isna().sum().all() == 0"
      ],
      "metadata": {
        "id": "SSfV7aBYv8X-"
      },
      "execution_count": null,
      "outputs": []
    },
    {
      "cell_type": "markdown",
      "source": [
        "## 3. Data Splitting"
      ],
      "metadata": {
        "id": "zQvGUYHjpdIc"
      }
    },
    {
      "cell_type": "markdown",
      "source": [
        "**[3.1]** Extract the target variable into a variable called y"
      ],
      "metadata": {
        "id": "rbwbeQ_sp6j7"
      }
    },
    {
      "cell_type": "code",
      "source": [
        "# Placeholder for student's code"
      ],
      "metadata": {
        "id": "BCy2OWeWp6sh"
      },
      "execution_count": null,
      "outputs": []
    },
    {
      "cell_type": "code",
      "source": [
        "# Solution\n",
        "y = df_cleaned.pop('rain_tomorrow')"
      ],
      "metadata": {
        "id": "cRgGsQdEp6vD"
      },
      "execution_count": null,
      "outputs": []
    },
    {
      "cell_type": "code",
      "source": [
        "# Unit Tests\n",
        "assert isinstance(y, pd.Series)\n",
        "assert y.shape == (402, )"
      ],
      "metadata": {
        "id": "uDn4mnhwwbNq"
      },
      "execution_count": null,
      "outputs": []
    },
    {
      "cell_type": "markdown",
      "source": [
        "**[3.2]** Create a variable called X that contains all the variables"
      ],
      "metadata": {
        "id": "rZsFg3_4p7Aq"
      }
    },
    {
      "cell_type": "code",
      "source": [
        "# Placeholder for student's code"
      ],
      "metadata": {
        "id": "t3vKsMcQp7GO"
      },
      "execution_count": null,
      "outputs": []
    },
    {
      "cell_type": "code",
      "source": [
        "# Solution\n",
        "X = df_cleaned"
      ],
      "metadata": {
        "id": "4eoyGAKjp7I5"
      },
      "execution_count": null,
      "outputs": []
    },
    {
      "cell_type": "code",
      "source": [
        "# Unit Tests\n",
        "assert isinstance(X, pd.DataFrame)\n",
        "assert X.shape == (402, 9)"
      ],
      "metadata": {
        "id": "AfJHH6QZworm"
      },
      "execution_count": null,
      "outputs": []
    },
    {
      "cell_type": "markdown",
      "source": [
        "**[3.3]** Import train_test_split from sklearn.model_selection"
      ],
      "metadata": {
        "id": "zUmFVXCgopZb"
      }
    },
    {
      "cell_type": "code",
      "source": [
        "# Placeholder for student's code"
      ],
      "metadata": {
        "id": "ygQiS5ZoopiT"
      },
      "execution_count": null,
      "outputs": []
    },
    {
      "cell_type": "code",
      "source": [
        "# Solution\n",
        "from sklearn.model_selection import train_test_split"
      ],
      "metadata": {
        "id": "hsx5ZcaPopla"
      },
      "execution_count": null,
      "outputs": []
    },
    {
      "cell_type": "markdown",
      "source": [
        "**[3.4]** Split the features and target variable into 2 different sets (data and test) with 90-10 ratio"
      ],
      "metadata": {
        "id": "KxfbCkMupAUw"
      }
    },
    {
      "cell_type": "code",
      "source": [
        "# Placeholder for student's code"
      ],
      "metadata": {
        "id": "4sl86Yw5pAdT"
      },
      "execution_count": null,
      "outputs": []
    },
    {
      "cell_type": "code",
      "source": [
        "# Solution\n",
        "X_data, X_test, y_data, y_test = train_test_split(X, y, test_size=0.1, random_state=42)"
      ],
      "metadata": {
        "id": "yc5r_p9DpAjP"
      },
      "execution_count": null,
      "outputs": []
    },
    {
      "cell_type": "code",
      "source": [
        "# Unit Tests\n",
        "assert isinstance(X_data, pd.DataFrame)\n",
        "assert X_data.shape == (361, 9)\n",
        "assert isinstance(X_test, pd.DataFrame)\n",
        "assert X_test.shape == (41, 9)\n",
        "assert isinstance(y_data, pd.Series)\n",
        "assert y_data.shape == (361, )\n",
        "assert isinstance(y_test, pd.Series)\n",
        "assert y_test.shape == (41, )"
      ],
      "metadata": {
        "id": "LermAmYC0Kkt"
      },
      "execution_count": null,
      "outputs": []
    },
    {
      "cell_type": "markdown",
      "source": [
        "**[3.5]** Split the features and target variable into 2 different sets (training and validation) with 90-10 ratio"
      ],
      "metadata": {
        "id": "9zXh4Lwvzud-"
      }
    },
    {
      "cell_type": "code",
      "source": [
        "# Placeholder for student's code"
      ],
      "metadata": {
        "id": "z5ceDfRrzulp"
      },
      "execution_count": null,
      "outputs": []
    },
    {
      "cell_type": "code",
      "source": [
        "# Solution\n",
        "X_train, X_val, y_train, y_val = train_test_split(X_data, y_data, test_size=0.1, random_state=42)"
      ],
      "metadata": {
        "id": "L9O5-Jrfzurq"
      },
      "execution_count": null,
      "outputs": []
    },
    {
      "cell_type": "code",
      "source": [
        "# Unit Tests\n",
        "assert isinstance(X_train, pd.DataFrame)\n",
        "assert X_train.shape == (324, 9)\n",
        "assert isinstance(X_val, pd.DataFrame)\n",
        "assert X_val.shape == (37, 9)\n",
        "assert isinstance(y_train, pd.Series)\n",
        "assert y_train.shape == (324, )\n",
        "assert isinstance(y_val, pd.Series)\n",
        "assert y_val.shape == (37, )"
      ],
      "metadata": {
        "id": "g-yDgTz00UTm"
      },
      "execution_count": null,
      "outputs": []
    },
    {
      "cell_type": "markdown",
      "source": [
        "**[3.6]** Drop the `date` column from the different sets"
      ],
      "metadata": {
        "id": "vh2msqZuDxx5"
      }
    },
    {
      "cell_type": "code",
      "source": [
        "# Placeholder for student's code"
      ],
      "metadata": {
        "id": "YyOLnJxvDx9b"
      },
      "execution_count": null,
      "outputs": []
    },
    {
      "cell_type": "code",
      "source": [
        "# Solution\n",
        "X_train.drop(['date'], axis=1, inplace=True)\n",
        "X_val.drop(['date'], axis=1, inplace=True)\n",
        "X_test.drop(['date'], axis=1, inplace=True)"
      ],
      "metadata": {
        "id": "WfnDelhWDyAM"
      },
      "execution_count": null,
      "outputs": []
    },
    {
      "cell_type": "code",
      "source": [
        "# Unit Tests\n",
        "assert X_train.shape == (324, 8)\n",
        "assert X_val.shape == (37, 8)\n",
        "assert X_test.shape == (41, 8)"
      ],
      "metadata": {
        "id": "XxtbWgQO5CaX"
      },
      "execution_count": null,
      "outputs": []
    },
    {
      "cell_type": "markdown",
      "metadata": {
        "id": "kMRWpCx3ufxA"
      },
      "source": [
        "## 4. Assess Baseline Model"
      ]
    },
    {
      "cell_type": "markdown",
      "metadata": {
        "id": "EZ60Q2QHu9yC"
      },
      "source": [
        "**[4.1]** Find the mode of the target variable and save it into a variable called y_mode"
      ]
    },
    {
      "cell_type": "code",
      "metadata": {
        "id": "m90ihjvAu93d"
      },
      "source": [
        "# Placeholder for student's code"
      ],
      "execution_count": null,
      "outputs": []
    },
    {
      "cell_type": "code",
      "metadata": {
        "id": "1Lx1X71bvntB"
      },
      "source": [
        "# Solution\n",
        "y_mode = y.mode()"
      ],
      "execution_count": null,
      "outputs": []
    },
    {
      "cell_type": "markdown",
      "metadata": {
        "id": "6wh75y7Ww1qd"
      },
      "source": [
        "**[4.2]** Create a numpy array called y_base filled with this value of same length of y_train"
      ]
    },
    {
      "cell_type": "code",
      "metadata": {
        "id": "1jtRML09w1w5"
      },
      "source": [
        "# Placeholder for student's code"
      ],
      "execution_count": null,
      "outputs": []
    },
    {
      "cell_type": "code",
      "metadata": {
        "id": "B5HLNw5Cw14u"
      },
      "source": [
        "# Solution\n",
        "y_base = np.full(y_train.shape, y_mode)"
      ],
      "execution_count": null,
      "outputs": []
    },
    {
      "cell_type": "code",
      "source": [
        "# Unit Tests\n",
        "assert isinstance(y_base, np.ndarray)\n",
        "assert y_base.shape == y_train.shape"
      ],
      "metadata": {
        "id": "37aiRyFI0oJ8"
      },
      "execution_count": null,
      "outputs": []
    },
    {
      "cell_type": "markdown",
      "metadata": {
        "id": "wngrRmKaxhte"
      },
      "source": [
        "**[4.3]** Import the accuracy score from sklearn"
      ]
    },
    {
      "cell_type": "code",
      "metadata": {
        "id": "9YFTyM9kxh2F"
      },
      "source": [
        "# Placeholder for student's code"
      ],
      "execution_count": null,
      "outputs": []
    },
    {
      "cell_type": "code",
      "metadata": {
        "id": "H-tSBvnAxh52"
      },
      "source": [
        "# Solution\n",
        "from sklearn.metrics import accuracy_score"
      ],
      "execution_count": null,
      "outputs": []
    },
    {
      "cell_type": "markdown",
      "metadata": {
        "id": "wn4LS3VhyE-G"
      },
      "source": [
        "**[4.4]** Display the accuracy score of this baseline model using the training set"
      ]
    },
    {
      "cell_type": "code",
      "metadata": {
        "id": "6ZURh4GByFGG"
      },
      "source": [
        "# Placeholder for student's code"
      ],
      "execution_count": null,
      "outputs": []
    },
    {
      "cell_type": "code",
      "metadata": {
        "id": "yNQ4k5PAyFJw",
        "colab": {
          "base_uri": "https://localhost:8080/"
        },
        "outputId": "733487be-8908-4bdd-d18d-7adef7b00e5d"
      },
      "source": [
        "# Solution\n",
        "accuracy_score(y_train, y_base)"
      ],
      "execution_count": null,
      "outputs": [
        {
          "output_type": "execute_result",
          "data": {
            "text/plain": [
              "0.6604938271604939"
            ]
          },
          "metadata": {},
          "execution_count": 243
        }
      ]
    },
    {
      "cell_type": "markdown",
      "metadata": {
        "id": "q8Qg3HNztX6h"
      },
      "source": [
        "## 5. Train Logistic Regression Classifier"
      ]
    },
    {
      "cell_type": "markdown",
      "metadata": {
        "id": "evP9J3-i2Ja3"
      },
      "source": [
        "**[5.1]** Import the LogisticRegression class from sklearn"
      ]
    },
    {
      "cell_type": "code",
      "metadata": {
        "id": "1pBzsGDx2ScU"
      },
      "source": [
        "# Placeholder for student's code"
      ],
      "execution_count": null,
      "outputs": []
    },
    {
      "cell_type": "code",
      "metadata": {
        "id": "-0ZfY2yC2JiG"
      },
      "source": [
        "# Solution\n",
        "from sklearn.linear_model import LogisticRegression"
      ],
      "execution_count": null,
      "outputs": []
    },
    {
      "cell_type": "markdown",
      "metadata": {
        "id": "08pMDobUxCRW"
      },
      "source": [
        "**[5.2]** Instantiate our model\n",
        "\n"
      ]
    },
    {
      "cell_type": "code",
      "metadata": {
        "id": "ue6g_9to21RF"
      },
      "source": [
        "# Placeholder for student's code"
      ],
      "execution_count": null,
      "outputs": []
    },
    {
      "cell_type": "code",
      "metadata": {
        "id": "Kmymp4S18MqY"
      },
      "source": [
        "# Solution\n",
        "log_reg = LogisticRegression()"
      ],
      "execution_count": null,
      "outputs": []
    },
    {
      "cell_type": "markdown",
      "metadata": {
        "id": "tzsXr-kT2qlt"
      },
      "source": [
        "**[5.3]** Fit our model with the training data"
      ]
    },
    {
      "cell_type": "code",
      "metadata": {
        "id": "JoCni2Ps2-C4"
      },
      "source": [
        "# Placeholder for student's code"
      ],
      "execution_count": null,
      "outputs": []
    },
    {
      "cell_type": "code",
      "metadata": {
        "id": "7E9zg--h2qr8",
        "colab": {
          "base_uri": "https://localhost:8080/",
          "height": 213
        },
        "outputId": "934d048e-6136-4789-c1d5-8b02808895c1"
      },
      "source": [
        "# Solution\n",
        "log_reg.fit(X_train, y_train)"
      ],
      "execution_count": null,
      "outputs": [
        {
          "output_type": "stream",
          "name": "stderr",
          "text": [
            "/usr/local/lib/python3.9/dist-packages/sklearn/linear_model/_logistic.py:458: ConvergenceWarning: lbfgs failed to converge (status=1):\n",
            "STOP: TOTAL NO. of ITERATIONS REACHED LIMIT.\n",
            "\n",
            "Increase the number of iterations (max_iter) or scale the data as shown in:\n",
            "    https://scikit-learn.org/stable/modules/preprocessing.html\n",
            "Please also refer to the documentation for alternative solver options:\n",
            "    https://scikit-learn.org/stable/modules/linear_model.html#logistic-regression\n",
            "  n_iter_i = _check_optimize_result(\n"
          ]
        },
        {
          "output_type": "execute_result",
          "data": {
            "text/plain": [
              "LogisticRegression()"
            ],
            "text/html": [
              "<style>#sk-container-id-3 {color: black;background-color: white;}#sk-container-id-3 pre{padding: 0;}#sk-container-id-3 div.sk-toggleable {background-color: white;}#sk-container-id-3 label.sk-toggleable__label {cursor: pointer;display: block;width: 100%;margin-bottom: 0;padding: 0.3em;box-sizing: border-box;text-align: center;}#sk-container-id-3 label.sk-toggleable__label-arrow:before {content: \"▸\";float: left;margin-right: 0.25em;color: #696969;}#sk-container-id-3 label.sk-toggleable__label-arrow:hover:before {color: black;}#sk-container-id-3 div.sk-estimator:hover label.sk-toggleable__label-arrow:before {color: black;}#sk-container-id-3 div.sk-toggleable__content {max-height: 0;max-width: 0;overflow: hidden;text-align: left;background-color: #f0f8ff;}#sk-container-id-3 div.sk-toggleable__content pre {margin: 0.2em;color: black;border-radius: 0.25em;background-color: #f0f8ff;}#sk-container-id-3 input.sk-toggleable__control:checked~div.sk-toggleable__content {max-height: 200px;max-width: 100%;overflow: auto;}#sk-container-id-3 input.sk-toggleable__control:checked~label.sk-toggleable__label-arrow:before {content: \"▾\";}#sk-container-id-3 div.sk-estimator input.sk-toggleable__control:checked~label.sk-toggleable__label {background-color: #d4ebff;}#sk-container-id-3 div.sk-label input.sk-toggleable__control:checked~label.sk-toggleable__label {background-color: #d4ebff;}#sk-container-id-3 input.sk-hidden--visually {border: 0;clip: rect(1px 1px 1px 1px);clip: rect(1px, 1px, 1px, 1px);height: 1px;margin: -1px;overflow: hidden;padding: 0;position: absolute;width: 1px;}#sk-container-id-3 div.sk-estimator {font-family: monospace;background-color: #f0f8ff;border: 1px dotted black;border-radius: 0.25em;box-sizing: border-box;margin-bottom: 0.5em;}#sk-container-id-3 div.sk-estimator:hover {background-color: #d4ebff;}#sk-container-id-3 div.sk-parallel-item::after {content: \"\";width: 100%;border-bottom: 1px solid gray;flex-grow: 1;}#sk-container-id-3 div.sk-label:hover label.sk-toggleable__label {background-color: #d4ebff;}#sk-container-id-3 div.sk-serial::before {content: \"\";position: absolute;border-left: 1px solid gray;box-sizing: border-box;top: 0;bottom: 0;left: 50%;z-index: 0;}#sk-container-id-3 div.sk-serial {display: flex;flex-direction: column;align-items: center;background-color: white;padding-right: 0.2em;padding-left: 0.2em;position: relative;}#sk-container-id-3 div.sk-item {position: relative;z-index: 1;}#sk-container-id-3 div.sk-parallel {display: flex;align-items: stretch;justify-content: center;background-color: white;position: relative;}#sk-container-id-3 div.sk-item::before, #sk-container-id-3 div.sk-parallel-item::before {content: \"\";position: absolute;border-left: 1px solid gray;box-sizing: border-box;top: 0;bottom: 0;left: 50%;z-index: -1;}#sk-container-id-3 div.sk-parallel-item {display: flex;flex-direction: column;z-index: 1;position: relative;background-color: white;}#sk-container-id-3 div.sk-parallel-item:first-child::after {align-self: flex-end;width: 50%;}#sk-container-id-3 div.sk-parallel-item:last-child::after {align-self: flex-start;width: 50%;}#sk-container-id-3 div.sk-parallel-item:only-child::after {width: 0;}#sk-container-id-3 div.sk-dashed-wrapped {border: 1px dashed gray;margin: 0 0.4em 0.5em 0.4em;box-sizing: border-box;padding-bottom: 0.4em;background-color: white;}#sk-container-id-3 div.sk-label label {font-family: monospace;font-weight: bold;display: inline-block;line-height: 1.2em;}#sk-container-id-3 div.sk-label-container {text-align: center;}#sk-container-id-3 div.sk-container {/* jupyter's `normalize.less` sets `[hidden] { display: none; }` but bootstrap.min.css set `[hidden] { display: none !important; }` so we also need the `!important` here to be able to override the default hidden behavior on the sphinx rendered scikit-learn.org. See: https://github.com/scikit-learn/scikit-learn/issues/21755 */display: inline-block !important;position: relative;}#sk-container-id-3 div.sk-text-repr-fallback {display: none;}</style><div id=\"sk-container-id-3\" class=\"sk-top-container\"><div class=\"sk-text-repr-fallback\"><pre>LogisticRegression()</pre><b>In a Jupyter environment, please rerun this cell to show the HTML representation or trust the notebook. <br />On GitHub, the HTML representation is unable to render, please try loading this page with nbviewer.org.</b></div><div class=\"sk-container\" hidden><div class=\"sk-item\"><div class=\"sk-estimator sk-toggleable\"><input class=\"sk-toggleable__control sk-hidden--visually\" id=\"sk-estimator-id-3\" type=\"checkbox\" checked><label for=\"sk-estimator-id-3\" class=\"sk-toggleable__label sk-toggleable__label-arrow\">LogisticRegression</label><div class=\"sk-toggleable__content\"><pre>LogisticRegression()</pre></div></div></div></div></div>"
            ]
          },
          "metadata": {},
          "execution_count": 249
        }
      ]
    },
    {
      "cell_type": "markdown",
      "metadata": {
        "id": "AkNsZORVxo6C"
      },
      "source": [
        "**[5.4]** Use the trained model to predict the outcome on X_train and save them into y_preds"
      ]
    },
    {
      "cell_type": "code",
      "metadata": {
        "id": "RHDvuDNYc558"
      },
      "source": [
        "# Placeholder for student's code"
      ],
      "execution_count": null,
      "outputs": []
    },
    {
      "cell_type": "code",
      "source": [
        "# Solution\n",
        "y_train_preds = log_reg.predict(X_train)"
      ],
      "metadata": {
        "id": "UYPtdjnYEeNS"
      },
      "execution_count": null,
      "outputs": []
    },
    {
      "cell_type": "code",
      "source": [
        "# Unit Tests\n",
        "assert isinstance(y_train_preds, np.ndarray)\n",
        "assert y_train_preds.shape == y_train.shape"
      ],
      "metadata": {
        "id": "5ssQR3Gq009G"
      },
      "execution_count": null,
      "outputs": []
    },
    {
      "cell_type": "markdown",
      "source": [
        "**[5.5]** Display the accuracy score for the training set"
      ],
      "metadata": {
        "id": "i1QQ49hbEwFi"
      }
    },
    {
      "cell_type": "code",
      "source": [
        "# Placeholder for student's code"
      ],
      "metadata": {
        "id": "H7v-NPIcEwMi"
      },
      "execution_count": null,
      "outputs": []
    },
    {
      "cell_type": "code",
      "source": [
        "# Solution\n",
        "accuracy_score(y_train, y_train_preds)"
      ],
      "metadata": {
        "colab": {
          "base_uri": "https://localhost:8080/"
        },
        "id": "0i5839JUEwPF",
        "outputId": "34c232ca-37bc-4620-a466-823e74f07e7c"
      },
      "execution_count": null,
      "outputs": [
        {
          "output_type": "execute_result",
          "data": {
            "text/plain": [
              "0.8364197530864198"
            ]
          },
          "metadata": {},
          "execution_count": 254
        }
      ]
    },
    {
      "cell_type": "markdown",
      "source": [
        "**[5.6]** Display the accuracy score for the validation set"
      ],
      "metadata": {
        "id": "rWFktYO9EiQq"
      }
    },
    {
      "cell_type": "code",
      "source": [
        "# Placeholder for student's code"
      ],
      "metadata": {
        "id": "iE8Cmlb4FMDF"
      },
      "execution_count": null,
      "outputs": []
    },
    {
      "cell_type": "code",
      "source": [
        "# Solution\n",
        "y_val_preds = log_reg.predict(X_val)\n",
        "accuracy_score(y_val, y_val_preds)"
      ],
      "metadata": {
        "colab": {
          "base_uri": "https://localhost:8080/"
        },
        "id": "t7CghamLFMNO",
        "outputId": "457f7d2d-a326-4275-ca7a-c1edacb684f7"
      },
      "execution_count": null,
      "outputs": [
        {
          "output_type": "execute_result",
          "data": {
            "text/plain": [
              "0.7027027027027027"
            ]
          },
          "metadata": {},
          "execution_count": 256
        }
      ]
    },
    {
      "cell_type": "code",
      "source": [
        "# Unit Tests\n",
        "assert isinstance(y_val_preds, np.ndarray)\n",
        "assert y_val_preds.shape == y_val.shape"
      ],
      "metadata": {
        "id": "vaJxFiD309ia"
      },
      "execution_count": null,
      "outputs": []
    },
    {
      "cell_type": "markdown",
      "metadata": {
        "id": "-C8EEyQSyHQU"
      },
      "source": [
        "**[5.7]** Retrieve the probalitities for the first 10 predictions on the training set"
      ]
    },
    {
      "cell_type": "code",
      "metadata": {
        "id": "8Xi45rLH8MgZ",
        "colab": {
          "base_uri": "https://localhost:8080/"
        },
        "outputId": "cd881237-c525-4adb-fb77-fa6a6fb03ae0"
      },
      "source": [
        "log_reg.predict_proba(X_train[0:10])"
      ],
      "execution_count": null,
      "outputs": [
        {
          "output_type": "execute_result",
          "data": {
            "text/plain": [
              "array([[0.92014881, 0.07985119],\n",
              "       [0.3973158 , 0.6026842 ],\n",
              "       [0.15826048, 0.84173952],\n",
              "       [0.56923713, 0.43076287],\n",
              "       [0.89911403, 0.10088597],\n",
              "       [0.95570576, 0.04429424],\n",
              "       [0.97683008, 0.02316992],\n",
              "       [0.92857175, 0.07142825],\n",
              "       [0.76529832, 0.23470168],\n",
              "       [0.59353172, 0.40646828]])"
            ]
          },
          "metadata": {},
          "execution_count": 258
        }
      ]
    },
    {
      "cell_type": "code",
      "source": [
        "log_reg.predict(X_train[0:10])"
      ],
      "metadata": {
        "colab": {
          "base_uri": "https://localhost:8080/"
        },
        "id": "pqbYk98RvU9R",
        "outputId": "4b443d74-a1f4-4dec-81e9-ff2db48b8b28"
      },
      "execution_count": null,
      "outputs": [
        {
          "output_type": "execute_result",
          "data": {
            "text/plain": [
              "array([0, 1, 1, 0, 0, 0, 0, 0, 0, 0])"
            ]
          },
          "metadata": {},
          "execution_count": 259
        }
      ]
    }
  ]
}