{
  "nbformat": 4,
  "nbformat_minor": 0,
  "metadata": {
    "colab": {
      "provenance": [],
      "include_colab_link": true
    },
    "kernelspec": {
      "name": "python3",
      "display_name": "Python 3"
    }
  },
  "cells": [
    {
      "cell_type": "markdown",
      "metadata": {
        "id": "view-in-github",
        "colab_type": "text"
      },
      "source": [
        "<a href=\"https://colab.research.google.com/github/wongwara/AT2_Classification/blob/main/MLAA_Lab_5_Exercise_2_Solutions.ipynb\" target=\"_parent\"><img src=\"https://colab.research.google.com/assets/colab-badge.svg\" alt=\"Open In Colab\"/></a>"
      ]
    },
    {
      "cell_type": "markdown",
      "metadata": {
        "id": "uQ6wc2HE0pke"
      },
      "source": [
        "# **Lab 3: Multi-Class Classification**\n"
      ]
    },
    {
      "cell_type": "markdown",
      "metadata": {
        "id": "jWAeRQIfG-hW"
      },
      "source": [
        "## Exercise 2: Multi-class Classification with Decision Tree\n",
        "\n",
        "In this exercise, you will train a multi-class classifier using Decision Tree.\n",
        "\n",
        "We are going to use the same dataset as for Exercise 1\n",
        "\n",
        "You will import the prepared dataset from the following link:\n",
        "https://github.com/aso-uts/mlaa/blob/main/datasets/lab5/ex2\n",
        "\n",
        "The steps are:\n",
        "1.   Load and explore dataset\n",
        "2.   Train Decision Tree with Default Hyperparameters\n",
        "3.   Reduce Overfitting with min_sample_split\n",
        "4.   Reduce Further Overfitting with max_depth\n",
        "5.   Assess model on Testing Set"
      ]
    },
    {
      "cell_type": "markdown",
      "metadata": {
        "id": "GeVNxmhDXH5U"
      },
      "source": [
        "## 1. Load and Explore Dataset"
      ]
    },
    {
      "cell_type": "markdown",
      "metadata": {
        "id": "SFN7e-rzXpFy"
      },
      "source": [
        "**[1.2]** Import the pandas package"
      ]
    },
    {
      "cell_type": "code",
      "metadata": {
        "id": "jsJJfLP2XpLo"
      },
      "source": [
        "# Placeholder for student's code"
      ],
      "execution_count": null,
      "outputs": []
    },
    {
      "cell_type": "code",
      "metadata": {
        "id": "3LYQih7IXs3_"
      },
      "source": [
        "# Solution\n",
        "import pandas as pd"
      ],
      "execution_count": null,
      "outputs": []
    },
    {
      "cell_type": "markdown",
      "metadata": {
        "id": "K7VeL3XCXuuX"
      },
      "source": [
        "**[1.3]** Load the different prepared sets"
      ]
    },
    {
      "cell_type": "code",
      "source": [
        "# Placeholder for student's code"
      ],
      "metadata": {
        "id": "RGOazpdi5z9E"
      },
      "execution_count": null,
      "outputs": []
    },
    {
      "cell_type": "code",
      "metadata": {
        "id": "PKkWBSMqXu7q"
      },
      "source": [
        "# Solution\n",
        "X_train = pd.read_csv('https://raw.githubusercontent.com/aso-uts/mlaa/main/datasets/lab5/ex2/X_train.csv', index_col=0)\n",
        "X_val = pd.read_csv('https://raw.githubusercontent.com/aso-uts/mlaa/main/datasets/lab5/ex2/X_val.csv', index_col=0)\n",
        "X_test = pd.read_csv('https://raw.githubusercontent.com/aso-uts/mlaa/main/datasets/lab5/ex2/X_test.csv', index_col=0)\n",
        "y_train = pd.read_csv('https://raw.githubusercontent.com/aso-uts/mlaa/main/datasets/lab5/ex2/y_train.csv', index_col=0)\n",
        "y_val = pd.read_csv('https://raw.githubusercontent.com/aso-uts/mlaa/main/datasets/lab5/ex2/y_val.csv', index_col=0)\n",
        "y_test = pd.read_csv('https://raw.githubusercontent.com/aso-uts/mlaa/main/datasets/lab5/ex2/y_test.csv', index_col=0)"
      ],
      "execution_count": null,
      "outputs": []
    },
    {
      "cell_type": "markdown",
      "metadata": {
        "id": "wb721JdPX_bI"
      },
      "source": [
        "**[1.4]** Display the first 5 rows of X_train"
      ]
    },
    {
      "cell_type": "code",
      "metadata": {
        "id": "1NuysmwCX_jT"
      },
      "source": [
        "# Placeholder for student's code"
      ],
      "execution_count": null,
      "outputs": []
    },
    {
      "cell_type": "code",
      "metadata": {
        "id": "RufBEUUmX_g2",
        "colab": {
          "base_uri": "https://localhost:8080/",
          "height": 206
        },
        "outputId": "0c742cc1-1513-432f-a69d-4be975972241"
      },
      "source": [
        "# Solution\n",
        "X_train.head()"
      ],
      "execution_count": null,
      "outputs": [
        {
          "output_type": "execute_result",
          "data": {
            "text/plain": [
              "     buying_price  maintenance_cost  doors  persons_capacity  luggage_boot  \\\n",
              "298           3.0               1.0    3.0               0.0           0.0   \n",
              "88            3.0               3.0    3.0               0.0           2.0   \n",
              "20            3.0               3.0    0.0               2.0           0.0   \n",
              "502           2.0               3.0    2.0               1.0           2.0   \n",
              "998           1.0               2.0    0.0               2.0           2.0   \n",
              "\n",
              "     safety  \n",
              "298     1.0  \n",
              "88      1.0  \n",
              "20      2.0  \n",
              "502     1.0  \n",
              "998     2.0  "
            ],
            "text/html": [
              "\n",
              "  <div id=\"df-994df723-f4ce-4a0d-a47c-aaac0bfd5d20\">\n",
              "    <div class=\"colab-df-container\">\n",
              "      <div>\n",
              "<style scoped>\n",
              "    .dataframe tbody tr th:only-of-type {\n",
              "        vertical-align: middle;\n",
              "    }\n",
              "\n",
              "    .dataframe tbody tr th {\n",
              "        vertical-align: top;\n",
              "    }\n",
              "\n",
              "    .dataframe thead th {\n",
              "        text-align: right;\n",
              "    }\n",
              "</style>\n",
              "<table border=\"1\" class=\"dataframe\">\n",
              "  <thead>\n",
              "    <tr style=\"text-align: right;\">\n",
              "      <th></th>\n",
              "      <th>buying_price</th>\n",
              "      <th>maintenance_cost</th>\n",
              "      <th>doors</th>\n",
              "      <th>persons_capacity</th>\n",
              "      <th>luggage_boot</th>\n",
              "      <th>safety</th>\n",
              "    </tr>\n",
              "  </thead>\n",
              "  <tbody>\n",
              "    <tr>\n",
              "      <th>298</th>\n",
              "      <td>3.0</td>\n",
              "      <td>1.0</td>\n",
              "      <td>3.0</td>\n",
              "      <td>0.0</td>\n",
              "      <td>0.0</td>\n",
              "      <td>1.0</td>\n",
              "    </tr>\n",
              "    <tr>\n",
              "      <th>88</th>\n",
              "      <td>3.0</td>\n",
              "      <td>3.0</td>\n",
              "      <td>3.0</td>\n",
              "      <td>0.0</td>\n",
              "      <td>2.0</td>\n",
              "      <td>1.0</td>\n",
              "    </tr>\n",
              "    <tr>\n",
              "      <th>20</th>\n",
              "      <td>3.0</td>\n",
              "      <td>3.0</td>\n",
              "      <td>0.0</td>\n",
              "      <td>2.0</td>\n",
              "      <td>0.0</td>\n",
              "      <td>2.0</td>\n",
              "    </tr>\n",
              "    <tr>\n",
              "      <th>502</th>\n",
              "      <td>2.0</td>\n",
              "      <td>3.0</td>\n",
              "      <td>2.0</td>\n",
              "      <td>1.0</td>\n",
              "      <td>2.0</td>\n",
              "      <td>1.0</td>\n",
              "    </tr>\n",
              "    <tr>\n",
              "      <th>998</th>\n",
              "      <td>1.0</td>\n",
              "      <td>2.0</td>\n",
              "      <td>0.0</td>\n",
              "      <td>2.0</td>\n",
              "      <td>2.0</td>\n",
              "      <td>2.0</td>\n",
              "    </tr>\n",
              "  </tbody>\n",
              "</table>\n",
              "</div>\n",
              "      <button class=\"colab-df-convert\" onclick=\"convertToInteractive('df-994df723-f4ce-4a0d-a47c-aaac0bfd5d20')\"\n",
              "              title=\"Convert this dataframe to an interactive table.\"\n",
              "              style=\"display:none;\">\n",
              "        \n",
              "  <svg xmlns=\"http://www.w3.org/2000/svg\" height=\"24px\"viewBox=\"0 0 24 24\"\n",
              "       width=\"24px\">\n",
              "    <path d=\"M0 0h24v24H0V0z\" fill=\"none\"/>\n",
              "    <path d=\"M18.56 5.44l.94 2.06.94-2.06 2.06-.94-2.06-.94-.94-2.06-.94 2.06-2.06.94zm-11 1L8.5 8.5l.94-2.06 2.06-.94-2.06-.94L8.5 2.5l-.94 2.06-2.06.94zm10 10l.94 2.06.94-2.06 2.06-.94-2.06-.94-.94-2.06-.94 2.06-2.06.94z\"/><path d=\"M17.41 7.96l-1.37-1.37c-.4-.4-.92-.59-1.43-.59-.52 0-1.04.2-1.43.59L10.3 9.45l-7.72 7.72c-.78.78-.78 2.05 0 2.83L4 21.41c.39.39.9.59 1.41.59.51 0 1.02-.2 1.41-.59l7.78-7.78 2.81-2.81c.8-.78.8-2.07 0-2.86zM5.41 20L4 18.59l7.72-7.72 1.47 1.35L5.41 20z\"/>\n",
              "  </svg>\n",
              "      </button>\n",
              "      \n",
              "  <style>\n",
              "    .colab-df-container {\n",
              "      display:flex;\n",
              "      flex-wrap:wrap;\n",
              "      gap: 12px;\n",
              "    }\n",
              "\n",
              "    .colab-df-convert {\n",
              "      background-color: #E8F0FE;\n",
              "      border: none;\n",
              "      border-radius: 50%;\n",
              "      cursor: pointer;\n",
              "      display: none;\n",
              "      fill: #1967D2;\n",
              "      height: 32px;\n",
              "      padding: 0 0 0 0;\n",
              "      width: 32px;\n",
              "    }\n",
              "\n",
              "    .colab-df-convert:hover {\n",
              "      background-color: #E2EBFA;\n",
              "      box-shadow: 0px 1px 2px rgba(60, 64, 67, 0.3), 0px 1px 3px 1px rgba(60, 64, 67, 0.15);\n",
              "      fill: #174EA6;\n",
              "    }\n",
              "\n",
              "    [theme=dark] .colab-df-convert {\n",
              "      background-color: #3B4455;\n",
              "      fill: #D2E3FC;\n",
              "    }\n",
              "\n",
              "    [theme=dark] .colab-df-convert:hover {\n",
              "      background-color: #434B5C;\n",
              "      box-shadow: 0px 1px 3px 1px rgba(0, 0, 0, 0.15);\n",
              "      filter: drop-shadow(0px 1px 2px rgba(0, 0, 0, 0.3));\n",
              "      fill: #FFFFFF;\n",
              "    }\n",
              "  </style>\n",
              "\n",
              "      <script>\n",
              "        const buttonEl =\n",
              "          document.querySelector('#df-994df723-f4ce-4a0d-a47c-aaac0bfd5d20 button.colab-df-convert');\n",
              "        buttonEl.style.display =\n",
              "          google.colab.kernel.accessAllowed ? 'block' : 'none';\n",
              "\n",
              "        async function convertToInteractive(key) {\n",
              "          const element = document.querySelector('#df-994df723-f4ce-4a0d-a47c-aaac0bfd5d20');\n",
              "          const dataTable =\n",
              "            await google.colab.kernel.invokeFunction('convertToInteractive',\n",
              "                                                     [key], {});\n",
              "          if (!dataTable) return;\n",
              "\n",
              "          const docLinkHtml = 'Like what you see? Visit the ' +\n",
              "            '<a target=\"_blank\" href=https://colab.research.google.com/notebooks/data_table.ipynb>data table notebook</a>'\n",
              "            + ' to learn more about interactive tables.';\n",
              "          element.innerHTML = '';\n",
              "          dataTable['output_type'] = 'display_data';\n",
              "          await google.colab.output.renderOutput(dataTable, element);\n",
              "          const docLink = document.createElement('div');\n",
              "          docLink.innerHTML = docLinkHtml;\n",
              "          element.appendChild(docLink);\n",
              "        }\n",
              "      </script>\n",
              "    </div>\n",
              "  </div>\n",
              "  "
            ]
          },
          "metadata": {},
          "execution_count": 6
        }
      ]
    },
    {
      "cell_type": "code",
      "source": [
        "# Unit Tests\n",
        "assert y_train.shape == (1105, 1)\n",
        "assert X_train.shape == (1105, 6)\n",
        "assert y_val.shape == (277, 1)\n",
        "assert X_val.shape == (277, 6)\n",
        "assert y_test.shape == (346, 1)\n",
        "assert X_test.shape == (346, 6)"
      ],
      "metadata": {
        "id": "mM0xgdRvF3gv"
      },
      "execution_count": null,
      "outputs": []
    },
    {
      "cell_type": "markdown",
      "metadata": {
        "id": "D74rTVpNFJ5o"
      },
      "source": [
        "## 2. Train Decision Tree with Default Hyperparameters"
      ]
    },
    {
      "cell_type": "markdown",
      "metadata": {
        "id": "_1AUhHCNv1c6"
      },
      "source": [
        "**[2.1]** Import DecisionTreeClassifier from sklearn.tree"
      ]
    },
    {
      "cell_type": "code",
      "metadata": {
        "id": "9ZH48fj1v1y_"
      },
      "source": [
        "# Placeholder for student's code"
      ],
      "execution_count": null,
      "outputs": []
    },
    {
      "cell_type": "code",
      "metadata": {
        "id": "70nHVX_8v2AE"
      },
      "source": [
        "# Solution\n",
        "from sklearn.tree import DecisionTreeClassifier"
      ],
      "execution_count": null,
      "outputs": []
    },
    {
      "cell_type": "markdown",
      "metadata": {
        "id": "bNCcyy1Gn7p9"
      },
      "source": [
        "**[2.2]** Instantiate a DecisionTreeClassifier() model with random_state=8 parameter in order to keep our results consistent"
      ]
    },
    {
      "cell_type": "code",
      "metadata": {
        "id": "2HZD5uamwQLz"
      },
      "source": [
        "# Placeholder for student's code"
      ],
      "execution_count": null,
      "outputs": []
    },
    {
      "cell_type": "code",
      "metadata": {
        "id": "z7_0V2gzsTGt"
      },
      "source": [
        "# Solution\n",
        "tree_1 = DecisionTreeClassifier(random_state=8)"
      ],
      "execution_count": null,
      "outputs": []
    },
    {
      "cell_type": "markdown",
      "metadata": {
        "id": "wuTSGFjXwUxf"
      },
      "source": [
        "**[2.3]** Train the model on the training set\n",
        "\n"
      ]
    },
    {
      "cell_type": "code",
      "metadata": {
        "id": "Wd5oPvRuwU6Y"
      },
      "source": [
        "# Placeholder for student's code"
      ],
      "execution_count": null,
      "outputs": []
    },
    {
      "cell_type": "code",
      "metadata": {
        "id": "SYNw0QQNwVBB",
        "colab": {
          "base_uri": "https://localhost:8080/",
          "height": 75
        },
        "outputId": "da260c7c-b5fc-419f-847f-7ac997d740f8"
      },
      "source": [
        "# Solution\n",
        "tree_1.fit(X_train, y_train)"
      ],
      "execution_count": null,
      "outputs": [
        {
          "output_type": "execute_result",
          "data": {
            "text/plain": [
              "DecisionTreeClassifier(random_state=8)"
            ],
            "text/html": [
              "<style>#sk-container-id-1 {color: black;background-color: white;}#sk-container-id-1 pre{padding: 0;}#sk-container-id-1 div.sk-toggleable {background-color: white;}#sk-container-id-1 label.sk-toggleable__label {cursor: pointer;display: block;width: 100%;margin-bottom: 0;padding: 0.3em;box-sizing: border-box;text-align: center;}#sk-container-id-1 label.sk-toggleable__label-arrow:before {content: \"▸\";float: left;margin-right: 0.25em;color: #696969;}#sk-container-id-1 label.sk-toggleable__label-arrow:hover:before {color: black;}#sk-container-id-1 div.sk-estimator:hover label.sk-toggleable__label-arrow:before {color: black;}#sk-container-id-1 div.sk-toggleable__content {max-height: 0;max-width: 0;overflow: hidden;text-align: left;background-color: #f0f8ff;}#sk-container-id-1 div.sk-toggleable__content pre {margin: 0.2em;color: black;border-radius: 0.25em;background-color: #f0f8ff;}#sk-container-id-1 input.sk-toggleable__control:checked~div.sk-toggleable__content {max-height: 200px;max-width: 100%;overflow: auto;}#sk-container-id-1 input.sk-toggleable__control:checked~label.sk-toggleable__label-arrow:before {content: \"▾\";}#sk-container-id-1 div.sk-estimator input.sk-toggleable__control:checked~label.sk-toggleable__label {background-color: #d4ebff;}#sk-container-id-1 div.sk-label input.sk-toggleable__control:checked~label.sk-toggleable__label {background-color: #d4ebff;}#sk-container-id-1 input.sk-hidden--visually {border: 0;clip: rect(1px 1px 1px 1px);clip: rect(1px, 1px, 1px, 1px);height: 1px;margin: -1px;overflow: hidden;padding: 0;position: absolute;width: 1px;}#sk-container-id-1 div.sk-estimator {font-family: monospace;background-color: #f0f8ff;border: 1px dotted black;border-radius: 0.25em;box-sizing: border-box;margin-bottom: 0.5em;}#sk-container-id-1 div.sk-estimator:hover {background-color: #d4ebff;}#sk-container-id-1 div.sk-parallel-item::after {content: \"\";width: 100%;border-bottom: 1px solid gray;flex-grow: 1;}#sk-container-id-1 div.sk-label:hover label.sk-toggleable__label {background-color: #d4ebff;}#sk-container-id-1 div.sk-serial::before {content: \"\";position: absolute;border-left: 1px solid gray;box-sizing: border-box;top: 0;bottom: 0;left: 50%;z-index: 0;}#sk-container-id-1 div.sk-serial {display: flex;flex-direction: column;align-items: center;background-color: white;padding-right: 0.2em;padding-left: 0.2em;position: relative;}#sk-container-id-1 div.sk-item {position: relative;z-index: 1;}#sk-container-id-1 div.sk-parallel {display: flex;align-items: stretch;justify-content: center;background-color: white;position: relative;}#sk-container-id-1 div.sk-item::before, #sk-container-id-1 div.sk-parallel-item::before {content: \"\";position: absolute;border-left: 1px solid gray;box-sizing: border-box;top: 0;bottom: 0;left: 50%;z-index: -1;}#sk-container-id-1 div.sk-parallel-item {display: flex;flex-direction: column;z-index: 1;position: relative;background-color: white;}#sk-container-id-1 div.sk-parallel-item:first-child::after {align-self: flex-end;width: 50%;}#sk-container-id-1 div.sk-parallel-item:last-child::after {align-self: flex-start;width: 50%;}#sk-container-id-1 div.sk-parallel-item:only-child::after {width: 0;}#sk-container-id-1 div.sk-dashed-wrapped {border: 1px dashed gray;margin: 0 0.4em 0.5em 0.4em;box-sizing: border-box;padding-bottom: 0.4em;background-color: white;}#sk-container-id-1 div.sk-label label {font-family: monospace;font-weight: bold;display: inline-block;line-height: 1.2em;}#sk-container-id-1 div.sk-label-container {text-align: center;}#sk-container-id-1 div.sk-container {/* jupyter's `normalize.less` sets `[hidden] { display: none; }` but bootstrap.min.css set `[hidden] { display: none !important; }` so we also need the `!important` here to be able to override the default hidden behavior on the sphinx rendered scikit-learn.org. See: https://github.com/scikit-learn/scikit-learn/issues/21755 */display: inline-block !important;position: relative;}#sk-container-id-1 div.sk-text-repr-fallback {display: none;}</style><div id=\"sk-container-id-1\" class=\"sk-top-container\"><div class=\"sk-text-repr-fallback\"><pre>DecisionTreeClassifier(random_state=8)</pre><b>In a Jupyter environment, please rerun this cell to show the HTML representation or trust the notebook. <br />On GitHub, the HTML representation is unable to render, please try loading this page with nbviewer.org.</b></div><div class=\"sk-container\" hidden><div class=\"sk-item\"><div class=\"sk-estimator sk-toggleable\"><input class=\"sk-toggleable__control sk-hidden--visually\" id=\"sk-estimator-id-1\" type=\"checkbox\" checked><label for=\"sk-estimator-id-1\" class=\"sk-toggleable__label sk-toggleable__label-arrow\">DecisionTreeClassifier</label><div class=\"sk-toggleable__content\"><pre>DecisionTreeClassifier(random_state=8)</pre></div></div></div></div></div>"
            ]
          },
          "metadata": {},
          "execution_count": 13
        }
      ]
    },
    {
      "cell_type": "markdown",
      "source": [
        "**[2.4]** Save its predictions from the training and validation sets on 2 different variables"
      ],
      "metadata": {
        "id": "DvJVsGwz7xj8"
      }
    },
    {
      "cell_type": "code",
      "source": [
        "# Placeholder for student's code"
      ],
      "metadata": {
        "id": "VULFnMN97xp7"
      },
      "execution_count": null,
      "outputs": []
    },
    {
      "cell_type": "code",
      "source": [
        "# Solution: \n",
        "y_train_preds = tree_1.predict(X_train)\n",
        "y_val_preds = tree_1.predict(X_val)"
      ],
      "metadata": {
        "id": "cTEIT8T17xsh"
      },
      "execution_count": null,
      "outputs": []
    },
    {
      "cell_type": "markdown",
      "source": [
        "**[2.5]** Import the accuracy and f1 scores from sklearn"
      ],
      "metadata": {
        "id": "78ZxE7YQ7rDG"
      }
    },
    {
      "cell_type": "code",
      "source": [
        "# Placeholder for student's code"
      ],
      "metadata": {
        "id": "lentNtxR7rSY"
      },
      "execution_count": null,
      "outputs": []
    },
    {
      "cell_type": "code",
      "source": [
        "# Solution\n",
        "from sklearn.metrics import accuracy_score, f1_score"
      ],
      "metadata": {
        "id": "0FrEdvmn7rVO"
      },
      "execution_count": null,
      "outputs": []
    },
    {
      "cell_type": "markdown",
      "metadata": {
        "id": "zS_yCNlywaB9"
      },
      "source": [
        "**[2.6]** Print the accuracy score of the training and validation sets"
      ]
    },
    {
      "cell_type": "code",
      "metadata": {
        "id": "SwIAha8_waKB"
      },
      "source": [
        "# Placeholder for student's code"
      ],
      "execution_count": null,
      "outputs": []
    },
    {
      "cell_type": "code",
      "metadata": {
        "id": "NzKDBoyKwagr",
        "colab": {
          "base_uri": "https://localhost:8080/"
        },
        "outputId": "f37bb5bd-6156-46d3-c924-5c43d653911b"
      },
      "source": [
        "# Solution: \n",
        "print(accuracy_score(y_train, y_train_preds))\n",
        "print(accuracy_score(y_val, y_val_preds))"
      ],
      "execution_count": null,
      "outputs": [
        {
          "output_type": "stream",
          "name": "stdout",
          "text": [
            "1.0\n",
            "0.9530685920577617\n"
          ]
        }
      ]
    },
    {
      "cell_type": "markdown",
      "metadata": {
        "id": "2E4GIXYmwvCT"
      },
      "source": [
        "**[2.7]** Print the f1 score of the training and validation sets"
      ]
    },
    {
      "cell_type": "code",
      "metadata": {
        "id": "1LZ763irwvLW"
      },
      "source": [
        "# Placeholder for student's code"
      ],
      "execution_count": null,
      "outputs": []
    },
    {
      "cell_type": "code",
      "metadata": {
        "id": "12jnzqskwaIN",
        "colab": {
          "base_uri": "https://localhost:8080/"
        },
        "outputId": "4a26e9ec-74a9-4dda-ddfb-8a678d301027"
      },
      "source": [
        "# Solution: \n",
        "print(f1_score(y_train, y_train_preds, average='weighted'))\n",
        "print(f1_score(y_val, y_val_preds, average='weighted'))"
      ],
      "execution_count": null,
      "outputs": [
        {
          "output_type": "stream",
          "name": "stdout",
          "text": [
            "1.0\n",
            "0.9514698149370076\n"
          ]
        }
      ]
    },
    {
      "cell_type": "markdown",
      "metadata": {
        "id": "gQ5hj4r0rsmp"
      },
      "source": [
        "## 3. Reduce Overfitting with min_samples_split"
      ]
    },
    {
      "cell_type": "markdown",
      "metadata": {
        "id": "-YYIuzIryHcy"
      },
      "source": [
        "**[3.1]** Train a DecisionTree model with min_samples_split=5 and save the predictions from the training and validation sets"
      ]
    },
    {
      "cell_type": "code",
      "metadata": {
        "id": "38AeNWYEyHmz"
      },
      "source": [
        "# Placeholder for student's code"
      ],
      "execution_count": null,
      "outputs": []
    },
    {
      "cell_type": "code",
      "metadata": {
        "id": "6M3bpFqRs_1k"
      },
      "source": [
        "# Solution\n",
        "tree_split_1 = DecisionTreeClassifier(random_state=8, min_samples_split=5).fit(X_train, y_train)\n",
        "y_train_preds = tree_split_1.predict(X_train)\n",
        "y_val_preds = tree_split_1.predict(X_val)"
      ],
      "execution_count": null,
      "outputs": []
    },
    {
      "cell_type": "markdown",
      "source": [
        "**[3.2]** Print the accuracy score of the training and validation sets"
      ],
      "metadata": {
        "id": "e14pyWG68fsM"
      }
    },
    {
      "cell_type": "code",
      "source": [
        "# Placeholder for student's code"
      ],
      "metadata": {
        "id": "-_mj-XZL8f0Q"
      },
      "execution_count": null,
      "outputs": []
    },
    {
      "cell_type": "code",
      "source": [
        "# Solution: \n",
        "print(accuracy_score(y_train, y_train_preds))\n",
        "print(accuracy_score(y_val, y_val_preds))"
      ],
      "metadata": {
        "colab": {
          "base_uri": "https://localhost:8080/"
        },
        "id": "scIGkZZS8f3I",
        "outputId": "47ee6653-191b-408f-de38-7e0f79bc511b"
      },
      "execution_count": null,
      "outputs": [
        {
          "output_type": "stream",
          "name": "stdout",
          "text": [
            "0.9936651583710407\n",
            "0.9350180505415162\n"
          ]
        }
      ]
    },
    {
      "cell_type": "markdown",
      "source": [
        "**[3.3]** Print the f1 score of the training and validation sets"
      ],
      "metadata": {
        "id": "9VVk3RWS8gk9"
      }
    },
    {
      "cell_type": "code",
      "source": [
        "# Placeholder for student's code"
      ],
      "metadata": {
        "id": "deQNuZ_h8gq_"
      },
      "execution_count": null,
      "outputs": []
    },
    {
      "cell_type": "code",
      "source": [
        "# Solution: \n",
        "print(f1_score(y_train, y_train_preds, average='weighted'))\n",
        "print(f1_score(y_val, y_val_preds, average='weighted'))"
      ],
      "metadata": {
        "colab": {
          "base_uri": "https://localhost:8080/"
        },
        "id": "_KyeKvvB8guH",
        "outputId": "9b589340-4aa2-4324-e185-afa3905a9f38"
      },
      "execution_count": null,
      "outputs": [
        {
          "output_type": "stream",
          "name": "stdout",
          "text": [
            "0.9936436112906702\n",
            "0.9305983184325318\n"
          ]
        }
      ]
    },
    {
      "cell_type": "markdown",
      "metadata": {
        "id": "AvE9tU6pzw-w"
      },
      "source": [
        "**[3.4]** Train a DecisionTree model with min_samples_split=10 and save the predictions from the training and validation sets"
      ]
    },
    {
      "cell_type": "code",
      "metadata": {
        "id": "z-Yxh6Uuzxuq"
      },
      "source": [
        "# Placeholder for student's code"
      ],
      "execution_count": null,
      "outputs": []
    },
    {
      "cell_type": "code",
      "metadata": {
        "id": "uF3TDtNKs_vA"
      },
      "source": [
        "# Solution\n",
        "tree_split_2 = DecisionTreeClassifier(random_state=8, min_samples_split=10).fit(X_train, y_train)\n",
        "y_train_preds = tree_split_2.predict(X_train)\n",
        "y_val_preds = tree_split_2.predict(X_val)"
      ],
      "execution_count": null,
      "outputs": []
    },
    {
      "cell_type": "markdown",
      "source": [
        "**[3.5]** Print the accuracy score of the training and validation sets"
      ],
      "metadata": {
        "id": "VF9wAB4K8jdm"
      }
    },
    {
      "cell_type": "code",
      "source": [
        "# Placeholder for student's code"
      ],
      "metadata": {
        "id": "Fed3T3Du8jlJ"
      },
      "execution_count": null,
      "outputs": []
    },
    {
      "cell_type": "code",
      "source": [
        "# Solution: \n",
        "print(accuracy_score(y_train, y_train_preds))\n",
        "print(accuracy_score(y_val, y_val_preds))"
      ],
      "metadata": {
        "colab": {
          "base_uri": "https://localhost:8080/"
        },
        "id": "sLGHhpvY8jng",
        "outputId": "b647abbc-12c3-4dac-9f2a-ba1b2ecb14f4"
      },
      "execution_count": null,
      "outputs": [
        {
          "output_type": "stream",
          "name": "stdout",
          "text": [
            "0.9755656108597285\n",
            "0.9350180505415162\n"
          ]
        }
      ]
    },
    {
      "cell_type": "markdown",
      "source": [
        "**[3.6]** Print the f1 score of the training and validation sets"
      ],
      "metadata": {
        "id": "rjXILiZG8kKZ"
      }
    },
    {
      "cell_type": "code",
      "source": [
        "# Placeholder for student's code"
      ],
      "metadata": {
        "id": "9Qhbp_Qn8kPW"
      },
      "execution_count": null,
      "outputs": []
    },
    {
      "cell_type": "code",
      "source": [
        "# Solution: \n",
        "print(f1_score(y_train, y_train_preds, average='weighted'))\n",
        "print(f1_score(y_val, y_val_preds, average='weighted'))"
      ],
      "metadata": {
        "colab": {
          "base_uri": "https://localhost:8080/"
        },
        "id": "JAoMkpGp8kR7",
        "outputId": "1c5b9308-d383-494e-dba3-c37b46e2a3c9"
      },
      "execution_count": null,
      "outputs": [
        {
          "output_type": "stream",
          "name": "stdout",
          "text": [
            "0.9759054271396286\n",
            "0.9345459615217049\n"
          ]
        }
      ]
    },
    {
      "cell_type": "markdown",
      "metadata": {
        "id": "zRwxAXn21Anb"
      },
      "source": [
        "**[3.7]** Train a DecisionTree model with min_samples_split=20 and save the predictions from the training and validation sets"
      ]
    },
    {
      "cell_type": "code",
      "metadata": {
        "id": "15zZQ0F81Av-"
      },
      "source": [
        "# Placeholder for student's code"
      ],
      "execution_count": null,
      "outputs": []
    },
    {
      "cell_type": "code",
      "metadata": {
        "id": "EG-NOyiVzLN2"
      },
      "source": [
        "# Solution\n",
        "tree_split_3 = DecisionTreeClassifier(random_state=8, min_samples_split=20).fit(X_train, y_train)\n",
        "y_train_preds = tree_split_3.predict(X_train)\n",
        "y_val_preds = tree_split_3.predict(X_val)"
      ],
      "execution_count": null,
      "outputs": []
    },
    {
      "cell_type": "markdown",
      "source": [
        "**[3.8]** Print the accuracy score of the training and validation sets"
      ],
      "metadata": {
        "id": "PO6lzfBX8qS1"
      }
    },
    {
      "cell_type": "code",
      "source": [
        "# Placeholder for student's code"
      ],
      "metadata": {
        "id": "HXVBKkd-8qZo"
      },
      "execution_count": null,
      "outputs": []
    },
    {
      "cell_type": "code",
      "source": [
        "# Solution: \n",
        "print(accuracy_score(y_train, y_train_preds))\n",
        "print(accuracy_score(y_val, y_val_preds))"
      ],
      "metadata": {
        "colab": {
          "base_uri": "https://localhost:8080/"
        },
        "id": "Bnsi7GVK8qb9",
        "outputId": "01fe408e-d2e5-4d7f-acc2-c9fb80475084"
      },
      "execution_count": null,
      "outputs": [
        {
          "output_type": "stream",
          "name": "stdout",
          "text": [
            "0.9547511312217195\n",
            "0.9097472924187726\n"
          ]
        }
      ]
    },
    {
      "cell_type": "markdown",
      "source": [
        "**[3.9]** Print the f1 score of the training and validation sets"
      ],
      "metadata": {
        "id": "LGwfPqGX8qrl"
      }
    },
    {
      "cell_type": "code",
      "source": [
        "# Placeholder for student's code"
      ],
      "metadata": {
        "id": "9o19EOyk8qyH"
      },
      "execution_count": null,
      "outputs": []
    },
    {
      "cell_type": "code",
      "source": [
        "# Solution: \n",
        "print(f1_score(y_train, y_train_preds, average='weighted'))\n",
        "print(f1_score(y_val, y_val_preds, average='weighted'))"
      ],
      "metadata": {
        "colab": {
          "base_uri": "https://localhost:8080/"
        },
        "id": "KiGoY0C98q0d",
        "outputId": "56022179-afb7-4c46-cd09-98cc2fdc25f1"
      },
      "execution_count": null,
      "outputs": [
        {
          "output_type": "stream",
          "name": "stdout",
          "text": [
            "0.9543801957749166\n",
            "0.9093570629589038\n"
          ]
        }
      ]
    },
    {
      "cell_type": "markdown",
      "metadata": {
        "id": "j0xD6hMR0xzf"
      },
      "source": [
        "**[3.10]** Import confusion_matrix, ConfusionMatrixDisplay from sklearn.metrics and matplotlib"
      ]
    },
    {
      "cell_type": "code",
      "metadata": {
        "id": "utParq080x-J"
      },
      "source": [
        "# Placeholder for student's code"
      ],
      "execution_count": null,
      "outputs": []
    },
    {
      "cell_type": "code",
      "metadata": {
        "id": "KWMATIJd0yBD"
      },
      "source": [
        "# Solution\n",
        "from sklearn.metrics import confusion_matrix, ConfusionMatrixDisplay\n",
        "import matplotlib.pyplot as plt"
      ],
      "execution_count": null,
      "outputs": []
    },
    {
      "cell_type": "markdown",
      "metadata": {
        "id": "DHzQBsuj0l2T"
      },
      "source": [
        "**[3.11]** Print the confusion matrices for the training and validation sets for tree_split_2 model"
      ]
    },
    {
      "cell_type": "code",
      "metadata": {
        "id": "CvXLDIpP0l7f"
      },
      "source": [
        "# Placeholder for student's code"
      ],
      "execution_count": null,
      "outputs": []
    },
    {
      "cell_type": "code",
      "metadata": {
        "id": "YGXyGjiP0ghN",
        "colab": {
          "base_uri": "https://localhost:8080/",
          "height": 904
        },
        "outputId": "a514db1f-2848-4835-92a3-72a305144ae4"
      },
      "source": [
        "# Solution\n",
        "ConfusionMatrixDisplay.from_estimator(tree_split_2, X_train, y_train, normalize='true')\n",
        "ConfusionMatrixDisplay.from_estimator(tree_split_2, X_val, y_val, normalize='true')"
      ],
      "execution_count": null,
      "outputs": [
        {
          "output_type": "execute_result",
          "data": {
            "text/plain": [
              "<sklearn.metrics._plot.confusion_matrix.ConfusionMatrixDisplay at 0x7fa44c129df0>"
            ]
          },
          "metadata": {},
          "execution_count": 43
        },
        {
          "output_type": "display_data",
          "data": {
            "text/plain": [
              "<Figure size 640x480 with 2 Axes>"
            ],
            "image/png": "[encoded data removed]"
          },
          "metadata": {}
        },
        {
          "output_type": "display_data",
          "data": {
            "text/plain": [
              "<Figure size 640x480 with 2 Axes>"
            ],
            "image/png": "[encoded data removed]"
          },
          "metadata": {}
        }
      ]
    },
    {
      "cell_type": "markdown",
      "metadata": {
        "id": "WU-P_iVRzvrW"
      },
      "source": [
        "## 4. Reduce Further Overfitting with max_depth"
      ]
    },
    {
      "cell_type": "markdown",
      "metadata": {
        "id": "sOY0A4fesF0b"
      },
      "source": [
        "**[4.1]** Let's have a look at what is the current value for this hyperparameter"
      ]
    },
    {
      "cell_type": "code",
      "metadata": {
        "id": "2ip87hj_s_7U",
        "colab": {
          "base_uri": "https://localhost:8080/"
        },
        "outputId": "47deeaeb-045e-422a-a083-a836ef37e427"
      },
      "source": [
        "tree_split_2.tree_.max_depth"
      ],
      "execution_count": null,
      "outputs": [
        {
          "output_type": "execute_result",
          "data": {
            "text/plain": [
              "9"
            ]
          },
          "metadata": {},
          "execution_count": 70
        }
      ]
    },
    {
      "cell_type": "markdown",
      "metadata": {
        "id": "g5hS81F12Blv"
      },
      "source": [
        "**[4.2]** Train a DecisionTree model with min_samples_split=10, max_depth=3 and save the predictions from the training and validation sets"
      ]
    },
    {
      "cell_type": "code",
      "metadata": {
        "id": "a8wdHi7lzv3d"
      },
      "source": [
        "# Placeholder for student's code"
      ],
      "execution_count": null,
      "outputs": []
    },
    {
      "cell_type": "code",
      "metadata": {
        "id": "JlaCoBxps_pP"
      },
      "source": [
        "# Solution\n",
        "tree_depth_1 = DecisionTreeClassifier(random_state=8, min_samples_split=10, max_depth=3).fit(X_train, y_train)\n",
        "y_train_preds = tree_depth_1.predict(X_train)\n",
        "y_val_preds = tree_depth_1.predict(X_val)"
      ],
      "execution_count": null,
      "outputs": []
    },
    {
      "cell_type": "markdown",
      "source": [
        "**[4.3]** Print the accuracy score of the training and validation sets bold text"
      ],
      "metadata": {
        "id": "HAKNvrUV-YLg"
      }
    },
    {
      "cell_type": "code",
      "source": [
        "# Placeholder for student's code"
      ],
      "metadata": {
        "id": "44wjwdBb-YRh"
      },
      "execution_count": null,
      "outputs": []
    },
    {
      "cell_type": "code",
      "source": [
        "# Solution: \n",
        "print(accuracy_score(y_train, y_train_preds))\n",
        "print(accuracy_score(y_val, y_val_preds))"
      ],
      "metadata": {
        "id": "koEWHZew-YUF",
        "outputId": "4736f7d0-559d-413d-941f-8dc06b339d58",
        "colab": {
          "base_uri": "https://localhost:8080/"
        }
      },
      "execution_count": null,
      "outputs": [
        {
          "output_type": "stream",
          "name": "stdout",
          "text": [
            "0.7873303167420814\n",
            "0.8122743682310469\n"
          ]
        }
      ]
    },
    {
      "cell_type": "markdown",
      "source": [
        "**[4.4]** Print the f1 score of the training and validation sets"
      ],
      "metadata": {
        "id": "oh28MCu8-YbH"
      }
    },
    {
      "cell_type": "code",
      "source": [
        "# Placeholder for student's code"
      ],
      "metadata": {
        "id": "e656_iig-YgY"
      },
      "execution_count": null,
      "outputs": []
    },
    {
      "cell_type": "code",
      "source": [
        "# Solution: \n",
        "print(f1_score(y_train, y_train_preds, average='weighted'))\n",
        "print(f1_score(y_val, y_val_preds, average='weighted'))"
      ],
      "metadata": {
        "id": "zNPfvaRX-Yir",
        "outputId": "be457dd3-8210-4eee-d71e-6f3c1afb3024",
        "colab": {
          "base_uri": "https://localhost:8080/"
        }
      },
      "execution_count": null,
      "outputs": [
        {
          "output_type": "stream",
          "name": "stdout",
          "text": [
            "0.7523072475889013\n",
            "0.7803401763744454\n"
          ]
        }
      ]
    },
    {
      "cell_type": "markdown",
      "metadata": {
        "id": "J2lFN7en0Ikk"
      },
      "source": [
        "**[4.5]** Train a DecisionTree model with min_samples_split=10, max_depth=8 and save the predictions from the training and validation sets"
      ]
    },
    {
      "cell_type": "code",
      "metadata": {
        "id": "JXEoX-Yo0IyG"
      },
      "source": [
        "# Placeholder for student's code"
      ],
      "execution_count": null,
      "outputs": []
    },
    {
      "cell_type": "code",
      "metadata": {
        "id": "ru6SjDHV0I1J"
      },
      "source": [
        "# Solution\n",
        "tree_depth_2 = DecisionTreeClassifier(random_state=8, min_samples_split=10, max_depth=8).fit(X_train, y_train)\n",
        "y_train_preds = tree_depth_2.predict(X_train)\n",
        "y_val_preds = tree_depth_2.predict(X_val)"
      ],
      "execution_count": null,
      "outputs": []
    },
    {
      "cell_type": "markdown",
      "source": [
        "**[4.6]** Print the accuracy score of the training and validation sets"
      ],
      "metadata": {
        "id": "kmZs2plY_BoT"
      }
    },
    {
      "cell_type": "code",
      "source": [
        "# Placeholder for student's code"
      ],
      "metadata": {
        "id": "cYBkF_Lx_Bwk"
      },
      "execution_count": null,
      "outputs": []
    },
    {
      "cell_type": "code",
      "source": [
        "# Solution: \n",
        "print(accuracy_score(y_train, y_train_preds))\n",
        "print(accuracy_score(y_val, y_val_preds))"
      ],
      "metadata": {
        "id": "NQf_O28N_By4",
        "outputId": "42517ef5-3b7d-4ab9-a18e-eae1ba22bf8a",
        "colab": {
          "base_uri": "https://localhost:8080/"
        }
      },
      "execution_count": null,
      "outputs": [
        {
          "output_type": "stream",
          "name": "stdout",
          "text": [
            "0.9737556561085973\n",
            "0.9314079422382672\n"
          ]
        }
      ]
    },
    {
      "cell_type": "markdown",
      "source": [
        "**[4.7]** Print the f1 score of the training and validation sets"
      ],
      "metadata": {
        "id": "SU2TQ3oN_B_Z"
      }
    },
    {
      "cell_type": "code",
      "source": [
        "# Placeholder for student's code"
      ],
      "metadata": {
        "id": "UifvaEMm_CEY"
      },
      "execution_count": null,
      "outputs": []
    },
    {
      "cell_type": "code",
      "source": [
        "# Solution: \n",
        "print(f1_score(y_train, y_train_preds, average='weighted'))\n",
        "print(f1_score(y_val, y_val_preds, average='weighted'))"
      ],
      "metadata": {
        "id": "KtqCXKXm_CHM",
        "outputId": "88a425a7-dd12-4467-d0e7-e3d601c40ac8",
        "colab": {
          "base_uri": "https://localhost:8080/"
        }
      },
      "execution_count": null,
      "outputs": [
        {
          "output_type": "stream",
          "name": "stdout",
          "text": [
            "0.9743976508282421\n",
            "0.931107527212486\n"
          ]
        }
      ]
    },
    {
      "cell_type": "markdown",
      "metadata": {
        "id": "-R6Tdeau0Pla"
      },
      "source": [
        "\n",
        "**[4.8]** Train a DecisionTree model with min_samples_split=10, max_depth=6 and save the predictions from the training and validation sets"
      ]
    },
    {
      "cell_type": "code",
      "metadata": {
        "id": "p2HaFYcU0Pvw"
      },
      "source": [
        "# Placeholder for student's code"
      ],
      "execution_count": null,
      "outputs": []
    },
    {
      "cell_type": "code",
      "metadata": {
        "id": "asrPIqgG0PzE"
      },
      "source": [
        "# Solution\n",
        "tree_depth_3 = DecisionTreeClassifier(random_state=8, min_samples_split=10, max_depth=6).fit(X_train, y_train)\n",
        "y_train_preds = tree_depth_3.predict(X_train)\n",
        "y_val_preds = tree_depth_3.predict(X_val)"
      ],
      "execution_count": null,
      "outputs": []
    },
    {
      "cell_type": "markdown",
      "source": [
        "**[4.9]** Print the accuracy score of the training and validation sets"
      ],
      "metadata": {
        "id": "hAgM9hzv_DKJ"
      }
    },
    {
      "cell_type": "code",
      "source": [
        "# Placeholder for student's code"
      ],
      "metadata": {
        "id": "YaU7ysUY_DQ-"
      },
      "execution_count": null,
      "outputs": []
    },
    {
      "cell_type": "code",
      "source": [
        "# Solution: \n",
        "print(accuracy_score(y_train, y_train_preds))\n",
        "print(accuracy_score(y_val, y_val_preds))"
      ],
      "metadata": {
        "id": "obb_aZva_DTw",
        "outputId": "945718d2-bfb8-4f01-ffab-19c7bb0b095f",
        "colab": {
          "base_uri": "https://localhost:8080/"
        }
      },
      "execution_count": null,
      "outputs": [
        {
          "output_type": "stream",
          "name": "stdout",
          "text": [
            "0.9375565610859729\n",
            "0.924187725631769\n"
          ]
        }
      ]
    },
    {
      "cell_type": "markdown",
      "source": [
        "**[4.10]** Print the f1 score of the training and validation sets"
      ],
      "metadata": {
        "id": "KinuVUTN_DjI"
      }
    },
    {
      "cell_type": "code",
      "source": [
        "# Placeholder for student's code"
      ],
      "metadata": {
        "id": "bYk4_6i0_Do_"
      },
      "execution_count": null,
      "outputs": []
    },
    {
      "cell_type": "code",
      "source": [
        "# Solution: \n",
        "print(f1_score(y_train, y_train_preds, average='weighted'))\n",
        "print(f1_score(y_val, y_val_preds, average='weighted'))"
      ],
      "metadata": {
        "id": "ptmws2LA_DrL",
        "outputId": "82bfa55e-02cd-478c-f500-600659839f10",
        "colab": {
          "base_uri": "https://localhost:8080/"
        }
      },
      "execution_count": null,
      "outputs": [
        {
          "output_type": "stream",
          "name": "stdout",
          "text": [
            "0.9396385300644613\n",
            "0.9284164017457837\n"
          ]
        }
      ]
    },
    {
      "cell_type": "markdown",
      "metadata": {
        "id": "eNHLIxPU28ys"
      },
      "source": [
        "This is the best model with not much overfitting"
      ]
    },
    {
      "cell_type": "markdown",
      "source": [
        "**[4.11]** Print the confusion matrices for the training and validation sets for tree_depth_3 model"
      ],
      "metadata": {
        "id": "MS-APRTIclAa"
      }
    },
    {
      "cell_type": "code",
      "source": [
        "# Placeholder for student's code"
      ],
      "metadata": {
        "id": "2EOYaQf0clHv"
      },
      "execution_count": null,
      "outputs": []
    },
    {
      "cell_type": "code",
      "source": [
        "# Solution\n",
        "ConfusionMatrixDisplay.from_estimator(tree_depth_3, X_train, y_train, normalize='true')\n",
        "ConfusionMatrixDisplay.from_estimator(tree_depth_3, X_val, y_val, normalize='true')"
      ],
      "metadata": {
        "colab": {
          "base_uri": "https://localhost:8080/",
          "height": 898
        },
        "id": "nhZGN6gPclKn",
        "outputId": "a93fd3ab-5722-4b50-d18d-3e953efc1ff9"
      },
      "execution_count": null,
      "outputs": [
        {
          "output_type": "execute_result",
          "data": {
            "text/plain": [
              "<sklearn.metrics._plot.confusion_matrix.ConfusionMatrixDisplay at 0x7fa44962d490>"
            ]
          },
          "metadata": {},
          "execution_count": 64
        },
        {
          "output_type": "display_data",
          "data": {
            "text/plain": [
              "<Figure size 640x480 with 2 Axes>"
            ],
            "image/png": "[encoded data removed]"
          },
          "metadata": {}
        },
        {
          "output_type": "display_data",
          "data": {
            "text/plain": [
              "<Figure size 640x480 with 2 Axes>"
            ],
            "image/png": "[encoded data removed]"
          },
          "metadata": {}
        }
      ]
    },
    {
      "cell_type": "markdown",
      "source": [
        "## 5. Assess model on Testing Set"
      ],
      "metadata": {
        "id": "J9SUSb9N_1to"
      }
    },
    {
      "cell_type": "markdown",
      "metadata": {
        "id": "QxuPzaRXt8Db"
      },
      "source": [
        "**[5.1]** Print the accuracy and f1 scores of our best model on the testing set"
      ]
    },
    {
      "cell_type": "code",
      "metadata": {
        "id": "66VsIqBV25bK"
      },
      "source": [
        "# Placeholder for student's code"
      ],
      "execution_count": null,
      "outputs": []
    },
    {
      "cell_type": "code",
      "metadata": {
        "id": "Nk4G8z3ss_io",
        "colab": {
          "base_uri": "https://localhost:8080/"
        },
        "outputId": "8b6e75d9-51c0-4cf9-eb86-80800f9ce6fe"
      },
      "source": [
        "# Solution: \n",
        "y_test_preds = tree_depth_3.predict(X_test)\n",
        "print(accuracy_score(y_test, y_test_preds))\n",
        "print(f1_score(y_test, y_test_preds, average='weighted'))"
      ],
      "execution_count": null,
      "outputs": [
        {
          "output_type": "stream",
          "name": "stdout",
          "text": [
            "0.9335260115606936\n",
            "0.9361554858164549\n"
          ]
        }
      ]
    },
    {
      "cell_type": "markdown",
      "metadata": {
        "id": "Img0EFt_3xjR"
      },
      "source": [
        "**[5.2]** Print the confusion matrix for this model on the testing set"
      ]
    },
    {
      "cell_type": "code",
      "metadata": {
        "id": "2g4A4DQG3xor"
      },
      "source": [
        "# Placeholder for student's code"
      ],
      "execution_count": null,
      "outputs": []
    },
    {
      "cell_type": "code",
      "metadata": {
        "id": "lu4ptU0R3xr3",
        "colab": {
          "base_uri": "https://localhost:8080/",
          "height": 466
        },
        "outputId": "1a8e567d-7a81-452b-bc29-100f317d6cd4"
      },
      "source": [
        "# Solution\n",
        "ConfusionMatrixDisplay.from_estimator(tree_depth_3, X_test, y_test, normalize='true')"
      ],
      "execution_count": null,
      "outputs": [
        {
          "output_type": "execute_result",
          "data": {
            "text/plain": [
              "<sklearn.metrics._plot.confusion_matrix.ConfusionMatrixDisplay at 0x7fa4495260a0>"
            ]
          },
          "metadata": {},
          "execution_count": 68
        },
        {
          "output_type": "display_data",
          "data": {
            "text/plain": [
              "<Figure size 640x480 with 2 Axes>"
            ],
            "image/png": "[encoded data removed]"
          },
          "metadata": {}
        }
      ]
    }
  ]
}