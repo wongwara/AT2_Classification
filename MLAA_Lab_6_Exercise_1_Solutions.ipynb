{
  "nbformat": 4,
  "nbformat_minor": 0,
  "metadata": {
    "colab": {
      "provenance": [],
      "include_colab_link": true
    },
    "kernelspec": {
      "name": "python3",
      "display_name": "Python 3"
    }
  },
  "cells": [
    {
      "cell_type": "markdown",
      "metadata": {
        "id": "view-in-github",
        "colab_type": "text"
      },
      "source": [
        "<a href=\"https://colab.research.google.com/github/wongwara/AT2_Classification/blob/main/MLAA_Lab_6_Exercise_1_Solutions.ipynb\" target=\"_parent\"><img src=\"https://colab.research.google.com/assets/colab-badge.svg\" alt=\"Open In Colab\"/></a>"
      ]
    },
    {
      "cell_type": "markdown",
      "metadata": {
        "id": "uQ6wc2HE0pke"
      },
      "source": [
        "# **Lab 6: Random Forest & ExtraTrees**\n"
      ]
    },
    {
      "cell_type": "markdown",
      "metadata": {
        "id": "ZapocvQ4CPBG"
      },
      "source": [
        "## Exercise 1: Binary Classification with Random Forest\n",
        "\n",
        "We are going to use a modified version of the dataset from UCI Machine Learning Repository which contains the income census data for 30718 americans (https://archive.ics.uci.edu/ml/datasets/Adult).\n",
        "\n",
        "The columns are:\n",
        "1.   AGE: age of the person.\n",
        "2.   WORKCLASS: class of work.\n",
        "3.   EDUCATION_NUM: numeric education level.\n",
        "4.   MARITAL_STATUS: marital status  of the person.\n",
        "5.   OCCUPATION: occupation  of the person.\n",
        "6.   RELATIONSHIP: type of relationship.\n",
        "7.   SEX: sex of the person.\n",
        "8.   HOURS_PER_WEEK: average number of hour working per week.\n",
        "9.   INCOME: income level (<=50K or >50K).\n",
        "\n",
        "We will be loading the data here:\n",
        "https://raw.githubusercontent.com/aso-uts/mlaa/main/datasets/lab6/ex1/adult_income.csv\n",
        "\n",
        "We want to predict whether an individual will earn more or less than $50,000 per year (**\"income\"**). This is a binary classification problem.\n",
        "\n",
        "The steps are:\n",
        "1.   Load and explore dataset\n",
        "2.   Prepare Data\n",
        "3.   Split Data\n",
        "4.   Assess Baseline Model\n",
        "5.   Train Initial RandomForest with Default Hyperparameter\n",
        "6.   Reduce Overfitting with n_estimators\n",
        "7.   Reduce Overfitting with max_depth\n",
        "8.   Reduce Overfitting with min_samples_leaf\n",
        "9.   Reduce Overfitting with max_features\n",
        "10.  Features Importance"
      ]
    },
    {
      "cell_type": "markdown",
      "metadata": {
        "id": "smh_LhVjIg9s"
      },
      "source": [
        "### 1. Load and Explore Dataset"
      ]
    },
    {
      "cell_type": "markdown",
      "metadata": {
        "id": "HmzUc5K_JAQp"
      },
      "source": [
        "**[1.1]** Import the pandas and numpy package"
      ]
    },
    {
      "cell_type": "code",
      "metadata": {
        "id": "eMDBRt0LJCxw"
      },
      "source": [
        "# Placeholder for student's code"
      ],
      "execution_count": null,
      "outputs": []
    },
    {
      "cell_type": "code",
      "metadata": {
        "id": "faNd47YOMyk0"
      },
      "source": [
        "# Solution\n",
        "import pandas as pd\n",
        "import numpy as np"
      ],
      "execution_count": null,
      "outputs": []
    },
    {
      "cell_type": "markdown",
      "metadata": {
        "id": "PZt8el_EJHSu"
      },
      "source": [
        "**[1.2]** Create a variable called file_url containing the link to the CSV file and load the dataset into dataframe called df"
      ]
    },
    {
      "cell_type": "code",
      "metadata": {
        "id": "3EypENfpJHjO"
      },
      "source": [
        "# Placeholder for student's code"
      ],
      "execution_count": null,
      "outputs": []
    },
    {
      "cell_type": "code",
      "metadata": {
        "id": "8wAkIzX4MlfL"
      },
      "source": [
        "# Solution\n",
        "file_url = 'https://raw.githubusercontent.com/aso-uts/mlaa/main/datasets/lab6/ex1/adult_income.csv'\n",
        "df = pd.read_csv(file_url)"
      ],
      "execution_count": null,
      "outputs": []
    },
    {
      "cell_type": "code",
      "source": [
        "# Unit Tests\n",
        "assert isinstance(file_url, str)\n",
        "assert isinstance(df, pd.DataFrame)"
      ],
      "metadata": {
        "id": "X9FXYOYSUze8"
      },
      "execution_count": null,
      "outputs": []
    },
    {
      "cell_type": "markdown",
      "metadata": {
        "id": "CDoBj0-aO_mf"
      },
      "source": [
        "**[1.3]** Display the first 5 rows of df"
      ]
    },
    {
      "cell_type": "code",
      "metadata": {
        "id": "yfk2ucSCJQ7M"
      },
      "source": [
        "# Placeholder for student's code"
      ],
      "execution_count": null,
      "outputs": []
    },
    {
      "cell_type": "code",
      "metadata": {
        "id": "9FHeJY5fImb_",
        "colab": {
          "base_uri": "https://localhost:8080/",
          "height": 206
        },
        "outputId": "d7ad1003-e9e7-48ef-95be-e2634f253721"
      },
      "source": [
        "# Solution\n",
        "df.head()"
      ],
      "execution_count": null,
      "outputs": [
        {
          "output_type": "execute_result",
          "data": {
            "text/plain": [
              "   age         workclass  education_num      marital_status  \\\n",
              "0   39         State_gov             13       Never_married   \n",
              "1   50  Self_emp_not_inc             13  Married_civ_spouse   \n",
              "2   38           Private              9            Divorced   \n",
              "3   53           Private              7  Married_civ_spouse   \n",
              "4   28           Private             13  Married_civ_spouse   \n",
              "\n",
              "          occupation   relationship     sex  hours_per_week income  \n",
              "0       Adm_clerical  Not_in_family    Male              40  <=50K  \n",
              "1    Exec_managerial        Husband    Male              13  <=50K  \n",
              "2  Handlers_cleaners  Not_in_family    Male              40  <=50K  \n",
              "3  Handlers_cleaners        Husband    Male              40  <=50K  \n",
              "4     Prof_specialty           Wife  Female              40  <=50K  "
            ],
            "text/html": [
              "\n",
              "  <div id=\"df-c8a46cf3-90fb-4742-a53c-2aeca41bde42\">\n",
              "    <div class=\"colab-df-container\">\n",
              "      <div>\n",
              "<style scoped>\n",
              "    .dataframe tbody tr th:only-of-type {\n",
              "        vertical-align: middle;\n",
              "    }\n",
              "\n",
              "    .dataframe tbody tr th {\n",
              "        vertical-align: top;\n",
              "    }\n",
              "\n",
              "    .dataframe thead th {\n",
              "        text-align: right;\n",
              "    }\n",
              "</style>\n",
              "<table border=\"1\" class=\"dataframe\">\n",
              "  <thead>\n",
              "    <tr style=\"text-align: right;\">\n",
              "      <th></th>\n",
              "      <th>age</th>\n",
              "      <th>workclass</th>\n",
              "      <th>education_num</th>\n",
              "      <th>marital_status</th>\n",
              "      <th>occupation</th>\n",
              "      <th>relationship</th>\n",
              "      <th>sex</th>\n",
              "      <th>hours_per_week</th>\n",
              "      <th>income</th>\n",
              "    </tr>\n",
              "  </thead>\n",
              "  <tbody>\n",
              "    <tr>\n",
              "      <th>0</th>\n",
              "      <td>39</td>\n",
              "      <td>State_gov</td>\n",
              "      <td>13</td>\n",
              "      <td>Never_married</td>\n",
              "      <td>Adm_clerical</td>\n",
              "      <td>Not_in_family</td>\n",
              "      <td>Male</td>\n",
              "      <td>40</td>\n",
              "      <td>&lt;=50K</td>\n",
              "    </tr>\n",
              "    <tr>\n",
              "      <th>1</th>\n",
              "      <td>50</td>\n",
              "      <td>Self_emp_not_inc</td>\n",
              "      <td>13</td>\n",
              "      <td>Married_civ_spouse</td>\n",
              "      <td>Exec_managerial</td>\n",
              "      <td>Husband</td>\n",
              "      <td>Male</td>\n",
              "      <td>13</td>\n",
              "      <td>&lt;=50K</td>\n",
              "    </tr>\n",
              "    <tr>\n",
              "      <th>2</th>\n",
              "      <td>38</td>\n",
              "      <td>Private</td>\n",
              "      <td>9</td>\n",
              "      <td>Divorced</td>\n",
              "      <td>Handlers_cleaners</td>\n",
              "      <td>Not_in_family</td>\n",
              "      <td>Male</td>\n",
              "      <td>40</td>\n",
              "      <td>&lt;=50K</td>\n",
              "    </tr>\n",
              "    <tr>\n",
              "      <th>3</th>\n",
              "      <td>53</td>\n",
              "      <td>Private</td>\n",
              "      <td>7</td>\n",
              "      <td>Married_civ_spouse</td>\n",
              "      <td>Handlers_cleaners</td>\n",
              "      <td>Husband</td>\n",
              "      <td>Male</td>\n",
              "      <td>40</td>\n",
              "      <td>&lt;=50K</td>\n",
              "    </tr>\n",
              "    <tr>\n",
              "      <th>4</th>\n",
              "      <td>28</td>\n",
              "      <td>Private</td>\n",
              "      <td>13</td>\n",
              "      <td>Married_civ_spouse</td>\n",
              "      <td>Prof_specialty</td>\n",
              "      <td>Wife</td>\n",
              "      <td>Female</td>\n",
              "      <td>40</td>\n",
              "      <td>&lt;=50K</td>\n",
              "    </tr>\n",
              "  </tbody>\n",
              "</table>\n",
              "</div>\n",
              "      <button class=\"colab-df-convert\" onclick=\"convertToInteractive('df-c8a46cf3-90fb-4742-a53c-2aeca41bde42')\"\n",
              "              title=\"Convert this dataframe to an interactive table.\"\n",
              "              style=\"display:none;\">\n",
              "        \n",
              "  <svg xmlns=\"http://www.w3.org/2000/svg\" height=\"24px\"viewBox=\"0 0 24 24\"\n",
              "       width=\"24px\">\n",
              "    <path d=\"M0 0h24v24H0V0z\" fill=\"none\"/>\n",
              "    <path d=\"M18.56 5.44l.94 2.06.94-2.06 2.06-.94-2.06-.94-.94-2.06-.94 2.06-2.06.94zm-11 1L8.5 8.5l.94-2.06 2.06-.94-2.06-.94L8.5 2.5l-.94 2.06-2.06.94zm10 10l.94 2.06.94-2.06 2.06-.94-2.06-.94-.94-2.06-.94 2.06-2.06.94z\"/><path d=\"M17.41 7.96l-1.37-1.37c-.4-.4-.92-.59-1.43-.59-.52 0-1.04.2-1.43.59L10.3 9.45l-7.72 7.72c-.78.78-.78 2.05 0 2.83L4 21.41c.39.39.9.59 1.41.59.51 0 1.02-.2 1.41-.59l7.78-7.78 2.81-2.81c.8-.78.8-2.07 0-2.86zM5.41 20L4 18.59l7.72-7.72 1.47 1.35L5.41 20z\"/>\n",
              "  </svg>\n",
              "      </button>\n",
              "      \n",
              "  <style>\n",
              "    .colab-df-container {\n",
              "      display:flex;\n",
              "      flex-wrap:wrap;\n",
              "      gap: 12px;\n",
              "    }\n",
              "\n",
              "    .colab-df-convert {\n",
              "      background-color: #E8F0FE;\n",
              "      border: none;\n",
              "      border-radius: 50%;\n",
              "      cursor: pointer;\n",
              "      display: none;\n",
              "      fill: #1967D2;\n",
              "      height: 32px;\n",
              "      padding: 0 0 0 0;\n",
              "      width: 32px;\n",
              "    }\n",
              "\n",
              "    .colab-df-convert:hover {\n",
              "      background-color: #E2EBFA;\n",
              "      box-shadow: 0px 1px 2px rgba(60, 64, 67, 0.3), 0px 1px 3px 1px rgba(60, 64, 67, 0.15);\n",
              "      fill: #174EA6;\n",
              "    }\n",
              "\n",
              "    [theme=dark] .colab-df-convert {\n",
              "      background-color: #3B4455;\n",
              "      fill: #D2E3FC;\n",
              "    }\n",
              "\n",
              "    [theme=dark] .colab-df-convert:hover {\n",
              "      background-color: #434B5C;\n",
              "      box-shadow: 0px 1px 3px 1px rgba(0, 0, 0, 0.15);\n",
              "      filter: drop-shadow(0px 1px 2px rgba(0, 0, 0, 0.3));\n",
              "      fill: #FFFFFF;\n",
              "    }\n",
              "  </style>\n",
              "\n",
              "      <script>\n",
              "        const buttonEl =\n",
              "          document.querySelector('#df-c8a46cf3-90fb-4742-a53c-2aeca41bde42 button.colab-df-convert');\n",
              "        buttonEl.style.display =\n",
              "          google.colab.kernel.accessAllowed ? 'block' : 'none';\n",
              "\n",
              "        async function convertToInteractive(key) {\n",
              "          const element = document.querySelector('#df-c8a46cf3-90fb-4742-a53c-2aeca41bde42');\n",
              "          const dataTable =\n",
              "            await google.colab.kernel.invokeFunction('convertToInteractive',\n",
              "                                                     [key], {});\n",
              "          if (!dataTable) return;\n",
              "\n",
              "          const docLinkHtml = 'Like what you see? Visit the ' +\n",
              "            '<a target=\"_blank\" href=https://colab.research.google.com/notebooks/data_table.ipynb>data table notebook</a>'\n",
              "            + ' to learn more about interactive tables.';\n",
              "          element.innerHTML = '';\n",
              "          dataTable['output_type'] = 'display_data';\n",
              "          await google.colab.output.renderOutput(dataTable, element);\n",
              "          const docLink = document.createElement('div');\n",
              "          docLink.innerHTML = docLinkHtml;\n",
              "          element.appendChild(docLink);\n",
              "        }\n",
              "      </script>\n",
              "    </div>\n",
              "  </div>\n",
              "  "
            ]
          },
          "metadata": {},
          "execution_count": 3
        }
      ]
    },
    {
      "cell_type": "markdown",
      "metadata": {
        "id": "I8HScddJJTHt"
      },
      "source": [
        "**[1.4]** Display the dimensions (shape) of df"
      ]
    },
    {
      "cell_type": "code",
      "metadata": {
        "id": "oZX8D5oOJc-g"
      },
      "source": [
        "# Placeholder for student's code"
      ],
      "execution_count": null,
      "outputs": []
    },
    {
      "cell_type": "code",
      "metadata": {
        "id": "OgD6wQaOOOQs",
        "colab": {
          "base_uri": "https://localhost:8080/"
        },
        "outputId": "2efbe680-e1d3-4140-905c-58ea64438be8"
      },
      "source": [
        "# Solution\n",
        "df.shape"
      ],
      "execution_count": null,
      "outputs": [
        {
          "output_type": "execute_result",
          "data": {
            "text/plain": [
              "(30718, 9)"
            ]
          },
          "metadata": {},
          "execution_count": 4
        }
      ]
    },
    {
      "cell_type": "markdown",
      "metadata": {
        "id": "T7_NVhzakz4u"
      },
      "source": [
        "**[1.5]** Display the summary (info) of df"
      ]
    },
    {
      "cell_type": "code",
      "metadata": {
        "id": "FM6zoqUNk0Y9"
      },
      "source": [
        "# Placeholder for student's code"
      ],
      "execution_count": null,
      "outputs": []
    },
    {
      "cell_type": "code",
      "metadata": {
        "id": "qYHsmboEk0d2",
        "colab": {
          "base_uri": "https://localhost:8080/"
        },
        "outputId": "30ab5042-949e-4e68-f767-6288aeaebba6"
      },
      "source": [
        "# Solution\n",
        "df.info()"
      ],
      "execution_count": null,
      "outputs": [
        {
          "output_type": "stream",
          "name": "stdout",
          "text": [
            "<class 'pandas.core.frame.DataFrame'>\n",
            "RangeIndex: 30718 entries, 0 to 30717\n",
            "Data columns (total 9 columns):\n",
            " #   Column          Non-Null Count  Dtype \n",
            "---  ------          --------------  ----- \n",
            " 0   age             30718 non-null  int64 \n",
            " 1   workclass       30718 non-null  object\n",
            " 2   education_num   30718 non-null  int64 \n",
            " 3   marital_status  30718 non-null  object\n",
            " 4   occupation      30718 non-null  object\n",
            " 5   relationship    30718 non-null  object\n",
            " 6   sex             30718 non-null  object\n",
            " 7   hours_per_week  30718 non-null  int64 \n",
            " 8   income          30718 non-null  object\n",
            "dtypes: int64(3), object(6)\n",
            "memory usage: 2.1+ MB\n"
          ]
        }
      ]
    },
    {
      "cell_type": "markdown",
      "metadata": {
        "id": "anZ9DbZtk3Zy"
      },
      "source": [
        "**[1.6]** Display the descriptive statictics of df\n"
      ]
    },
    {
      "cell_type": "code",
      "metadata": {
        "id": "r7I4LEwBk3fn"
      },
      "source": [
        "# Placeholder for student's code"
      ],
      "execution_count": null,
      "outputs": []
    },
    {
      "cell_type": "code",
      "metadata": {
        "id": "S6NTOhbWk3jg",
        "colab": {
          "base_uri": "https://localhost:8080/",
          "height": 300
        },
        "outputId": "c0964a7a-0060-45b2-bb5a-2b52a522cbfc"
      },
      "source": [
        "# Solution\n",
        "df.describe()"
      ],
      "execution_count": null,
      "outputs": [
        {
          "output_type": "execute_result",
          "data": {
            "text/plain": [
              "                age  education_num  hours_per_week\n",
              "count  30718.000000   30718.000000    30718.000000\n",
              "mean      38.443584      10.130314       40.949313\n",
              "std       13.118227       2.562469       11.985382\n",
              "min       17.000000       1.000000        1.000000\n",
              "25%       28.000000       9.000000       40.000000\n",
              "50%       37.000000      10.000000       40.000000\n",
              "75%       47.000000      13.000000       45.000000\n",
              "max       90.000000      16.000000       99.000000"
            ],
            "text/html": [
              "\n",
              "  <div id=\"df-4d68e49b-ff77-4a97-b100-107c39df1d18\">\n",
              "    <div class=\"colab-df-container\">\n",
              "      <div>\n",
              "<style scoped>\n",
              "    .dataframe tbody tr th:only-of-type {\n",
              "        vertical-align: middle;\n",
              "    }\n",
              "\n",
              "    .dataframe tbody tr th {\n",
              "        vertical-align: top;\n",
              "    }\n",
              "\n",
              "    .dataframe thead th {\n",
              "        text-align: right;\n",
              "    }\n",
              "</style>\n",
              "<table border=\"1\" class=\"dataframe\">\n",
              "  <thead>\n",
              "    <tr style=\"text-align: right;\">\n",
              "      <th></th>\n",
              "      <th>age</th>\n",
              "      <th>education_num</th>\n",
              "      <th>hours_per_week</th>\n",
              "    </tr>\n",
              "  </thead>\n",
              "  <tbody>\n",
              "    <tr>\n",
              "      <th>count</th>\n",
              "      <td>30718.000000</td>\n",
              "      <td>30718.000000</td>\n",
              "      <td>30718.000000</td>\n",
              "    </tr>\n",
              "    <tr>\n",
              "      <th>mean</th>\n",
              "      <td>38.443584</td>\n",
              "      <td>10.130314</td>\n",
              "      <td>40.949313</td>\n",
              "    </tr>\n",
              "    <tr>\n",
              "      <th>std</th>\n",
              "      <td>13.118227</td>\n",
              "      <td>2.562469</td>\n",
              "      <td>11.985382</td>\n",
              "    </tr>\n",
              "    <tr>\n",
              "      <th>min</th>\n",
              "      <td>17.000000</td>\n",
              "      <td>1.000000</td>\n",
              "      <td>1.000000</td>\n",
              "    </tr>\n",
              "    <tr>\n",
              "      <th>25%</th>\n",
              "      <td>28.000000</td>\n",
              "      <td>9.000000</td>\n",
              "      <td>40.000000</td>\n",
              "    </tr>\n",
              "    <tr>\n",
              "      <th>50%</th>\n",
              "      <td>37.000000</td>\n",
              "      <td>10.000000</td>\n",
              "      <td>40.000000</td>\n",
              "    </tr>\n",
              "    <tr>\n",
              "      <th>75%</th>\n",
              "      <td>47.000000</td>\n",
              "      <td>13.000000</td>\n",
              "      <td>45.000000</td>\n",
              "    </tr>\n",
              "    <tr>\n",
              "      <th>max</th>\n",
              "      <td>90.000000</td>\n",
              "      <td>16.000000</td>\n",
              "      <td>99.000000</td>\n",
              "    </tr>\n",
              "  </tbody>\n",
              "</table>\n",
              "</div>\n",
              "      <button class=\"colab-df-convert\" onclick=\"convertToInteractive('df-4d68e49b-ff77-4a97-b100-107c39df1d18')\"\n",
              "              title=\"Convert this dataframe to an interactive table.\"\n",
              "              style=\"display:none;\">\n",
              "        \n",
              "  <svg xmlns=\"http://www.w3.org/2000/svg\" height=\"24px\"viewBox=\"0 0 24 24\"\n",
              "       width=\"24px\">\n",
              "    <path d=\"M0 0h24v24H0V0z\" fill=\"none\"/>\n",
              "    <path d=\"M18.56 5.44l.94 2.06.94-2.06 2.06-.94-2.06-.94-.94-2.06-.94 2.06-2.06.94zm-11 1L8.5 8.5l.94-2.06 2.06-.94-2.06-.94L8.5 2.5l-.94 2.06-2.06.94zm10 10l.94 2.06.94-2.06 2.06-.94-2.06-.94-.94-2.06-.94 2.06-2.06.94z\"/><path d=\"M17.41 7.96l-1.37-1.37c-.4-.4-.92-.59-1.43-.59-.52 0-1.04.2-1.43.59L10.3 9.45l-7.72 7.72c-.78.78-.78 2.05 0 2.83L4 21.41c.39.39.9.59 1.41.59.51 0 1.02-.2 1.41-.59l7.78-7.78 2.81-2.81c.8-.78.8-2.07 0-2.86zM5.41 20L4 18.59l7.72-7.72 1.47 1.35L5.41 20z\"/>\n",
              "  </svg>\n",
              "      </button>\n",
              "      \n",
              "  <style>\n",
              "    .colab-df-container {\n",
              "      display:flex;\n",
              "      flex-wrap:wrap;\n",
              "      gap: 12px;\n",
              "    }\n",
              "\n",
              "    .colab-df-convert {\n",
              "      background-color: #E8F0FE;\n",
              "      border: none;\n",
              "      border-radius: 50%;\n",
              "      cursor: pointer;\n",
              "      display: none;\n",
              "      fill: #1967D2;\n",
              "      height: 32px;\n",
              "      padding: 0 0 0 0;\n",
              "      width: 32px;\n",
              "    }\n",
              "\n",
              "    .colab-df-convert:hover {\n",
              "      background-color: #E2EBFA;\n",
              "      box-shadow: 0px 1px 2px rgba(60, 64, 67, 0.3), 0px 1px 3px 1px rgba(60, 64, 67, 0.15);\n",
              "      fill: #174EA6;\n",
              "    }\n",
              "\n",
              "    [theme=dark] .colab-df-convert {\n",
              "      background-color: #3B4455;\n",
              "      fill: #D2E3FC;\n",
              "    }\n",
              "\n",
              "    [theme=dark] .colab-df-convert:hover {\n",
              "      background-color: #434B5C;\n",
              "      box-shadow: 0px 1px 3px 1px rgba(0, 0, 0, 0.15);\n",
              "      filter: drop-shadow(0px 1px 2px rgba(0, 0, 0, 0.3));\n",
              "      fill: #FFFFFF;\n",
              "    }\n",
              "  </style>\n",
              "\n",
              "      <script>\n",
              "        const buttonEl =\n",
              "          document.querySelector('#df-4d68e49b-ff77-4a97-b100-107c39df1d18 button.colab-df-convert');\n",
              "        buttonEl.style.display =\n",
              "          google.colab.kernel.accessAllowed ? 'block' : 'none';\n",
              "\n",
              "        async function convertToInteractive(key) {\n",
              "          const element = document.querySelector('#df-4d68e49b-ff77-4a97-b100-107c39df1d18');\n",
              "          const dataTable =\n",
              "            await google.colab.kernel.invokeFunction('convertToInteractive',\n",
              "                                                     [key], {});\n",
              "          if (!dataTable) return;\n",
              "\n",
              "          const docLinkHtml = 'Like what you see? Visit the ' +\n",
              "            '<a target=\"_blank\" href=https://colab.research.google.com/notebooks/data_table.ipynb>data table notebook</a>'\n",
              "            + ' to learn more about interactive tables.';\n",
              "          element.innerHTML = '';\n",
              "          dataTable['output_type'] = 'display_data';\n",
              "          await google.colab.output.renderOutput(dataTable, element);\n",
              "          const docLink = document.createElement('div');\n",
              "          docLink.innerHTML = docLinkHtml;\n",
              "          element.appendChild(docLink);\n",
              "        }\n",
              "      </script>\n",
              "    </div>\n",
              "  </div>\n",
              "  "
            ]
          },
          "metadata": {},
          "execution_count": 6
        }
      ]
    },
    {
      "cell_type": "markdown",
      "metadata": {
        "id": "hvar8IVTGvsK"
      },
      "source": [
        "### 2. Prepare Data\n",
        "\n",
        "**[2.1]** Create a copy of df and save it into a variable called df_cleaned\n"
      ]
    },
    {
      "cell_type": "code",
      "metadata": {
        "id": "8eGiae8qcM0C"
      },
      "source": [
        "# Placeholder for student's code"
      ],
      "execution_count": null,
      "outputs": []
    },
    {
      "cell_type": "code",
      "metadata": {
        "id": "aJLbW9uSlHdJ"
      },
      "source": [
        "# Solution\n",
        "df_cleaned = df.copy()"
      ],
      "execution_count": null,
      "outputs": []
    },
    {
      "cell_type": "code",
      "source": [
        "# Unit Tests\n",
        "assert isinstance(df_cleaned, pd.DataFrame)\n",
        "assert df_cleaned.shape == df.shape"
      ],
      "metadata": {
        "id": "yIXrsBo5U3kc"
      },
      "execution_count": null,
      "outputs": []
    },
    {
      "cell_type": "markdown",
      "metadata": {
        "id": "3X-PogfULHPg"
      },
      "source": [
        "**[2.3]** Create a variable called cat_cols containing the following items: 'workclass','marital_status','occupation','relationship','sex'"
      ]
    },
    {
      "cell_type": "code",
      "metadata": {
        "id": "Q_0ErVPWlkvx"
      },
      "source": [
        "# Placeholder for student's code"
      ],
      "execution_count": null,
      "outputs": []
    },
    {
      "cell_type": "code",
      "metadata": {
        "id": "XhAP4OUMlX4k"
      },
      "source": [
        "# Solution\n",
        "cat_cols = ['workclass','marital_status','occupation','relationship','sex'] "
      ],
      "execution_count": null,
      "outputs": []
    },
    {
      "cell_type": "code",
      "source": [
        "# Unit Tests\n",
        "assert isinstance(cat_cols, list)\n",
        "assert len(cat_cols) == 5"
      ],
      "metadata": {
        "id": "0gJdk3sOU4cz"
      },
      "execution_count": null,
      "outputs": []
    },
    {
      "cell_type": "markdown",
      "metadata": {
        "id": "EN8in0udlZt0"
      },
      "source": [
        "**[2.4]** One hot encode the categorical columns by using the \"get_dummies\" function from pandas"
      ]
    },
    {
      "cell_type": "code",
      "metadata": {
        "id": "VgTe1zFWlZ8_"
      },
      "source": [
        "# Placeholder for student's code"
      ],
      "execution_count": null,
      "outputs": []
    },
    {
      "cell_type": "code",
      "metadata": {
        "id": "VuFM84ZYLHVj"
      },
      "source": [
        "# Solution\n",
        "df_cleaned = pd.get_dummies(df_cleaned, columns=cat_cols)"
      ],
      "execution_count": null,
      "outputs": []
    },
    {
      "cell_type": "code",
      "source": [
        "# Unit Tests\n",
        "assert df_cleaned.shape == (30718, 40)"
      ],
      "metadata": {
        "id": "VtwMr82aVC_F"
      },
      "execution_count": null,
      "outputs": []
    },
    {
      "cell_type": "markdown",
      "metadata": {
        "id": "Veicx0kOlyGw"
      },
      "source": [
        "**[2.5]** Display the first 5 rows of df_cleaned"
      ]
    },
    {
      "cell_type": "code",
      "metadata": {
        "id": "k0n7MCU8lyXG"
      },
      "source": [
        "# Placeholder for student's code"
      ],
      "execution_count": null,
      "outputs": []
    },
    {
      "cell_type": "code",
      "metadata": {
        "id": "cUjTfQC9lyoR",
        "colab": {
          "base_uri": "https://localhost:8080/",
          "height": 299
        },
        "outputId": "192c4b0b-cfa5-44e8-df1a-f710aec60399"
      },
      "source": [
        "# Solution\n",
        "df_cleaned.head()"
      ],
      "execution_count": null,
      "outputs": [
        {
          "output_type": "execute_result",
          "data": {
            "text/plain": [
              "   age  education_num  hours_per_week income  workclass_Federal_gov  \\\n",
              "0   39             13              40  <=50K                      0   \n",
              "1   50             13              13  <=50K                      0   \n",
              "2   38              9              40  <=50K                      0   \n",
              "3   53              7              40  <=50K                      0   \n",
              "4   28             13              40  <=50K                      0   \n",
              "\n",
              "   workclass_Local_gov  workclass_Private  workclass_Self_emp_inc  \\\n",
              "0                    0                  0                       0   \n",
              "1                    0                  0                       0   \n",
              "2                    0                  1                       0   \n",
              "3                    0                  1                       0   \n",
              "4                    0                  1                       0   \n",
              "\n",
              "   workclass_Self_emp_not_inc  workclass_State_gov  ...  \\\n",
              "0                           0                    1  ...   \n",
              "1                           1                    0  ...   \n",
              "2                           0                    0  ...   \n",
              "3                           0                    0  ...   \n",
              "4                           0                    0  ...   \n",
              "\n",
              "   occupation_Tech_support  occupation_Transport_moving  relationship_Husband  \\\n",
              "0                        0                            0                     0   \n",
              "1                        0                            0                     1   \n",
              "2                        0                            0                     0   \n",
              "3                        0                            0                     1   \n",
              "4                        0                            0                     0   \n",
              "\n",
              "   relationship_Not_in_family  relationship_Other_relative  \\\n",
              "0                           1                            0   \n",
              "1                           0                            0   \n",
              "2                           1                            0   \n",
              "3                           0                            0   \n",
              "4                           0                            0   \n",
              "\n",
              "   relationship_Own_child  relationship_Unmarried  relationship_Wife  \\\n",
              "0                       0                       0                  0   \n",
              "1                       0                       0                  0   \n",
              "2                       0                       0                  0   \n",
              "3                       0                       0                  0   \n",
              "4                       0                       0                  1   \n",
              "\n",
              "   sex_Female  sex_Male  \n",
              "0           0         1  \n",
              "1           0         1  \n",
              "2           0         1  \n",
              "3           0         1  \n",
              "4           1         0  \n",
              "\n",
              "[5 rows x 40 columns]"
            ],
            "text/html": [
              "\n",
              "  <div id=\"df-f9326f27-606e-4848-8899-51d54fd6e49c\">\n",
              "    <div class=\"colab-df-container\">\n",
              "      <div>\n",
              "<style scoped>\n",
              "    .dataframe tbody tr th:only-of-type {\n",
              "        vertical-align: middle;\n",
              "    }\n",
              "\n",
              "    .dataframe tbody tr th {\n",
              "        vertical-align: top;\n",
              "    }\n",
              "\n",
              "    .dataframe thead th {\n",
              "        text-align: right;\n",
              "    }\n",
              "</style>\n",
              "<table border=\"1\" class=\"dataframe\">\n",
              "  <thead>\n",
              "    <tr style=\"text-align: right;\">\n",
              "      <th></th>\n",
              "      <th>age</th>\n",
              "      <th>education_num</th>\n",
              "      <th>hours_per_week</th>\n",
              "      <th>income</th>\n",
              "      <th>workclass_Federal_gov</th>\n",
              "      <th>workclass_Local_gov</th>\n",
              "      <th>workclass_Private</th>\n",
              "      <th>workclass_Self_emp_inc</th>\n",
              "      <th>workclass_Self_emp_not_inc</th>\n",
              "      <th>workclass_State_gov</th>\n",
              "      <th>...</th>\n",
              "      <th>occupation_Tech_support</th>\n",
              "      <th>occupation_Transport_moving</th>\n",
              "      <th>relationship_Husband</th>\n",
              "      <th>relationship_Not_in_family</th>\n",
              "      <th>relationship_Other_relative</th>\n",
              "      <th>relationship_Own_child</th>\n",
              "      <th>relationship_Unmarried</th>\n",
              "      <th>relationship_Wife</th>\n",
              "      <th>sex_Female</th>\n",
              "      <th>sex_Male</th>\n",
              "    </tr>\n",
              "  </thead>\n",
              "  <tbody>\n",
              "    <tr>\n",
              "      <th>0</th>\n",
              "      <td>39</td>\n",
              "      <td>13</td>\n",
              "      <td>40</td>\n",
              "      <td>&lt;=50K</td>\n",
              "      <td>0</td>\n",
              "      <td>0</td>\n",
              "      <td>0</td>\n",
              "      <td>0</td>\n",
              "      <td>0</td>\n",
              "      <td>1</td>\n",
              "      <td>...</td>\n",
              "      <td>0</td>\n",
              "      <td>0</td>\n",
              "      <td>0</td>\n",
              "      <td>1</td>\n",
              "      <td>0</td>\n",
              "      <td>0</td>\n",
              "      <td>0</td>\n",
              "      <td>0</td>\n",
              "      <td>0</td>\n",
              "      <td>1</td>\n",
              "    </tr>\n",
              "    <tr>\n",
              "      <th>1</th>\n",
              "      <td>50</td>\n",
              "      <td>13</td>\n",
              "      <td>13</td>\n",
              "      <td>&lt;=50K</td>\n",
              "      <td>0</td>\n",
              "      <td>0</td>\n",
              "      <td>0</td>\n",
              "      <td>0</td>\n",
              "      <td>1</td>\n",
              "      <td>0</td>\n",
              "      <td>...</td>\n",
              "      <td>0</td>\n",
              "      <td>0</td>\n",
              "      <td>1</td>\n",
              "      <td>0</td>\n",
              "      <td>0</td>\n",
              "      <td>0</td>\n",
              "      <td>0</td>\n",
              "      <td>0</td>\n",
              "      <td>0</td>\n",
              "      <td>1</td>\n",
              "    </tr>\n",
              "    <tr>\n",
              "      <th>2</th>\n",
              "      <td>38</td>\n",
              "      <td>9</td>\n",
              "      <td>40</td>\n",
              "      <td>&lt;=50K</td>\n",
              "      <td>0</td>\n",
              "      <td>0</td>\n",
              "      <td>1</td>\n",
              "      <td>0</td>\n",
              "      <td>0</td>\n",
              "      <td>0</td>\n",
              "      <td>...</td>\n",
              "      <td>0</td>\n",
              "      <td>0</td>\n",
              "      <td>0</td>\n",
              "      <td>1</td>\n",
              "      <td>0</td>\n",
              "      <td>0</td>\n",
              "      <td>0</td>\n",
              "      <td>0</td>\n",
              "      <td>0</td>\n",
              "      <td>1</td>\n",
              "    </tr>\n",
              "    <tr>\n",
              "      <th>3</th>\n",
              "      <td>53</td>\n",
              "      <td>7</td>\n",
              "      <td>40</td>\n",
              "      <td>&lt;=50K</td>\n",
              "      <td>0</td>\n",
              "      <td>0</td>\n",
              "      <td>1</td>\n",
              "      <td>0</td>\n",
              "      <td>0</td>\n",
              "      <td>0</td>\n",
              "      <td>...</td>\n",
              "      <td>0</td>\n",
              "      <td>0</td>\n",
              "      <td>1</td>\n",
              "      <td>0</td>\n",
              "      <td>0</td>\n",
              "      <td>0</td>\n",
              "      <td>0</td>\n",
              "      <td>0</td>\n",
              "      <td>0</td>\n",
              "      <td>1</td>\n",
              "    </tr>\n",
              "    <tr>\n",
              "      <th>4</th>\n",
              "      <td>28</td>\n",
              "      <td>13</td>\n",
              "      <td>40</td>\n",
              "      <td>&lt;=50K</td>\n",
              "      <td>0</td>\n",
              "      <td>0</td>\n",
              "      <td>1</td>\n",
              "      <td>0</td>\n",
              "      <td>0</td>\n",
              "      <td>0</td>\n",
              "      <td>...</td>\n",
              "      <td>0</td>\n",
              "      <td>0</td>\n",
              "      <td>0</td>\n",
              "      <td>0</td>\n",
              "      <td>0</td>\n",
              "      <td>0</td>\n",
              "      <td>0</td>\n",
              "      <td>1</td>\n",
              "      <td>1</td>\n",
              "      <td>0</td>\n",
              "    </tr>\n",
              "  </tbody>\n",
              "</table>\n",
              "<p>5 rows × 40 columns</p>\n",
              "</div>\n",
              "      <button class=\"colab-df-convert\" onclick=\"convertToInteractive('df-f9326f27-606e-4848-8899-51d54fd6e49c')\"\n",
              "              title=\"Convert this dataframe to an interactive table.\"\n",
              "              style=\"display:none;\">\n",
              "        \n",
              "  <svg xmlns=\"http://www.w3.org/2000/svg\" height=\"24px\"viewBox=\"0 0 24 24\"\n",
              "       width=\"24px\">\n",
              "    <path d=\"M0 0h24v24H0V0z\" fill=\"none\"/>\n",
              "    <path d=\"M18.56 5.44l.94 2.06.94-2.06 2.06-.94-2.06-.94-.94-2.06-.94 2.06-2.06.94zm-11 1L8.5 8.5l.94-2.06 2.06-.94-2.06-.94L8.5 2.5l-.94 2.06-2.06.94zm10 10l.94 2.06.94-2.06 2.06-.94-2.06-.94-.94-2.06-.94 2.06-2.06.94z\"/><path d=\"M17.41 7.96l-1.37-1.37c-.4-.4-.92-.59-1.43-.59-.52 0-1.04.2-1.43.59L10.3 9.45l-7.72 7.72c-.78.78-.78 2.05 0 2.83L4 21.41c.39.39.9.59 1.41.59.51 0 1.02-.2 1.41-.59l7.78-7.78 2.81-2.81c.8-.78.8-2.07 0-2.86zM5.41 20L4 18.59l7.72-7.72 1.47 1.35L5.41 20z\"/>\n",
              "  </svg>\n",
              "      </button>\n",
              "      \n",
              "  <style>\n",
              "    .colab-df-container {\n",
              "      display:flex;\n",
              "      flex-wrap:wrap;\n",
              "      gap: 12px;\n",
              "    }\n",
              "\n",
              "    .colab-df-convert {\n",
              "      background-color: #E8F0FE;\n",
              "      border: none;\n",
              "      border-radius: 50%;\n",
              "      cursor: pointer;\n",
              "      display: none;\n",
              "      fill: #1967D2;\n",
              "      height: 32px;\n",
              "      padding: 0 0 0 0;\n",
              "      width: 32px;\n",
              "    }\n",
              "\n",
              "    .colab-df-convert:hover {\n",
              "      background-color: #E2EBFA;\n",
              "      box-shadow: 0px 1px 2px rgba(60, 64, 67, 0.3), 0px 1px 3px 1px rgba(60, 64, 67, 0.15);\n",
              "      fill: #174EA6;\n",
              "    }\n",
              "\n",
              "    [theme=dark] .colab-df-convert {\n",
              "      background-color: #3B4455;\n",
              "      fill: #D2E3FC;\n",
              "    }\n",
              "\n",
              "    [theme=dark] .colab-df-convert:hover {\n",
              "      background-color: #434B5C;\n",
              "      box-shadow: 0px 1px 3px 1px rgba(0, 0, 0, 0.15);\n",
              "      filter: drop-shadow(0px 1px 2px rgba(0, 0, 0, 0.3));\n",
              "      fill: #FFFFFF;\n",
              "    }\n",
              "  </style>\n",
              "\n",
              "      <script>\n",
              "        const buttonEl =\n",
              "          document.querySelector('#df-f9326f27-606e-4848-8899-51d54fd6e49c button.colab-df-convert');\n",
              "        buttonEl.style.display =\n",
              "          google.colab.kernel.accessAllowed ? 'block' : 'none';\n",
              "\n",
              "        async function convertToInteractive(key) {\n",
              "          const element = document.querySelector('#df-f9326f27-606e-4848-8899-51d54fd6e49c');\n",
              "          const dataTable =\n",
              "            await google.colab.kernel.invokeFunction('convertToInteractive',\n",
              "                                                     [key], {});\n",
              "          if (!dataTable) return;\n",
              "\n",
              "          const docLinkHtml = 'Like what you see? Visit the ' +\n",
              "            '<a target=\"_blank\" href=https://colab.research.google.com/notebooks/data_table.ipynb>data table notebook</a>'\n",
              "            + ' to learn more about interactive tables.';\n",
              "          element.innerHTML = '';\n",
              "          dataTable['output_type'] = 'display_data';\n",
              "          await google.colab.output.renderOutput(dataTable, element);\n",
              "          const docLink = document.createElement('div');\n",
              "          docLink.innerHTML = docLinkHtml;\n",
              "          element.appendChild(docLink);\n",
              "        }\n",
              "      </script>\n",
              "    </div>\n",
              "  </div>\n",
              "  "
            ]
          },
          "metadata": {},
          "execution_count": 10
        }
      ]
    },
    {
      "cell_type": "markdown",
      "metadata": {
        "id": "YVbfVoLxmnH9"
      },
      "source": [
        "**[2.6]**  Split the target (X) and the features (Y)"
      ]
    },
    {
      "cell_type": "code",
      "metadata": {
        "id": "1XqUI6lnmnP4"
      },
      "source": [
        "# Placeholder for student's code"
      ],
      "execution_count": null,
      "outputs": []
    },
    {
      "cell_type": "code",
      "metadata": {
        "id": "wL8d6pVJmqR8"
      },
      "source": [
        "# Solution\n",
        "y = df_cleaned.pop('income')\n",
        "X = df_cleaned"
      ],
      "execution_count": null,
      "outputs": []
    },
    {
      "cell_type": "code",
      "source": [
        "# Unit Tests\n",
        "assert X.shape == (30718, 39)\n",
        "assert y.shape == (30718,)"
      ],
      "metadata": {
        "id": "dbyJWbElVSIo"
      },
      "execution_count": null,
      "outputs": []
    },
    {
      "cell_type": "markdown",
      "metadata": {
        "id": "O15uFxxomIPO"
      },
      "source": [
        "## 3. Split Data"
      ]
    },
    {
      "cell_type": "markdown",
      "metadata": {
        "id": "NqfWq60dmhjn"
      },
      "source": [
        "**[3.1]** Print the frequencies of each value of the target \n",
        "variable"
      ]
    },
    {
      "cell_type": "code",
      "metadata": {
        "id": "Ql3tz5Q5miBw"
      },
      "source": [
        "# Placeholder for student's code"
      ],
      "execution_count": null,
      "outputs": []
    },
    {
      "cell_type": "code",
      "metadata": {
        "id": "Y_V3Zt5mmiIC",
        "colab": {
          "base_uri": "https://localhost:8080/"
        },
        "outputId": "122cd7e6-10fb-42d2-b340-45048adde16d"
      },
      "source": [
        "# Solution\n",
        "y.value_counts(normalize=True)"
      ],
      "execution_count": null,
      "outputs": [
        {
          "output_type": "execute_result",
          "data": {
            "text/plain": [
              "<=50K    0.75096\n",
              ">50K     0.24904\n",
              "Name: income, dtype: float64"
            ]
          },
          "metadata": {},
          "execution_count": 29
        }
      ]
    },
    {
      "cell_type": "markdown",
      "metadata": {
        "id": "rQ58kH1yLW0G"
      },
      "source": [
        "\n",
        "**[3.2]** Import train_test_split from sklearn.model_selection "
      ]
    },
    {
      "cell_type": "code",
      "metadata": {
        "id": "m0MoeGkdm2Ze"
      },
      "source": [
        "# Placeholder for student's code"
      ],
      "execution_count": null,
      "outputs": []
    },
    {
      "cell_type": "code",
      "metadata": {
        "id": "4Hn-k0gsiID0"
      },
      "source": [
        "# Solution\n",
        "from sklearn.model_selection import train_test_split"
      ],
      "execution_count": null,
      "outputs": []
    },
    {
      "cell_type": "markdown",
      "metadata": {
        "id": "Y4kdUirgiH2G"
      },
      "source": [
        "**[3.3]** Split randomly the dataset with random_state=8 into 2 different sets: data (80%) and test (20%)"
      ]
    },
    {
      "cell_type": "code",
      "metadata": {
        "id": "Mfg6NLdmK-UL"
      },
      "source": [
        "# Placeholder for student's code"
      ],
      "execution_count": null,
      "outputs": []
    },
    {
      "cell_type": "code",
      "metadata": {
        "id": "NjIRGrIwLBCW"
      },
      "source": [
        "# Solution\n",
        "X_data, X_test, y_data, y_test = train_test_split (X, y, test_size=0.2, random_state=8)"
      ],
      "execution_count": null,
      "outputs": []
    },
    {
      "cell_type": "markdown",
      "metadata": {
        "id": "oi51Z94Dnbr8"
      },
      "source": [
        "**[3.4]** Print the frequencies of each value of the testing target"
      ]
    },
    {
      "cell_type": "code",
      "metadata": {
        "id": "RkE8IhMynb2O"
      },
      "source": [
        "# Placeholder for student's code"
      ],
      "execution_count": null,
      "outputs": []
    },
    {
      "cell_type": "code",
      "metadata": {
        "id": "YqPEvGoxnbz1",
        "colab": {
          "base_uri": "https://localhost:8080/"
        },
        "outputId": "887c7538-933d-4b8f-9bb9-77a661c4bc61"
      },
      "source": [
        "# Solution\n",
        "y_test.value_counts(normalize=True)"
      ],
      "execution_count": null,
      "outputs": [
        {
          "output_type": "execute_result",
          "data": {
            "text/plain": [
              "<=50K    0.75944\n",
              ">50K     0.24056\n",
              "Name: income, dtype: float64"
            ]
          },
          "metadata": {},
          "execution_count": 14
        }
      ]
    },
    {
      "cell_type": "markdown",
      "metadata": {
        "id": "6_-1jq_snmCW"
      },
      "source": [
        "**[3.5]** Split the data randomly with random_state=8 into 2 different sets: training (80%) and validation (20%)"
      ]
    },
    {
      "cell_type": "code",
      "metadata": {
        "id": "2dpqlQyGnmHu"
      },
      "source": [
        "# Placeholder for student's code"
      ],
      "execution_count": null,
      "outputs": []
    },
    {
      "cell_type": "code",
      "metadata": {
        "id": "VTb1D_3OnmL8"
      },
      "source": [
        "# Solution\n",
        "X_train, X_val, y_train, y_val = train_test_split(X_data, y_data, test_size=0.2, random_state=8)"
      ],
      "execution_count": null,
      "outputs": []
    },
    {
      "cell_type": "code",
      "source": [
        "# Unit Tests\n",
        "assert X_train.shape == (19659, 39)\n",
        "assert y_train.shape == (19659,)\n",
        "assert X_val.shape == (4915, 39)\n",
        "assert y_val.shape == (4915,)\n",
        "assert X_test.shape == (6144, 39)\n",
        "assert y_test.shape == (6144,)"
      ],
      "metadata": {
        "id": "KE-pC1YcViA-"
      },
      "execution_count": null,
      "outputs": []
    },
    {
      "cell_type": "markdown",
      "metadata": {
        "id": "bBPro7L1t1or"
      },
      "source": [
        "## 4. Assess Baseline Model"
      ]
    },
    {
      "cell_type": "markdown",
      "metadata": {
        "id": "WBPdF5VvRVs5"
      },
      "source": [
        "**[4.1]** Find the mode of the target variable from the training set and print its value"
      ]
    },
    {
      "cell_type": "code",
      "metadata": {
        "id": "_zzaiRj6ROSY"
      },
      "source": [
        "# Placeholder for student's code"
      ],
      "execution_count": null,
      "outputs": []
    },
    {
      "cell_type": "code",
      "metadata": {
        "id": "qdbB-RjpRbcC",
        "colab": {
          "base_uri": "https://localhost:8080/"
        },
        "outputId": "38418507-36fb-40f8-8a7f-b20d964a421e"
      },
      "source": [
        "# Solution\n",
        "y_mode = y_train.mode()\n",
        "y_mode"
      ],
      "execution_count": null,
      "outputs": [
        {
          "output_type": "execute_result",
          "data": {
            "text/plain": [
              "0    <=50K\n",
              "Name: income, dtype: object"
            ]
          },
          "metadata": {},
          "execution_count": 16
        }
      ]
    },
    {
      "cell_type": "markdown",
      "metadata": {
        "id": "Xo2psR_JE1O-"
      },
      "source": [
        "**[4.2]** Create a numpy array with the same dimensions as for the training set called `y_base` filled with this value\n",
        "\n"
      ]
    },
    {
      "cell_type": "code",
      "metadata": {
        "id": "7ZKzqMUDE5b4"
      },
      "source": [
        "# Placeholder for student's code"
      ],
      "execution_count": null,
      "outputs": []
    },
    {
      "cell_type": "code",
      "metadata": {
        "id": "lblkko_BE5fo"
      },
      "source": [
        "# Solution\n",
        "y_shape = (len(X_train), 1)\n",
        "y_base = np.full(y_shape, y_mode)"
      ],
      "execution_count": null,
      "outputs": []
    },
    {
      "cell_type": "markdown",
      "metadata": {
        "id": "3XYwbPqoFA_H"
      },
      "source": [
        "**[4.3]** Import the accuracy score from sklearn"
      ]
    },
    {
      "cell_type": "code",
      "metadata": {
        "id": "yhRyiCe1FBRW"
      },
      "source": [
        "# Placeholder for student's code"
      ],
      "execution_count": null,
      "outputs": []
    },
    {
      "cell_type": "code",
      "metadata": {
        "id": "w4pzCk6xFBUq"
      },
      "source": [
        "# Solution\n",
        "from sklearn.metrics import accuracy_score"
      ],
      "execution_count": null,
      "outputs": []
    },
    {
      "cell_type": "markdown",
      "metadata": {
        "id": "Z8qOQX_nFE8T"
      },
      "source": [
        "**[4.4]** Display the accuracy score of this baseline model on the training set"
      ]
    },
    {
      "cell_type": "code",
      "metadata": {
        "id": "8O9SLYrvFFGf"
      },
      "source": [
        "# Placeholder for student's code"
      ],
      "execution_count": null,
      "outputs": []
    },
    {
      "cell_type": "code",
      "metadata": {
        "id": "cPF0G5pPFFD4",
        "colab": {
          "base_uri": "https://localhost:8080/"
        },
        "outputId": "b83f80d1-45ab-467b-a5b3-dcb0153e619e"
      },
      "source": [
        "# Solution\n",
        "accuracy_score(y_train, y_base)"
      ],
      "execution_count": null,
      "outputs": [
        {
          "output_type": "execute_result",
          "data": {
            "text/plain": [
              "0.7476473879647998"
            ]
          },
          "metadata": {},
          "execution_count": 19
        }
      ]
    },
    {
      "cell_type": "markdown",
      "metadata": {
        "id": "I0K2ianywrjs"
      },
      "source": [
        "## 5. Train Initial RandomForest with Default Hyperparameter"
      ]
    },
    {
      "cell_type": "markdown",
      "metadata": {
        "id": "c-gHSsrLk23B"
      },
      "source": [
        "**[5.1]** Import the RandomForestClassifier from sklearn.ensemble"
      ]
    },
    {
      "cell_type": "code",
      "metadata": {
        "id": "Zz-9aL8MlV6j"
      },
      "source": [
        "# Placeholder for student's code"
      ],
      "execution_count": null,
      "outputs": []
    },
    {
      "cell_type": "code",
      "metadata": {
        "id": "nTelvJBAk23D"
      },
      "source": [
        "# Solution\n",
        "from sklearn.ensemble import RandomForestClassifier"
      ],
      "execution_count": null,
      "outputs": []
    },
    {
      "cell_type": "markdown",
      "metadata": {
        "id": "tZ8Dz5m-lmnL"
      },
      "source": [
        "**[5.2]** Instantiate the RandomForestClassifier class called rf1 with a random state=8"
      ]
    },
    {
      "cell_type": "code",
      "metadata": {
        "id": "VMJo-cpElmnM"
      },
      "source": [
        "# Placeholder for student's code"
      ],
      "execution_count": null,
      "outputs": []
    },
    {
      "cell_type": "code",
      "metadata": {
        "id": "HfK5SxbglmnQ"
      },
      "source": [
        "# Solution\n",
        "rf1 = RandomForestClassifier(random_state=8)"
      ],
      "execution_count": null,
      "outputs": []
    },
    {
      "cell_type": "markdown",
      "metadata": {
        "id": "jkCyz2benfqX"
      },
      "source": [
        "**[5.3]** Fit the RandomForest model"
      ]
    },
    {
      "cell_type": "code",
      "metadata": {
        "id": "V3elorRznfx2"
      },
      "source": [
        "# Placeholder for student's code"
      ],
      "execution_count": null,
      "outputs": []
    },
    {
      "cell_type": "code",
      "metadata": {
        "id": "Ib8mHNwzn5L2",
        "colab": {
          "base_uri": "https://localhost:8080/",
          "height": 74
        },
        "outputId": "e8a40a4c-6398-4ca4-9b60-338e244d1f3c"
      },
      "source": [
        "# Solution\n",
        "rf1.fit(X_train, y_train)"
      ],
      "execution_count": null,
      "outputs": [
        {
          "output_type": "execute_result",
          "data": {
            "text/plain": [
              "RandomForestClassifier(random_state=8)"
            ],
            "text/html": [
              "<style>#sk-container-id-1 {color: black;background-color: white;}#sk-container-id-1 pre{padding: 0;}#sk-container-id-1 div.sk-toggleable {background-color: white;}#sk-container-id-1 label.sk-toggleable__label {cursor: pointer;display: block;width: 100%;margin-bottom: 0;padding: 0.3em;box-sizing: border-box;text-align: center;}#sk-container-id-1 label.sk-toggleable__label-arrow:before {content: \"▸\";float: left;margin-right: 0.25em;color: #696969;}#sk-container-id-1 label.sk-toggleable__label-arrow:hover:before {color: black;}#sk-container-id-1 div.sk-estimator:hover label.sk-toggleable__label-arrow:before {color: black;}#sk-container-id-1 div.sk-toggleable__content {max-height: 0;max-width: 0;overflow: hidden;text-align: left;background-color: #f0f8ff;}#sk-container-id-1 div.sk-toggleable__content pre {margin: 0.2em;color: black;border-radius: 0.25em;background-color: #f0f8ff;}#sk-container-id-1 input.sk-toggleable__control:checked~div.sk-toggleable__content {max-height: 200px;max-width: 100%;overflow: auto;}#sk-container-id-1 input.sk-toggleable__control:checked~label.sk-toggleable__label-arrow:before {content: \"▾\";}#sk-container-id-1 div.sk-estimator input.sk-toggleable__control:checked~label.sk-toggleable__label {background-color: #d4ebff;}#sk-container-id-1 div.sk-label input.sk-toggleable__control:checked~label.sk-toggleable__label {background-color: #d4ebff;}#sk-container-id-1 input.sk-hidden--visually {border: 0;clip: rect(1px 1px 1px 1px);clip: rect(1px, 1px, 1px, 1px);height: 1px;margin: -1px;overflow: hidden;padding: 0;position: absolute;width: 1px;}#sk-container-id-1 div.sk-estimator {font-family: monospace;background-color: #f0f8ff;border: 1px dotted black;border-radius: 0.25em;box-sizing: border-box;margin-bottom: 0.5em;}#sk-container-id-1 div.sk-estimator:hover {background-color: #d4ebff;}#sk-container-id-1 div.sk-parallel-item::after {content: \"\";width: 100%;border-bottom: 1px solid gray;flex-grow: 1;}#sk-container-id-1 div.sk-label:hover label.sk-toggleable__label {background-color: #d4ebff;}#sk-container-id-1 div.sk-serial::before {content: \"\";position: absolute;border-left: 1px solid gray;box-sizing: border-box;top: 0;bottom: 0;left: 50%;z-index: 0;}#sk-container-id-1 div.sk-serial {display: flex;flex-direction: column;align-items: center;background-color: white;padding-right: 0.2em;padding-left: 0.2em;position: relative;}#sk-container-id-1 div.sk-item {position: relative;z-index: 1;}#sk-container-id-1 div.sk-parallel {display: flex;align-items: stretch;justify-content: center;background-color: white;position: relative;}#sk-container-id-1 div.sk-item::before, #sk-container-id-1 div.sk-parallel-item::before {content: \"\";position: absolute;border-left: 1px solid gray;box-sizing: border-box;top: 0;bottom: 0;left: 50%;z-index: -1;}#sk-container-id-1 div.sk-parallel-item {display: flex;flex-direction: column;z-index: 1;position: relative;background-color: white;}#sk-container-id-1 div.sk-parallel-item:first-child::after {align-self: flex-end;width: 50%;}#sk-container-id-1 div.sk-parallel-item:last-child::after {align-self: flex-start;width: 50%;}#sk-container-id-1 div.sk-parallel-item:only-child::after {width: 0;}#sk-container-id-1 div.sk-dashed-wrapped {border: 1px dashed gray;margin: 0 0.4em 0.5em 0.4em;box-sizing: border-box;padding-bottom: 0.4em;background-color: white;}#sk-container-id-1 div.sk-label label {font-family: monospace;font-weight: bold;display: inline-block;line-height: 1.2em;}#sk-container-id-1 div.sk-label-container {text-align: center;}#sk-container-id-1 div.sk-container {/* jupyter's `normalize.less` sets `[hidden] { display: none; }` but bootstrap.min.css set `[hidden] { display: none !important; }` so we also need the `!important` here to be able to override the default hidden behavior on the sphinx rendered scikit-learn.org. See: https://github.com/scikit-learn/scikit-learn/issues/21755 */display: inline-block !important;position: relative;}#sk-container-id-1 div.sk-text-repr-fallback {display: none;}</style><div id=\"sk-container-id-1\" class=\"sk-top-container\"><div class=\"sk-text-repr-fallback\"><pre>RandomForestClassifier(random_state=8)</pre><b>In a Jupyter environment, please rerun this cell to show the HTML representation or trust the notebook. <br />On GitHub, the HTML representation is unable to render, please try loading this page with nbviewer.org.</b></div><div class=\"sk-container\" hidden><div class=\"sk-item\"><div class=\"sk-estimator sk-toggleable\"><input class=\"sk-toggleable__control sk-hidden--visually\" id=\"sk-estimator-id-1\" type=\"checkbox\" checked><label for=\"sk-estimator-id-1\" class=\"sk-toggleable__label sk-toggleable__label-arrow\">RandomForestClassifier</label><div class=\"sk-toggleable__content\"><pre>RandomForestClassifier(random_state=8)</pre></div></div></div></div></div>"
            ]
          },
          "metadata": {},
          "execution_count": 22
        }
      ]
    },
    {
      "cell_type": "markdown",
      "metadata": {
        "id": "ULmQVwjqwtR1"
      },
      "source": [
        "**[5.4]** Calculate the accuracy of the RandomForest on the training and validation sets and print them"
      ]
    },
    {
      "cell_type": "code",
      "metadata": {
        "id": "TD828hvXxLJJ"
      },
      "source": [
        "# Placeholder for student's code"
      ],
      "execution_count": null,
      "outputs": []
    },
    {
      "cell_type": "code",
      "metadata": {
        "id": "zM3ZUknOwtf3",
        "colab": {
          "base_uri": "https://localhost:8080/"
        },
        "outputId": "838a8521-e4e1-461e-a2e0-55059cd29fcc"
      },
      "source": [
        "# Solution\n",
        "print(rf1.score(X_train, y_train))\n",
        "print(rf1.score(X_val, y_val))"
      ],
      "execution_count": null,
      "outputs": [
        {
          "output_type": "stream",
          "name": "stdout",
          "text": [
            "0.9650541736609186\n",
            "0.8177009155645981\n"
          ]
        }
      ]
    },
    {
      "cell_type": "markdown",
      "metadata": {
        "id": "pPJ2dpQbv_wW"
      },
      "source": [
        "## 6. Reduce Overfitting with n_estimators"
      ]
    },
    {
      "cell_type": "markdown",
      "metadata": {
        "id": "9Y4HHjLrob2k"
      },
      "source": [
        "**[6.1]** Train a RandomForestClassifier model with n_estimators=50 and print the accuracy score for the training and validation sets"
      ]
    },
    {
      "cell_type": "code",
      "metadata": {
        "id": "trg_BqH8u6vY"
      },
      "source": [
        "# Placeholder for student's code"
      ],
      "execution_count": null,
      "outputs": []
    },
    {
      "cell_type": "code",
      "metadata": {
        "id": "7oTLKUUXu64h",
        "colab": {
          "base_uri": "https://localhost:8080/"
        },
        "outputId": "61aa0c92-0f71-4882-c79a-263c24222826"
      },
      "source": [
        "# Solution\n",
        "rf2 = RandomForestClassifier(random_state=8, n_estimators=50).fit(X_train, y_train)\n",
        "print(rf2.score(X_train, y_train))\n",
        "print(rf2.score(X_val, y_val))"
      ],
      "execution_count": null,
      "outputs": [
        {
          "output_type": "stream",
          "name": "stdout",
          "text": [
            "0.9644437662139478\n",
            "0.8179043743641913\n"
          ]
        }
      ]
    },
    {
      "cell_type": "markdown",
      "metadata": {
        "id": "9XEL8qQUtmtx"
      },
      "source": [
        "**[6.2]** Train a RandomForestClassifier model with n_estimators=200 and print the accuracy score for the training and validation sets"
      ]
    },
    {
      "cell_type": "code",
      "metadata": {
        "id": "9HdnXEsjvGdl"
      },
      "source": [
        "# Placeholder for student's code"
      ],
      "execution_count": null,
      "outputs": []
    },
    {
      "cell_type": "code",
      "metadata": {
        "id": "6bCZ8FqRvGhd",
        "colab": {
          "base_uri": "https://localhost:8080/"
        },
        "outputId": "4caa6f18-05cf-4244-9137-ebdd89257987"
      },
      "source": [
        "# Solution\n",
        "rf2 = RandomForestClassifier(random_state=8, n_estimators=200).fit(X_train, y_train)\n",
        "print(rf2.score(X_train, y_train))\n",
        "print(rf2.score(X_val, y_val))"
      ],
      "execution_count": null,
      "outputs": [
        {
          "output_type": "stream",
          "name": "stdout",
          "text": [
            "0.9650541736609186\n",
            "0.8191251271617498\n"
          ]
        }
      ]
    },
    {
      "cell_type": "markdown",
      "metadata": {
        "id": "ltCbX5h23na0"
      },
      "source": [
        "## 7. Reduce Overfitting with max_depth"
      ]
    },
    {
      "cell_type": "markdown",
      "metadata": {
        "id": "xosIG2j5wyJ8"
      },
      "source": [
        "**[7.1]** Print the average \"**max_depth**\" for rf2:"
      ]
    },
    {
      "cell_type": "code",
      "metadata": {
        "id": "9bxGTugawzak",
        "colab": {
          "base_uri": "https://localhost:8080/"
        },
        "outputId": "842e2f35-9dd0-4b31-ef16-2d45abb3d0a5"
      },
      "source": [
        "np.mean([estimator.tree_.max_depth for estimator in rf2.estimators_])"
      ],
      "execution_count": null,
      "outputs": [
        {
          "output_type": "execute_result",
          "data": {
            "text/plain": [
              "37.395"
            ]
          },
          "metadata": {},
          "execution_count": 27
        }
      ]
    },
    {
      "cell_type": "markdown",
      "metadata": {
        "id": "buSIj9bzwk1s"
      },
      "source": [
        "**[7.2]** Train a RandomForestClassifier model with n_estimators=50, max_depth=10 and print the accuracy score for the training and validation sets"
      ]
    },
    {
      "cell_type": "code",
      "metadata": {
        "id": "uEOUWMJFwk1t"
      },
      "source": [
        "# Placeholder for student's code"
      ],
      "execution_count": null,
      "outputs": []
    },
    {
      "cell_type": "code",
      "metadata": {
        "id": "KDgcVwmczjln",
        "colab": {
          "base_uri": "https://localhost:8080/"
        },
        "outputId": "51f1250f-1ff5-4d7e-f27a-ff85999befd9"
      },
      "source": [
        "# Solution\n",
        "rf3 = RandomForestClassifier(random_state=8, n_estimators=50, max_depth=10).fit(X_train, y_train)\n",
        "print(rf3.score(X_train, y_train))\n",
        "print(rf3.score(X_val, y_val))"
      ],
      "execution_count": null,
      "outputs": [
        {
          "output_type": "stream",
          "name": "stdout",
          "text": [
            "0.846533394374078\n",
            "0.8349949135300102\n"
          ]
        }
      ]
    },
    {
      "cell_type": "markdown",
      "metadata": {
        "id": "EnYyZ3Ap5UUr"
      },
      "source": [
        "**[7.3]** Train a RandomForestClassifier model with n_estimators=50, max_depth=20 and print the accuracy score for the training and validation sets"
      ]
    },
    {
      "cell_type": "code",
      "metadata": {
        "id": "fnC8qZ9F5gDe"
      },
      "source": [
        "# Placeholder for student's code"
      ],
      "execution_count": null,
      "outputs": []
    },
    {
      "cell_type": "code",
      "metadata": {
        "id": "Pk3GptWZzqlG",
        "colab": {
          "base_uri": "https://localhost:8080/"
        },
        "outputId": "22637d11-06c8-45d6-ce22-387c16aca3af"
      },
      "source": [
        "# Solution\n",
        "rf4 = RandomForestClassifier(random_state=8, n_estimators=50, max_depth=20).fit(X_train, y_train)\n",
        "print(rf4.score(X_train, y_train))\n",
        "print(rf4.score(X_val, y_val))"
      ],
      "execution_count": null,
      "outputs": [
        {
          "output_type": "stream",
          "name": "stdout",
          "text": [
            "0.9393153263136477\n",
            "0.834791454730417\n"
          ]
        }
      ]
    },
    {
      "cell_type": "markdown",
      "metadata": {
        "id": "Qbx6zBna5XEC"
      },
      "source": [
        "**[7.4]** xTrain a RandomForestClassifier model with n_estimators=50, max_depth=15 and print the accuracy score for the training and validation sets"
      ]
    },
    {
      "cell_type": "code",
      "metadata": {
        "id": "GeHIf5sT5grd"
      },
      "source": [
        "# Placeholder for student's code"
      ],
      "execution_count": null,
      "outputs": []
    },
    {
      "cell_type": "code",
      "metadata": {
        "id": "j5I6zqN0zwYj",
        "colab": {
          "base_uri": "https://localhost:8080/"
        },
        "outputId": "a9eb1f07-d923-4536-82e3-0128bc375b2d"
      },
      "source": [
        "# Solution\n",
        "rf5 = RandomForestClassifier(random_state=8, n_estimators=50, max_depth=15).fit(X_train, y_train)\n",
        "print(rf5.score(X_train, y_train))\n",
        "print(rf5.score(X_val, y_val))"
      ],
      "execution_count": null,
      "outputs": [
        {
          "output_type": "stream",
          "name": "stdout",
          "text": [
            "0.8917035454499211\n",
            "0.8368260427263479\n"
          ]
        }
      ]
    },
    {
      "cell_type": "markdown",
      "metadata": {
        "id": "i86Yydg73rik"
      },
      "source": [
        "## 8.   Reduce Overfitting with min_samples_leaf"
      ]
    },
    {
      "cell_type": "markdown",
      "metadata": {
        "id": "wYgZ_1YIEV0N"
      },
      "source": [
        "**[8.1]** Train a RandomForestClassifier model with n_estimators=50, max_depth=15, min_samples_leaf=2 and print the accuracy score for the training and validation sets"
      ]
    },
    {
      "cell_type": "code",
      "metadata": {
        "id": "If0XE6DGEV0P"
      },
      "source": [
        "# Placeholder for student's code"
      ],
      "execution_count": null,
      "outputs": []
    },
    {
      "cell_type": "code",
      "metadata": {
        "id": "t8LJFfTT0Cee",
        "colab": {
          "base_uri": "https://localhost:8080/"
        },
        "outputId": "85905562-9937-4e07-a65d-a6cf4f8ccd4f"
      },
      "source": [
        "# Solution\n",
        "rf6 = RandomForestClassifier(random_state=8, n_estimators=50, max_depth=15, min_samples_leaf=2).fit(X_train, y_train)\n",
        "print(rf6.score(X_train, y_train))\n",
        "print(rf6.score(X_val, y_val))"
      ],
      "execution_count": null,
      "outputs": [
        {
          "output_type": "stream",
          "name": "stdout",
          "text": [
            "0.8656086270919172\n",
            "0.8439471007121058\n"
          ]
        }
      ]
    },
    {
      "cell_type": "markdown",
      "metadata": {
        "id": "UsntSK476gT6"
      },
      "source": [
        "**[8.2]** Train a RandomForestClassifier model with n_estimators=50, max_depth=15, min_samples_leaf=10 and print the accuracy score for the training and validation sets"
      ]
    },
    {
      "cell_type": "code",
      "metadata": {
        "id": "lbUo_Jlz6tEs"
      },
      "source": [
        "# Placeholder for student's code"
      ],
      "execution_count": null,
      "outputs": []
    },
    {
      "cell_type": "code",
      "metadata": {
        "id": "Xgwbefwk0Phe",
        "colab": {
          "base_uri": "https://localhost:8080/"
        },
        "outputId": "48609810-9882-443a-835c-8d24cc28486c"
      },
      "source": [
        "# Solution\n",
        "rf7 = RandomForestClassifier(random_state=8, n_estimators=50, max_depth=15, min_samples_leaf=10).fit(X_train, y_train)\n",
        "print(rf7.score(X_train, y_train))\n",
        "print(rf7.score(X_val, y_val))"
      ],
      "execution_count": null,
      "outputs": [
        {
          "output_type": "stream",
          "name": "stdout",
          "text": [
            "0.8395645760211607\n",
            "0.8364191251271618\n"
          ]
        }
      ]
    },
    {
      "cell_type": "markdown",
      "metadata": {
        "id": "2xHa9RkB6iX3"
      },
      "source": [
        "**[8.3]** Train a RandomForestClassifier model with n_estimators=50, max_depth=15, min_samples_leaf=5 and print the accuracy score for the training and validation sets"
      ]
    },
    {
      "cell_type": "code",
      "metadata": {
        "id": "V_W7S0gk6ueg"
      },
      "source": [
        "# Placeholder for student's code"
      ],
      "execution_count": null,
      "outputs": []
    },
    {
      "cell_type": "code",
      "metadata": {
        "id": "yLb0cOuH0XpZ",
        "colab": {
          "base_uri": "https://localhost:8080/"
        },
        "outputId": "83e9d23e-cec5-4347-c5ed-c81bd7dbce6f"
      },
      "source": [
        "# Solution\n",
        "rf8 = RandomForestClassifier(random_state=8, n_estimators=50, max_depth=15, min_samples_leaf=5).fit(X_train, y_train)\n",
        "print(rf8.score(X_train, y_train))\n",
        "print(rf8.score(X_val, y_val))"
      ],
      "execution_count": null,
      "outputs": [
        {
          "output_type": "stream",
          "name": "stdout",
          "text": [
            "0.8487715550129712\n",
            "0.8404883011190234\n"
          ]
        }
      ]
    },
    {
      "cell_type": "markdown",
      "metadata": {
        "id": "w1CsDlvx3uhU"
      },
      "source": [
        "## 9.   Reduce Overfitting with max_features"
      ]
    },
    {
      "cell_type": "markdown",
      "metadata": {
        "id": "wa68L9zlGhpN"
      },
      "source": [
        "**[9.1]** Train a RandomForestClassifier model with n_estimators=50, max_depth=15, min_samples_leaf=2, max_features=2 and print the accuracy score for the training and validation sets"
      ]
    },
    {
      "cell_type": "code",
      "metadata": {
        "id": "HvuCV0VV74E8"
      },
      "source": [
        "# Placeholder for student's code"
      ],
      "execution_count": null,
      "outputs": []
    },
    {
      "cell_type": "code",
      "metadata": {
        "id": "uA4Gpiql0jSf",
        "colab": {
          "base_uri": "https://localhost:8080/"
        },
        "outputId": "9a63a143-1cc0-4be2-d0dc-88b3ef01e4bf"
      },
      "source": [
        "# Solution\n",
        "rf9 = RandomForestClassifier(random_state=8, n_estimators=50, max_depth=15, min_samples_leaf=2, max_features=2).fit(X_train, y_train)\n",
        "print(rf9.score(X_train, y_train))\n",
        "print(rf9.score(X_val, y_val))"
      ],
      "execution_count": null,
      "outputs": [
        {
          "output_type": "stream",
          "name": "stdout",
          "text": [
            "0.8492293605981993\n",
            "0.8329603255340794\n"
          ]
        }
      ]
    },
    {
      "cell_type": "markdown",
      "metadata": {
        "id": "_4BquVUS7lau"
      },
      "source": [
        "**[9.2]** Train a RandomForestClassifier model with n_estimators=50, max_depth=15, min_samples_leaf=2, max_features=5 and print the accuracy score for the training and validation sets"
      ]
    },
    {
      "cell_type": "code",
      "metadata": {
        "id": "D4HcGm-i74yk"
      },
      "source": [
        "# Placeholder for student's code"
      ],
      "execution_count": null,
      "outputs": []
    },
    {
      "cell_type": "code",
      "metadata": {
        "id": "6QRStqBV0xa1",
        "colab": {
          "base_uri": "https://localhost:8080/"
        },
        "outputId": "df11a50b-4e01-43f6-ce0d-3ef56cf38771"
      },
      "source": [
        "# Solution\n",
        "rf10 = RandomForestClassifier(random_state=8, n_estimators=50, max_depth=15, min_samples_leaf=2, max_features=5).fit(X_train, y_train)\n",
        "print(rf10.score(X_train, y_train))\n",
        "print(rf10.score(X_val, y_val))"
      ],
      "execution_count": null,
      "outputs": [
        {
          "output_type": "stream",
          "name": "stdout",
          "text": [
            "0.8608271020906455\n",
            "0.8366225839267548\n"
          ]
        }
      ]
    },
    {
      "cell_type": "markdown",
      "metadata": {
        "id": "KuUNTP6s7qrq"
      },
      "source": [
        "**[9.3]** Train a RandomForestClassifier model with n_estimators=50, max_depth=15, min_samples_leaf=2, max_features=None and print the accuracy score for the training and validation sets"
      ]
    },
    {
      "cell_type": "code",
      "metadata": {
        "id": "F7OI_Xbw75d2"
      },
      "source": [
        "# Placeholder for student's code"
      ],
      "execution_count": null,
      "outputs": []
    },
    {
      "cell_type": "code",
      "metadata": {
        "id": "DcX1Xyjf041A",
        "colab": {
          "base_uri": "https://localhost:8080/"
        },
        "outputId": "102757aa-f341-4fc0-c518-ce10aaa8ab2e"
      },
      "source": [
        "# Solution\n",
        "rf11 = RandomForestClassifier(random_state=8, n_estimators=50, max_depth=15, min_samples_leaf=2, max_features=None).fit(X_train, y_train)\n",
        "print(rf11.score(X_train, y_train))\n",
        "print(rf11.score(X_val, y_val))"
      ],
      "execution_count": null,
      "outputs": [
        {
          "output_type": "stream",
          "name": "stdout",
          "text": [
            "0.8945521135357851\n",
            "0.8362156663275687\n"
          ]
        }
      ]
    },
    {
      "cell_type": "markdown",
      "metadata": {
        "id": "fLncUA9_8UpL"
      },
      "source": [
        "**[9.4]** Print the accuracy score of the best model on the testing set"
      ]
    },
    {
      "cell_type": "code",
      "metadata": {
        "id": "0ROA7Ru38X3T"
      },
      "source": [
        "# Placeholder for student's code"
      ],
      "execution_count": null,
      "outputs": []
    },
    {
      "cell_type": "code",
      "metadata": {
        "id": "VhZBZdtI1Fsn",
        "colab": {
          "base_uri": "https://localhost:8080/"
        },
        "outputId": "7caf670b-545c-4fdf-9f41-6a6aaa3f21d0"
      },
      "source": [
        "# Solution\n",
        "print(rf7.score(X_test, y_test))"
      ],
      "execution_count": null,
      "outputs": [
        {
          "output_type": "stream",
          "name": "stdout",
          "text": [
            "0.84130859375\n"
          ]
        }
      ]
    },
    {
      "cell_type": "markdown",
      "metadata": {
        "id": "YvDT3-Ae8Zpq"
      },
      "source": [
        "**[9.5]** Import confusion_matrix, ConfusionMatrixDisplay from sklearn.metrics and matplotlib"
      ]
    },
    {
      "cell_type": "code",
      "metadata": {
        "id": "0mfUNjHz8Z5q"
      },
      "source": [
        "# Placeholder for student's code"
      ],
      "execution_count": null,
      "outputs": []
    },
    {
      "cell_type": "code",
      "metadata": {
        "id": "oATZiMax1dM0"
      },
      "source": [
        "# Solution\n",
        "from sklearn.metrics import confusion_matrix, ConfusionMatrixDisplay\n",
        "import matplotlib.pyplot as plt"
      ],
      "execution_count": null,
      "outputs": []
    },
    {
      "cell_type": "markdown",
      "metadata": {
        "id": "RudWEXbS8abT"
      },
      "source": [
        "**[9.6]** Task: Plot the confusion matrics for the training, validation and testing sets"
      ]
    },
    {
      "cell_type": "code",
      "metadata": {
        "id": "Tmvdn6rj8ai4"
      },
      "source": [
        "# Placeholder for student's code"
      ],
      "execution_count": null,
      "outputs": []
    },
    {
      "cell_type": "code",
      "metadata": {
        "id": "ou337wGx1gNU",
        "colab": {
          "base_uri": "https://localhost:8080/",
          "height": 1000
        },
        "outputId": "2ae988e0-9398-4892-c3c7-f8f03638483f"
      },
      "source": [
        "# Solution\n",
        "ConfusionMatrixDisplay.from_estimator(rf7, X_train, y_train, normalize='true')\n",
        "ConfusionMatrixDisplay.from_estimator(rf7, X_val, y_val, normalize='true')\n",
        "ConfusionMatrixDisplay.from_estimator(rf7, X_test, y_test, normalize='true')"
      ],
      "execution_count": null,
      "outputs": [
        {
          "output_type": "execute_result",
          "data": {
            "text/plain": [
              "<sklearn.metrics._plot.confusion_matrix.ConfusionMatrixDisplay at 0x7f46b1180af0>"
            ]
          },
          "metadata": {},
          "execution_count": 39
        },
        {
          "output_type": "display_data",
          "data": {
            "text/plain": [
              "<Figure size 640x480 with 2 Axes>"
            ],
            "image/png": "[encoded data removed]"
          },
          "metadata": {}
        },
        {
          "output_type": "display_data",
          "data": {
            "text/plain": [
              "<Figure size 640x480 with 2 Axes>"
            ],
            "image/png": "[encoded data removed]"
          },
          "metadata": {}
        },
        {
          "output_type": "display_data",
          "data": {
            "text/plain": [
              "<Figure size 640x480 with 2 Axes>"
            ],
            "image/png": "[encoded data removed]"
          },
          "metadata": {}
        }
      ]
    },
    {
      "cell_type": "markdown",
      "metadata": {
        "id": "ZvrMlsNs1Uxo"
      },
      "source": [
        "## 10.  Features Importance\n"
      ]
    },
    {
      "cell_type": "markdown",
      "metadata": {
        "id": "lYRMKSYoLPcK"
      },
      "source": [
        "**[10.1]** Task: Print the features importance of rf7"
      ]
    },
    {
      "cell_type": "code",
      "metadata": {
        "id": "n4Vwa1RMLXBr"
      },
      "source": [
        "# Placeholder for student's code"
      ],
      "execution_count": null,
      "outputs": []
    },
    {
      "cell_type": "code",
      "metadata": {
        "id": "fWkKR_N-1VHO",
        "colab": {
          "base_uri": "https://localhost:8080/"
        },
        "outputId": "fbf7f0f1-abee-48f8-dbcc-934ae409f3d3"
      },
      "source": [
        "# Solution\n",
        "rf7.feature_importances_"
      ],
      "execution_count": null,
      "outputs": [
        {
          "output_type": "execute_result",
          "data": {
            "text/plain": [
              "array([1.07684813e-01, 1.81421477e-01, 6.34910891e-02, 2.49831265e-03,\n",
              "       2.11712046e-03, 8.24463088e-03, 8.13653069e-03, 7.46001010e-03,\n",
              "       1.29350603e-03, 0.00000000e+00, 1.53779911e-02, 0.00000000e+00,\n",
              "       1.80617957e-01, 4.77953795e-04, 7.43455457e-02, 1.93173144e-03,\n",
              "       6.98456837e-04, 3.24263933e-03, 0.00000000e+00, 5.06467067e-03,\n",
              "       4.38021107e-02, 6.57313731e-03, 3.56025977e-03, 6.79344635e-03,\n",
              "       1.77391920e-02, 3.31284068e-06, 3.40253416e-02, 1.54121194e-03,\n",
              "       4.87070944e-03, 3.36587492e-03, 4.99700548e-03, 1.06022026e-01,\n",
              "       2.04752344e-02, 7.08691427e-04, 1.72039642e-02, 7.98189006e-03,\n",
              "       2.35509572e-02, 1.55371582e-02, 1.71440396e-02])"
            ]
          },
          "metadata": {},
          "execution_count": 40
        }
      ]
    },
    {
      "cell_type": "markdown",
      "metadata": {
        "id": "AvMKizNaLnxw"
      },
      "source": [
        "**[10.2]** Create a Dataframe with these values"
      ]
    },
    {
      "cell_type": "code",
      "metadata": {
        "id": "Z-I5vxwU1vDG"
      },
      "source": [
        "feat_imp_rf_df = pd.DataFrame(\n",
        "    {\n",
        "        'feature': X_train.columns,\n",
        "     'feature_importance': rf7.feature_importances_\n",
        "     }\n",
        ")"
      ],
      "execution_count": null,
      "outputs": []
    },
    {
      "cell_type": "code",
      "source": [
        "feat_imp_rf_df"
      ],
      "metadata": {
        "colab": {
          "base_uri": "https://localhost:8080/",
          "height": 1000
        },
        "id": "NtfIZXEwAK7I",
        "outputId": "350cd74c-e8f5-4ae3-b2dd-f3179d792b47"
      },
      "execution_count": null,
      "outputs": [
        {
          "output_type": "execute_result",
          "data": {
            "text/plain": [
              "                                 feature  feature_importance\n",
              "0                          education_num            0.181421\n",
              "1      marital_status_Married_civ_spouse            0.180618\n",
              "2                                    age            0.107685\n",
              "3                   relationship_Husband            0.106022\n",
              "4           marital_status_Never_married            0.074346\n",
              "5                         hours_per_week            0.063491\n",
              "6             occupation_Exec_managerial            0.043802\n",
              "7              occupation_Prof_specialty            0.034025\n",
              "8                      relationship_Wife            0.023551\n",
              "9             relationship_Not_in_family            0.020475\n",
              "10              occupation_Other_service            0.017739\n",
              "11                relationship_Own_child            0.017204\n",
              "12                              sex_Male            0.017144\n",
              "13                            sex_Female            0.015537\n",
              "14               marital_status_Divorced            0.015378\n",
              "15                     workclass_Private            0.008245\n",
              "16                workclass_Self_emp_inc            0.008137\n",
              "17                relationship_Unmarried            0.007982\n",
              "18            workclass_Self_emp_not_inc            0.007460\n",
              "19          occupation_Machine_op_inspct            0.006793\n",
              "20            occupation_Farming_fishing            0.006573\n",
              "21               occupation_Craft_repair            0.005065\n",
              "22           occupation_Transport_moving            0.004997\n",
              "23                      occupation_Sales            0.004871\n",
              "24          occupation_Handlers_cleaners            0.003560\n",
              "25               occupation_Tech_support            0.003366\n",
              "26               occupation_Adm_clerical            0.003243\n",
              "27                 workclass_Federal_gov            0.002498\n",
              "28                   workclass_Local_gov            0.002117\n",
              "29              marital_status_Separated            0.001932\n",
              "30            occupation_Protective_serv            0.001541\n",
              "31                   workclass_State_gov            0.001294\n",
              "32           relationship_Other_relative            0.000709\n",
              "33                marital_status_Widowed            0.000698\n",
              "34  marital_status_Married_spouse_absent            0.000478\n",
              "35            occupation_Priv_house_serv            0.000003\n",
              "36      marital_status_Married_AF_spouse            0.000000\n",
              "37                 workclass_Without_pay            0.000000\n",
              "38               occupation_Armed_Forces            0.000000"
            ],
            "text/html": [
              "\n",
              "  <div id=\"df-fe4ec842-ef63-4c84-920c-859c6fcee621\">\n",
              "    <div class=\"colab-df-container\">\n",
              "      <div>\n",
              "<style scoped>\n",
              "    .dataframe tbody tr th:only-of-type {\n",
              "        vertical-align: middle;\n",
              "    }\n",
              "\n",
              "    .dataframe tbody tr th {\n",
              "        vertical-align: top;\n",
              "    }\n",
              "\n",
              "    .dataframe thead th {\n",
              "        text-align: right;\n",
              "    }\n",
              "</style>\n",
              "<table border=\"1\" class=\"dataframe\">\n",
              "  <thead>\n",
              "    <tr style=\"text-align: right;\">\n",
              "      <th></th>\n",
              "      <th>feature</th>\n",
              "      <th>feature_importance</th>\n",
              "    </tr>\n",
              "  </thead>\n",
              "  <tbody>\n",
              "    <tr>\n",
              "      <th>0</th>\n",
              "      <td>education_num</td>\n",
              "      <td>0.181421</td>\n",
              "    </tr>\n",
              "    <tr>\n",
              "      <th>1</th>\n",
              "      <td>marital_status_Married_civ_spouse</td>\n",
              "      <td>0.180618</td>\n",
              "    </tr>\n",
              "    <tr>\n",
              "      <th>2</th>\n",
              "      <td>age</td>\n",
              "      <td>0.107685</td>\n",
              "    </tr>\n",
              "    <tr>\n",
              "      <th>3</th>\n",
              "      <td>relationship_Husband</td>\n",
              "      <td>0.106022</td>\n",
              "    </tr>\n",
              "    <tr>\n",
              "      <th>4</th>\n",
              "      <td>marital_status_Never_married</td>\n",
              "      <td>0.074346</td>\n",
              "    </tr>\n",
              "    <tr>\n",
              "      <th>5</th>\n",
              "      <td>hours_per_week</td>\n",
              "      <td>0.063491</td>\n",
              "    </tr>\n",
              "    <tr>\n",
              "      <th>6</th>\n",
              "      <td>occupation_Exec_managerial</td>\n",
              "      <td>0.043802</td>\n",
              "    </tr>\n",
              "    <tr>\n",
              "      <th>7</th>\n",
              "      <td>occupation_Prof_specialty</td>\n",
              "      <td>0.034025</td>\n",
              "    </tr>\n",
              "    <tr>\n",
              "      <th>8</th>\n",
              "      <td>relationship_Wife</td>\n",
              "      <td>0.023551</td>\n",
              "    </tr>\n",
              "    <tr>\n",
              "      <th>9</th>\n",
              "      <td>relationship_Not_in_family</td>\n",
              "      <td>0.020475</td>\n",
              "    </tr>\n",
              "    <tr>\n",
              "      <th>10</th>\n",
              "      <td>occupation_Other_service</td>\n",
              "      <td>0.017739</td>\n",
              "    </tr>\n",
              "    <tr>\n",
              "      <th>11</th>\n",
              "      <td>relationship_Own_child</td>\n",
              "      <td>0.017204</td>\n",
              "    </tr>\n",
              "    <tr>\n",
              "      <th>12</th>\n",
              "      <td>sex_Male</td>\n",
              "      <td>0.017144</td>\n",
              "    </tr>\n",
              "    <tr>\n",
              "      <th>13</th>\n",
              "      <td>sex_Female</td>\n",
              "      <td>0.015537</td>\n",
              "    </tr>\n",
              "    <tr>\n",
              "      <th>14</th>\n",
              "      <td>marital_status_Divorced</td>\n",
              "      <td>0.015378</td>\n",
              "    </tr>\n",
              "    <tr>\n",
              "      <th>15</th>\n",
              "      <td>workclass_Private</td>\n",
              "      <td>0.008245</td>\n",
              "    </tr>\n",
              "    <tr>\n",
              "      <th>16</th>\n",
              "      <td>workclass_Self_emp_inc</td>\n",
              "      <td>0.008137</td>\n",
              "    </tr>\n",
              "    <tr>\n",
              "      <th>17</th>\n",
              "      <td>relationship_Unmarried</td>\n",
              "      <td>0.007982</td>\n",
              "    </tr>\n",
              "    <tr>\n",
              "      <th>18</th>\n",
              "      <td>workclass_Self_emp_not_inc</td>\n",
              "      <td>0.007460</td>\n",
              "    </tr>\n",
              "    <tr>\n",
              "      <th>19</th>\n",
              "      <td>occupation_Machine_op_inspct</td>\n",
              "      <td>0.006793</td>\n",
              "    </tr>\n",
              "    <tr>\n",
              "      <th>20</th>\n",
              "      <td>occupation_Farming_fishing</td>\n",
              "      <td>0.006573</td>\n",
              "    </tr>\n",
              "    <tr>\n",
              "      <th>21</th>\n",
              "      <td>occupation_Craft_repair</td>\n",
              "      <td>0.005065</td>\n",
              "    </tr>\n",
              "    <tr>\n",
              "      <th>22</th>\n",
              "      <td>occupation_Transport_moving</td>\n",
              "      <td>0.004997</td>\n",
              "    </tr>\n",
              "    <tr>\n",
              "      <th>23</th>\n",
              "      <td>occupation_Sales</td>\n",
              "      <td>0.004871</td>\n",
              "    </tr>\n",
              "    <tr>\n",
              "      <th>24</th>\n",
              "      <td>occupation_Handlers_cleaners</td>\n",
              "      <td>0.003560</td>\n",
              "    </tr>\n",
              "    <tr>\n",
              "      <th>25</th>\n",
              "      <td>occupation_Tech_support</td>\n",
              "      <td>0.003366</td>\n",
              "    </tr>\n",
              "    <tr>\n",
              "      <th>26</th>\n",
              "      <td>occupation_Adm_clerical</td>\n",
              "      <td>0.003243</td>\n",
              "    </tr>\n",
              "    <tr>\n",
              "      <th>27</th>\n",
              "      <td>workclass_Federal_gov</td>\n",
              "      <td>0.002498</td>\n",
              "    </tr>\n",
              "    <tr>\n",
              "      <th>28</th>\n",
              "      <td>workclass_Local_gov</td>\n",
              "      <td>0.002117</td>\n",
              "    </tr>\n",
              "    <tr>\n",
              "      <th>29</th>\n",
              "      <td>marital_status_Separated</td>\n",
              "      <td>0.001932</td>\n",
              "    </tr>\n",
              "    <tr>\n",
              "      <th>30</th>\n",
              "      <td>occupation_Protective_serv</td>\n",
              "      <td>0.001541</td>\n",
              "    </tr>\n",
              "    <tr>\n",
              "      <th>31</th>\n",
              "      <td>workclass_State_gov</td>\n",
              "      <td>0.001294</td>\n",
              "    </tr>\n",
              "    <tr>\n",
              "      <th>32</th>\n",
              "      <td>relationship_Other_relative</td>\n",
              "      <td>0.000709</td>\n",
              "    </tr>\n",
              "    <tr>\n",
              "      <th>33</th>\n",
              "      <td>marital_status_Widowed</td>\n",
              "      <td>0.000698</td>\n",
              "    </tr>\n",
              "    <tr>\n",
              "      <th>34</th>\n",
              "      <td>marital_status_Married_spouse_absent</td>\n",
              "      <td>0.000478</td>\n",
              "    </tr>\n",
              "    <tr>\n",
              "      <th>35</th>\n",
              "      <td>occupation_Priv_house_serv</td>\n",
              "      <td>0.000003</td>\n",
              "    </tr>\n",
              "    <tr>\n",
              "      <th>36</th>\n",
              "      <td>marital_status_Married_AF_spouse</td>\n",
              "      <td>0.000000</td>\n",
              "    </tr>\n",
              "    <tr>\n",
              "      <th>37</th>\n",
              "      <td>workclass_Without_pay</td>\n",
              "      <td>0.000000</td>\n",
              "    </tr>\n",
              "    <tr>\n",
              "      <th>38</th>\n",
              "      <td>occupation_Armed_Forces</td>\n",
              "      <td>0.000000</td>\n",
              "    </tr>\n",
              "  </tbody>\n",
              "</table>\n",
              "</div>\n",
              "      <button class=\"colab-df-convert\" onclick=\"convertToInteractive('df-fe4ec842-ef63-4c84-920c-859c6fcee621')\"\n",
              "              title=\"Convert this dataframe to an interactive table.\"\n",
              "              style=\"display:none;\">\n",
              "        \n",
              "  <svg xmlns=\"http://www.w3.org/2000/svg\" height=\"24px\"viewBox=\"0 0 24 24\"\n",
              "       width=\"24px\">\n",
              "    <path d=\"M0 0h24v24H0V0z\" fill=\"none\"/>\n",
              "    <path d=\"M18.56 5.44l.94 2.06.94-2.06 2.06-.94-2.06-.94-.94-2.06-.94 2.06-2.06.94zm-11 1L8.5 8.5l.94-2.06 2.06-.94-2.06-.94L8.5 2.5l-.94 2.06-2.06.94zm10 10l.94 2.06.94-2.06 2.06-.94-2.06-.94-.94-2.06-.94 2.06-2.06.94z\"/><path d=\"M17.41 7.96l-1.37-1.37c-.4-.4-.92-.59-1.43-.59-.52 0-1.04.2-1.43.59L10.3 9.45l-7.72 7.72c-.78.78-.78 2.05 0 2.83L4 21.41c.39.39.9.59 1.41.59.51 0 1.02-.2 1.41-.59l7.78-7.78 2.81-2.81c.8-.78.8-2.07 0-2.86zM5.41 20L4 18.59l7.72-7.72 1.47 1.35L5.41 20z\"/>\n",
              "  </svg>\n",
              "      </button>\n",
              "      \n",
              "  <style>\n",
              "    .colab-df-container {\n",
              "      display:flex;\n",
              "      flex-wrap:wrap;\n",
              "      gap: 12px;\n",
              "    }\n",
              "\n",
              "    .colab-df-convert {\n",
              "      background-color: #E8F0FE;\n",
              "      border: none;\n",
              "      border-radius: 50%;\n",
              "      cursor: pointer;\n",
              "      display: none;\n",
              "      fill: #1967D2;\n",
              "      height: 32px;\n",
              "      padding: 0 0 0 0;\n",
              "      width: 32px;\n",
              "    }\n",
              "\n",
              "    .colab-df-convert:hover {\n",
              "      background-color: #E2EBFA;\n",
              "      box-shadow: 0px 1px 2px rgba(60, 64, 67, 0.3), 0px 1px 3px 1px rgba(60, 64, 67, 0.15);\n",
              "      fill: #174EA6;\n",
              "    }\n",
              "\n",
              "    [theme=dark] .colab-df-convert {\n",
              "      background-color: #3B4455;\n",
              "      fill: #D2E3FC;\n",
              "    }\n",
              "\n",
              "    [theme=dark] .colab-df-convert:hover {\n",
              "      background-color: #434B5C;\n",
              "      box-shadow: 0px 1px 3px 1px rgba(0, 0, 0, 0.15);\n",
              "      filter: drop-shadow(0px 1px 2px rgba(0, 0, 0, 0.3));\n",
              "      fill: #FFFFFF;\n",
              "    }\n",
              "  </style>\n",
              "\n",
              "      <script>\n",
              "        const buttonEl =\n",
              "          document.querySelector('#df-fe4ec842-ef63-4c84-920c-859c6fcee621 button.colab-df-convert');\n",
              "        buttonEl.style.display =\n",
              "          google.colab.kernel.accessAllowed ? 'block' : 'none';\n",
              "\n",
              "        async function convertToInteractive(key) {\n",
              "          const element = document.querySelector('#df-fe4ec842-ef63-4c84-920c-859c6fcee621');\n",
              "          const dataTable =\n",
              "            await google.colab.kernel.invokeFunction('convertToInteractive',\n",
              "                                                     [key], {});\n",
              "          if (!dataTable) return;\n",
              "\n",
              "          const docLinkHtml = 'Like what you see? Visit the ' +\n",
              "            '<a target=\"_blank\" href=https://colab.research.google.com/notebooks/data_table.ipynb>data table notebook</a>'\n",
              "            + ' to learn more about interactive tables.';\n",
              "          element.innerHTML = '';\n",
              "          dataTable['output_type'] = 'display_data';\n",
              "          await google.colab.output.renderOutput(dataTable, element);\n",
              "          const docLink = document.createElement('div');\n",
              "          docLink.innerHTML = docLinkHtml;\n",
              "          element.appendChild(docLink);\n",
              "        }\n",
              "      </script>\n",
              "    </div>\n",
              "  </div>\n",
              "  "
            ]
          },
          "metadata": {},
          "execution_count": 44
        }
      ]
    },
    {
      "cell_type": "markdown",
      "metadata": {
        "id": "Q4VaYw7BLw4F"
      },
      "source": [
        "**[10.3]** Sort the previous dataframe and reset its index"
      ]
    },
    {
      "cell_type": "code",
      "metadata": {
        "id": "Gzq19ol6LxJp"
      },
      "source": [
        "# Placeholder for student's code"
      ],
      "execution_count": null,
      "outputs": []
    },
    {
      "cell_type": "code",
      "metadata": {
        "id": "gDhe2AHO1-oT"
      },
      "source": [
        "# Solution\n",
        "feat_imp_rf_df = feat_imp_rf_df.sort_values('feature_importance', ascending=False).reset_index(drop=True)"
      ],
      "execution_count": null,
      "outputs": []
    },
    {
      "cell_type": "markdown",
      "metadata": {
        "id": "HTVyLLFeL8ky"
      },
      "source": [
        "**[10.4]** Display the first 10 rows of this dataframe "
      ]
    },
    {
      "cell_type": "code",
      "metadata": {
        "id": "5QA9KA3KL8r0"
      },
      "source": [
        "# Placeholder for student's code"
      ],
      "execution_count": null,
      "outputs": []
    },
    {
      "cell_type": "code",
      "metadata": {
        "id": "ln-KjTJe1wVa",
        "colab": {
          "base_uri": "https://localhost:8080/",
          "height": 363
        },
        "outputId": "4a862f59-c6ae-491e-9619-ec45be6ac25d"
      },
      "source": [
        "# Solution\n",
        "feat_imp_rf_df.head(10)"
      ],
      "execution_count": null,
      "outputs": [
        {
          "output_type": "execute_result",
          "data": {
            "text/plain": [
              "                             feature  feature_importance\n",
              "0                      education_num            0.181421\n",
              "1  marital_status_Married_civ_spouse            0.180618\n",
              "2                                age            0.107685\n",
              "3               relationship_Husband            0.106022\n",
              "4       marital_status_Never_married            0.074346\n",
              "5                     hours_per_week            0.063491\n",
              "6         occupation_Exec_managerial            0.043802\n",
              "7          occupation_Prof_specialty            0.034025\n",
              "8                  relationship_Wife            0.023551\n",
              "9         relationship_Not_in_family            0.020475"
            ],
            "text/html": [
              "\n",
              "  <div id=\"df-480e17ba-8cb0-4146-89a3-3d548f3d8556\">\n",
              "    <div class=\"colab-df-container\">\n",
              "      <div>\n",
              "<style scoped>\n",
              "    .dataframe tbody tr th:only-of-type {\n",
              "        vertical-align: middle;\n",
              "    }\n",
              "\n",
              "    .dataframe tbody tr th {\n",
              "        vertical-align: top;\n",
              "    }\n",
              "\n",
              "    .dataframe thead th {\n",
              "        text-align: right;\n",
              "    }\n",
              "</style>\n",
              "<table border=\"1\" class=\"dataframe\">\n",
              "  <thead>\n",
              "    <tr style=\"text-align: right;\">\n",
              "      <th></th>\n",
              "      <th>feature</th>\n",
              "      <th>feature_importance</th>\n",
              "    </tr>\n",
              "  </thead>\n",
              "  <tbody>\n",
              "    <tr>\n",
              "      <th>0</th>\n",
              "      <td>education_num</td>\n",
              "      <td>0.181421</td>\n",
              "    </tr>\n",
              "    <tr>\n",
              "      <th>1</th>\n",
              "      <td>marital_status_Married_civ_spouse</td>\n",
              "      <td>0.180618</td>\n",
              "    </tr>\n",
              "    <tr>\n",
              "      <th>2</th>\n",
              "      <td>age</td>\n",
              "      <td>0.107685</td>\n",
              "    </tr>\n",
              "    <tr>\n",
              "      <th>3</th>\n",
              "      <td>relationship_Husband</td>\n",
              "      <td>0.106022</td>\n",
              "    </tr>\n",
              "    <tr>\n",
              "      <th>4</th>\n",
              "      <td>marital_status_Never_married</td>\n",
              "      <td>0.074346</td>\n",
              "    </tr>\n",
              "    <tr>\n",
              "      <th>5</th>\n",
              "      <td>hours_per_week</td>\n",
              "      <td>0.063491</td>\n",
              "    </tr>\n",
              "    <tr>\n",
              "      <th>6</th>\n",
              "      <td>occupation_Exec_managerial</td>\n",
              "      <td>0.043802</td>\n",
              "    </tr>\n",
              "    <tr>\n",
              "      <th>7</th>\n",
              "      <td>occupation_Prof_specialty</td>\n",
              "      <td>0.034025</td>\n",
              "    </tr>\n",
              "    <tr>\n",
              "      <th>8</th>\n",
              "      <td>relationship_Wife</td>\n",
              "      <td>0.023551</td>\n",
              "    </tr>\n",
              "    <tr>\n",
              "      <th>9</th>\n",
              "      <td>relationship_Not_in_family</td>\n",
              "      <td>0.020475</td>\n",
              "    </tr>\n",
              "  </tbody>\n",
              "</table>\n",
              "</div>\n",
              "      <button class=\"colab-df-convert\" onclick=\"convertToInteractive('df-480e17ba-8cb0-4146-89a3-3d548f3d8556')\"\n",
              "              title=\"Convert this dataframe to an interactive table.\"\n",
              "              style=\"display:none;\">\n",
              "        \n",
              "  <svg xmlns=\"http://www.w3.org/2000/svg\" height=\"24px\"viewBox=\"0 0 24 24\"\n",
              "       width=\"24px\">\n",
              "    <path d=\"M0 0h24v24H0V0z\" fill=\"none\"/>\n",
              "    <path d=\"M18.56 5.44l.94 2.06.94-2.06 2.06-.94-2.06-.94-.94-2.06-.94 2.06-2.06.94zm-11 1L8.5 8.5l.94-2.06 2.06-.94-2.06-.94L8.5 2.5l-.94 2.06-2.06.94zm10 10l.94 2.06.94-2.06 2.06-.94-2.06-.94-.94-2.06-.94 2.06-2.06.94z\"/><path d=\"M17.41 7.96l-1.37-1.37c-.4-.4-.92-.59-1.43-.59-.52 0-1.04.2-1.43.59L10.3 9.45l-7.72 7.72c-.78.78-.78 2.05 0 2.83L4 21.41c.39.39.9.59 1.41.59.51 0 1.02-.2 1.41-.59l7.78-7.78 2.81-2.81c.8-.78.8-2.07 0-2.86zM5.41 20L4 18.59l7.72-7.72 1.47 1.35L5.41 20z\"/>\n",
              "  </svg>\n",
              "      </button>\n",
              "      \n",
              "  <style>\n",
              "    .colab-df-container {\n",
              "      display:flex;\n",
              "      flex-wrap:wrap;\n",
              "      gap: 12px;\n",
              "    }\n",
              "\n",
              "    .colab-df-convert {\n",
              "      background-color: #E8F0FE;\n",
              "      border: none;\n",
              "      border-radius: 50%;\n",
              "      cursor: pointer;\n",
              "      display: none;\n",
              "      fill: #1967D2;\n",
              "      height: 32px;\n",
              "      padding: 0 0 0 0;\n",
              "      width: 32px;\n",
              "    }\n",
              "\n",
              "    .colab-df-convert:hover {\n",
              "      background-color: #E2EBFA;\n",
              "      box-shadow: 0px 1px 2px rgba(60, 64, 67, 0.3), 0px 1px 3px 1px rgba(60, 64, 67, 0.15);\n",
              "      fill: #174EA6;\n",
              "    }\n",
              "\n",
              "    [theme=dark] .colab-df-convert {\n",
              "      background-color: #3B4455;\n",
              "      fill: #D2E3FC;\n",
              "    }\n",
              "\n",
              "    [theme=dark] .colab-df-convert:hover {\n",
              "      background-color: #434B5C;\n",
              "      box-shadow: 0px 1px 3px 1px rgba(0, 0, 0, 0.15);\n",
              "      filter: drop-shadow(0px 1px 2px rgba(0, 0, 0, 0.3));\n",
              "      fill: #FFFFFF;\n",
              "    }\n",
              "  </style>\n",
              "\n",
              "      <script>\n",
              "        const buttonEl =\n",
              "          document.querySelector('#df-480e17ba-8cb0-4146-89a3-3d548f3d8556 button.colab-df-convert');\n",
              "        buttonEl.style.display =\n",
              "          google.colab.kernel.accessAllowed ? 'block' : 'none';\n",
              "\n",
              "        async function convertToInteractive(key) {\n",
              "          const element = document.querySelector('#df-480e17ba-8cb0-4146-89a3-3d548f3d8556');\n",
              "          const dataTable =\n",
              "            await google.colab.kernel.invokeFunction('convertToInteractive',\n",
              "                                                     [key], {});\n",
              "          if (!dataTable) return;\n",
              "\n",
              "          const docLinkHtml = 'Like what you see? Visit the ' +\n",
              "            '<a target=\"_blank\" href=https://colab.research.google.com/notebooks/data_table.ipynb>data table notebook</a>'\n",
              "            + ' to learn more about interactive tables.';\n",
              "          element.innerHTML = '';\n",
              "          dataTable['output_type'] = 'display_data';\n",
              "          await google.colab.output.renderOutput(dataTable, element);\n",
              "          const docLink = document.createElement('div');\n",
              "          docLink.innerHTML = docLinkHtml;\n",
              "          element.appendChild(docLink);\n",
              "        }\n",
              "      </script>\n",
              "    </div>\n",
              "  </div>\n",
              "  "
            ]
          },
          "metadata": {},
          "execution_count": 46
        }
      ]
    },
    {
      "cell_type": "markdown",
      "metadata": {
        "id": "sb3lVIlTMbaf"
      },
      "source": [
        "**[10.5]** We can visualise this information on a graph"
      ]
    },
    {
      "cell_type": "code",
      "metadata": {
        "id": "ratUjb9g2YXk",
        "colab": {
          "base_uri": "https://localhost:8080/",
          "height": 843
        },
        "outputId": "0e1311bf-acdf-4a6a-a253-0811f4ba55ff"
      },
      "source": [
        "import altair as alt\n",
        "\n",
        "alt.Chart(feat_imp_rf_df).mark_bar().encode(\n",
        "    x='feature_importance',\n",
        "    y=alt.Y(\"feature\", sort='-x'),\n",
        "    tooltip=['feature','feature_importance'])"
      ],
      "execution_count": null,
      "outputs": [
        {
          "output_type": "execute_result",
          "data": {
            "text/html": [
              "\n",
              "<div id=\"altair-viz-6dd8ddf24867487093bf1bcb4673d3f3\"></div>\n",
              "<script type=\"text/javascript\">\n",
              "  var VEGA_DEBUG = (typeof VEGA_DEBUG == \"undefined\") ? {} : VEGA_DEBUG;\n",
              "  (function(spec, embedOpt){\n",
              "    let outputDiv = document.currentScript.previousElementSibling;\n",
              "    if (outputDiv.id !== \"altair-viz-6dd8ddf24867487093bf1bcb4673d3f3\") {\n",
              "      outputDiv = document.getElementById(\"altair-viz-6dd8ddf24867487093bf1bcb4673d3f3\");\n",
              "    }\n",
              "    const paths = {\n",
              "      \"vega\": \"https://cdn.jsdelivr.net/npm//vega@5?noext\",\n",
              "      \"vega-lib\": \"https://cdn.jsdelivr.net/npm//vega-lib?noext\",\n",
              "      \"vega-lite\": \"https://cdn.jsdelivr.net/npm//vega-lite@4.17.0?noext\",\n",
              "      \"vega-embed\": \"https://cdn.jsdelivr.net/npm//vega-embed@6?noext\",\n",
              "    };\n",
              "\n",
              "    function maybeLoadScript(lib, version) {\n",
              "      var key = `${lib.replace(\"-\", \"\")}_version`;\n",
              "      return (VEGA_DEBUG[key] == version) ?\n",
              "        Promise.resolve(paths[lib]) :\n",
              "        new Promise(function(resolve, reject) {\n",
              "          var s = document.createElement('script');\n",
              "          document.getElementsByTagName(\"head\")[0].appendChild(s);\n",
              "          s.async = true;\n",
              "          s.onload = () => {\n",
              "            VEGA_DEBUG[key] = version;\n",
              "            return resolve(paths[lib]);\n",
              "          };\n",
              "          s.onerror = () => reject(`Error loading script: ${paths[lib]}`);\n",
              "          s.src = paths[lib];\n",
              "        });\n",
              "    }\n",
              "\n",
              "    function showError(err) {\n",
              "      outputDiv.innerHTML = `<div class=\"error\" style=\"color:red;\">${err}</div>`;\n",
              "      throw err;\n",
              "    }\n",
              "\n",
              "    function displayChart(vegaEmbed) {\n",
              "      vegaEmbed(outputDiv, spec, embedOpt)\n",
              "        .catch(err => showError(`Javascript Error: ${err.message}<br>This usually means there's a typo in your chart specification. See the javascript console for the full traceback.`));\n",
              "    }\n",
              "\n",
              "    if(typeof define === \"function\" && define.amd) {\n",
              "      requirejs.config({paths});\n",
              "      require([\"vega-embed\"], displayChart, err => showError(`Error loading script: ${err.message}`));\n",
              "    } else {\n",
              "      maybeLoadScript(\"vega\", \"5\")\n",
              "        .then(() => maybeLoadScript(\"vega-lite\", \"4.17.0\"))\n",
              "        .then(() => maybeLoadScript(\"vega-embed\", \"6\"))\n",
              "        .catch(showError)\n",
              "        .then(() => displayChart(vegaEmbed));\n",
              "    }\n",
              "  })({\"config\": {\"view\": {\"continuousWidth\": 400, \"continuousHeight\": 300}}, \"data\": {\"name\": \"data-b680ab5b7226d7560fb0795b0c2d5ec3\"}, \"mark\": \"bar\", \"encoding\": {\"tooltip\": [{\"field\": \"feature\", \"type\": \"nominal\"}, {\"field\": \"feature_importance\", \"type\": \"quantitative\"}], \"x\": {\"field\": \"feature_importance\", \"type\": \"quantitative\"}, \"y\": {\"field\": \"feature\", \"sort\": \"-x\", \"type\": \"nominal\"}}, \"$schema\": \"https://vega.github.io/schema/vega-lite/v4.17.0.json\", \"datasets\": {\"data-b680ab5b7226d7560fb0795b0c2d5ec3\": [{\"feature\": \"education_num\", \"feature_importance\": 0.18142147744142692}, {\"feature\": \"marital_status_Married_civ_spouse\", \"feature_importance\": 0.18061795697300423}, {\"feature\": \"age\", \"feature_importance\": 0.10768481349492603}, {\"feature\": \"relationship_Husband\", \"feature_importance\": 0.10602202586654565}, {\"feature\": \"marital_status_Never_married\", \"feature_importance\": 0.07434554572574091}, {\"feature\": \"hours_per_week\", \"feature_importance\": 0.06349108909986959}, {\"feature\": \"occupation_Exec_managerial\", \"feature_importance\": 0.043802110707063364}, {\"feature\": \"occupation_Prof_specialty\", \"feature_importance\": 0.03402534163793926}, {\"feature\": \"relationship_Wife\", \"feature_importance\": 0.023550957212098208}, {\"feature\": \"relationship_Not_in_family\", \"feature_importance\": 0.020475234390356954}, {\"feature\": \"occupation_Other_service\", \"feature_importance\": 0.017739192000870527}, {\"feature\": \"relationship_Own_child\", \"feature_importance\": 0.017203964197198954}, {\"feature\": \"sex_Male\", \"feature_importance\": 0.017144039630765624}, {\"feature\": \"sex_Female\", \"feature_importance\": 0.015537158157747982}, {\"feature\": \"marital_status_Divorced\", \"feature_importance\": 0.015377991054739517}, {\"feature\": \"workclass_Private\", \"feature_importance\": 0.008244630880559269}, {\"feature\": \"workclass_Self_emp_inc\", \"feature_importance\": 0.008136530692070305}, {\"feature\": \"relationship_Unmarried\", \"feature_importance\": 0.007981890061330415}, {\"feature\": \"workclass_Self_emp_not_inc\", \"feature_importance\": 0.007460010096530422}, {\"feature\": \"occupation_Machine_op_inspct\", \"feature_importance\": 0.006793446351650046}, {\"feature\": \"occupation_Farming_fishing\", \"feature_importance\": 0.006573137307174147}, {\"feature\": \"occupation_Craft_repair\", \"feature_importance\": 0.0050646706684876015}, {\"feature\": \"occupation_Transport_moving\", \"feature_importance\": 0.004997005477259257}, {\"feature\": \"occupation_Sales\", \"feature_importance\": 0.004870709443498845}, {\"feature\": \"occupation_Handlers_cleaners\", \"feature_importance\": 0.003560259765519803}, {\"feature\": \"occupation_Tech_support\", \"feature_importance\": 0.003365874918741355}, {\"feature\": \"occupation_Adm_clerical\", \"feature_importance\": 0.003242639326139221}, {\"feature\": \"workclass_Federal_gov\", \"feature_importance\": 0.002498312649029789}, {\"feature\": \"workclass_Local_gov\", \"feature_importance\": 0.002117120461046091}, {\"feature\": \"marital_status_Separated\", \"feature_importance\": 0.001931731435080975}, {\"feature\": \"occupation_Protective_serv\", \"feature_importance\": 0.0015412119407694068}, {\"feature\": \"workclass_State_gov\", \"feature_importance\": 0.0012935060349321807}, {\"feature\": \"relationship_Other_relative\", \"feature_importance\": 0.0007086914268177529}, {\"feature\": \"marital_status_Widowed\", \"feature_importance\": 0.0006984568374861678}, {\"feature\": \"marital_status_Married_spouse_absent\", \"feature_importance\": 0.0004779537948997957}, {\"feature\": \"occupation_Priv_house_serv\", \"feature_importance\": 3.312840683409316e-06}, {\"feature\": \"marital_status_Married_AF_spouse\", \"feature_importance\": 0.0}, {\"feature\": \"workclass_Without_pay\", \"feature_importance\": 0.0}, {\"feature\": \"occupation_Armed_Forces\", \"feature_importance\": 0.0}]}}, {\"mode\": \"vega-lite\"});\n",
              "</script>"
            ],
            "text/plain": [
              "alt.Chart(...)"
            ]
          },
          "metadata": {},
          "execution_count": 47
        }
      ]
    }
  ]
}