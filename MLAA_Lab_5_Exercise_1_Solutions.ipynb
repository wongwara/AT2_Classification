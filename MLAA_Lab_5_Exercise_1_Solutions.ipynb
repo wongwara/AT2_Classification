{
  "nbformat": 4,
  "nbformat_minor": 0,
  "metadata": {
    "colab": {
      "provenance": [],
      "include_colab_link": true
    },
    "kernelspec": {
      "name": "python3",
      "display_name": "Python 3"
    }
  },
  "cells": [
    {
      "cell_type": "markdown",
      "metadata": {
        "id": "view-in-github",
        "colab_type": "text"
      },
      "source": [
        "<a href=\"https://colab.research.google.com/github/wongwara/AT2_Classification/blob/main/MLAA_Lab_5_Exercise_1_Solutions.ipynb\" target=\"_parent\"><img src=\"https://colab.research.google.com/assets/colab-badge.svg\" alt=\"Open In Colab\"/></a>"
      ]
    },
    {
      "cell_type": "markdown",
      "metadata": {
        "id": "uQ6wc2HE0pke"
      },
      "source": [
        "# **Lab 3: Multi-Class Classification**\n"
      ]
    },
    {
      "cell_type": "markdown",
      "metadata": {
        "id": "jWAeRQIfG-hW"
      },
      "source": [
        "## Exercise 1: Multi-class Classification with SVM\n",
        "\n",
        "In this exercise, you will train a multi-class classifier using Support Vector Machine.\n",
        "\n",
        "We are going to use a dataset from the UCI Machine Learning Repository which contains a dataset about car evaluation (https://archive.ics.uci.edu/ml/datasets/Car+Evaluation). This dataset contains the state of second hand cars and their categories: \"**evaluation**\" column.\n",
        "\n",
        "You will have to import the dataset from the following link:\n",
        "https://raw.githubusercontent.com/aso-uts/mlaa/main/datasets/lab5/ex1/car_evaluation.csv\n",
        "\n",
        "The steps are:\n",
        "1.   Load and explore dataset\n",
        "2.   Data preparation\n",
        "3.   Split data\n",
        "4.   Scale data\n",
        "5.   Assess baseline model\n",
        "6.   Train SVC with default Hyperparameter\n",
        "7.   Reduce SVC Overfitting with class weights\n",
        "8.   Reduce SVC Overfitting with C Hyperparameter\n",
        "9.   Reduce SVC Overfitting with C Hyperparameter\n",
        "10.  Reduce SVC Overfitting with C Hyperparameter\n",
        "11.  Assess model on Testing Set"
      ]
    },
    {
      "cell_type": "markdown",
      "metadata": {
        "id": "GeVNxmhDXH5U"
      },
      "source": [
        "## 1. Load and Explore Dataset"
      ]
    },
    {
      "cell_type": "markdown",
      "metadata": {
        "id": "SFN7e-rzXpFy"
      },
      "source": [
        "**[1.1]** Import the pandas and numpy packages"
      ]
    },
    {
      "cell_type": "code",
      "metadata": {
        "id": "jsJJfLP2XpLo"
      },
      "source": [
        "# Placeholder for student's code"
      ],
      "execution_count": null,
      "outputs": []
    },
    {
      "cell_type": "code",
      "metadata": {
        "id": "3LYQih7IXs3_"
      },
      "source": [
        "# Solution\n",
        "import pandas as pd\n",
        "import numpy as np"
      ],
      "execution_count": null,
      "outputs": []
    },
    {
      "cell_type": "markdown",
      "metadata": {
        "id": "K7VeL3XCXuuX"
      },
      "source": [
        "**[1.2]** Create a variable called file_url containing the link to the CSV file and load the dataset into dataframe called df"
      ]
    },
    {
      "cell_type": "code",
      "metadata": {
        "id": "uQce0boYXu3u"
      },
      "source": [
        "# Placeholder for student's code"
      ],
      "execution_count": null,
      "outputs": []
    },
    {
      "cell_type": "code",
      "metadata": {
        "id": "PKkWBSMqXu7q"
      },
      "source": [
        "# Solution\n",
        "file_url = 'https://raw.githubusercontent.com/aso-uts/applied_ds/master/unit3/dataset/Car%20Evaluation.csv'\n",
        "df = pd.read_csv(file_url)"
      ],
      "execution_count": null,
      "outputs": []
    },
    {
      "cell_type": "code",
      "source": [
        "# Unit Tests\n",
        "assert isinstance(file_url, str)\n",
        "assert isinstance(df, pd.DataFrame)"
      ],
      "metadata": {
        "id": "sWEyEe59d3k8"
      },
      "execution_count": null,
      "outputs": []
    },
    {
      "cell_type": "markdown",
      "metadata": {
        "id": "wb721JdPX_bI"
      },
      "source": [
        "**[1.3]** Display the first 5 rows of df"
      ]
    },
    {
      "cell_type": "code",
      "metadata": {
        "id": "1NuysmwCX_jT"
      },
      "source": [
        "# Placeholder for student's code"
      ],
      "execution_count": null,
      "outputs": []
    },
    {
      "cell_type": "code",
      "metadata": {
        "id": "RufBEUUmX_g2",
        "colab": {
          "base_uri": "https://localhost:8080/",
          "height": 206
        },
        "outputId": "5aaf480b-4145-4e09-bd65-86d32013f5f8"
      },
      "source": [
        "# Solution\n",
        "df.head()"
      ],
      "execution_count": null,
      "outputs": [
        {
          "output_type": "execute_result",
          "data": {
            "text/plain": [
              "  buying_price maintenance_cost doors persons_capacity luggage_boot safety  \\\n",
              "0        vhigh            vhigh     2                2        small    low   \n",
              "1        vhigh            vhigh     2                2        small    med   \n",
              "2        vhigh            vhigh     2                2        small   high   \n",
              "3        vhigh            vhigh     2                2          med    low   \n",
              "4        vhigh            vhigh     2                2          med    med   \n",
              "\n",
              "  evaluation  \n",
              "0      unacc  \n",
              "1      unacc  \n",
              "2      unacc  \n",
              "3      unacc  \n",
              "4      unacc  "
            ],
            "text/html": [
              "\n",
              "  <div id=\"df-715abd7e-78d3-4a64-a44a-e33048bdcb4f\">\n",
              "    <div class=\"colab-df-container\">\n",
              "      <div>\n",
              "<style scoped>\n",
              "    .dataframe tbody tr th:only-of-type {\n",
              "        vertical-align: middle;\n",
              "    }\n",
              "\n",
              "    .dataframe tbody tr th {\n",
              "        vertical-align: top;\n",
              "    }\n",
              "\n",
              "    .dataframe thead th {\n",
              "        text-align: right;\n",
              "    }\n",
              "</style>\n",
              "<table border=\"1\" class=\"dataframe\">\n",
              "  <thead>\n",
              "    <tr style=\"text-align: right;\">\n",
              "      <th></th>\n",
              "      <th>buying_price</th>\n",
              "      <th>maintenance_cost</th>\n",
              "      <th>doors</th>\n",
              "      <th>persons_capacity</th>\n",
              "      <th>luggage_boot</th>\n",
              "      <th>safety</th>\n",
              "      <th>evaluation</th>\n",
              "    </tr>\n",
              "  </thead>\n",
              "  <tbody>\n",
              "    <tr>\n",
              "      <th>0</th>\n",
              "      <td>vhigh</td>\n",
              "      <td>vhigh</td>\n",
              "      <td>2</td>\n",
              "      <td>2</td>\n",
              "      <td>small</td>\n",
              "      <td>low</td>\n",
              "      <td>unacc</td>\n",
              "    </tr>\n",
              "    <tr>\n",
              "      <th>1</th>\n",
              "      <td>vhigh</td>\n",
              "      <td>vhigh</td>\n",
              "      <td>2</td>\n",
              "      <td>2</td>\n",
              "      <td>small</td>\n",
              "      <td>med</td>\n",
              "      <td>unacc</td>\n",
              "    </tr>\n",
              "    <tr>\n",
              "      <th>2</th>\n",
              "      <td>vhigh</td>\n",
              "      <td>vhigh</td>\n",
              "      <td>2</td>\n",
              "      <td>2</td>\n",
              "      <td>small</td>\n",
              "      <td>high</td>\n",
              "      <td>unacc</td>\n",
              "    </tr>\n",
              "    <tr>\n",
              "      <th>3</th>\n",
              "      <td>vhigh</td>\n",
              "      <td>vhigh</td>\n",
              "      <td>2</td>\n",
              "      <td>2</td>\n",
              "      <td>med</td>\n",
              "      <td>low</td>\n",
              "      <td>unacc</td>\n",
              "    </tr>\n",
              "    <tr>\n",
              "      <th>4</th>\n",
              "      <td>vhigh</td>\n",
              "      <td>vhigh</td>\n",
              "      <td>2</td>\n",
              "      <td>2</td>\n",
              "      <td>med</td>\n",
              "      <td>med</td>\n",
              "      <td>unacc</td>\n",
              "    </tr>\n",
              "  </tbody>\n",
              "</table>\n",
              "</div>\n",
              "      <button class=\"colab-df-convert\" onclick=\"convertToInteractive('df-715abd7e-78d3-4a64-a44a-e33048bdcb4f')\"\n",
              "              title=\"Convert this dataframe to an interactive table.\"\n",
              "              style=\"display:none;\">\n",
              "        \n",
              "  <svg xmlns=\"http://www.w3.org/2000/svg\" height=\"24px\"viewBox=\"0 0 24 24\"\n",
              "       width=\"24px\">\n",
              "    <path d=\"M0 0h24v24H0V0z\" fill=\"none\"/>\n",
              "    <path d=\"M18.56 5.44l.94 2.06.94-2.06 2.06-.94-2.06-.94-.94-2.06-.94 2.06-2.06.94zm-11 1L8.5 8.5l.94-2.06 2.06-.94-2.06-.94L8.5 2.5l-.94 2.06-2.06.94zm10 10l.94 2.06.94-2.06 2.06-.94-2.06-.94-.94-2.06-.94 2.06-2.06.94z\"/><path d=\"M17.41 7.96l-1.37-1.37c-.4-.4-.92-.59-1.43-.59-.52 0-1.04.2-1.43.59L10.3 9.45l-7.72 7.72c-.78.78-.78 2.05 0 2.83L4 21.41c.39.39.9.59 1.41.59.51 0 1.02-.2 1.41-.59l7.78-7.78 2.81-2.81c.8-.78.8-2.07 0-2.86zM5.41 20L4 18.59l7.72-7.72 1.47 1.35L5.41 20z\"/>\n",
              "  </svg>\n",
              "      </button>\n",
              "      \n",
              "  <style>\n",
              "    .colab-df-container {\n",
              "      display:flex;\n",
              "      flex-wrap:wrap;\n",
              "      gap: 12px;\n",
              "    }\n",
              "\n",
              "    .colab-df-convert {\n",
              "      background-color: #E8F0FE;\n",
              "      border: none;\n",
              "      border-radius: 50%;\n",
              "      cursor: pointer;\n",
              "      display: none;\n",
              "      fill: #1967D2;\n",
              "      height: 32px;\n",
              "      padding: 0 0 0 0;\n",
              "      width: 32px;\n",
              "    }\n",
              "\n",
              "    .colab-df-convert:hover {\n",
              "      background-color: #E2EBFA;\n",
              "      box-shadow: 0px 1px 2px rgba(60, 64, 67, 0.3), 0px 1px 3px 1px rgba(60, 64, 67, 0.15);\n",
              "      fill: #174EA6;\n",
              "    }\n",
              "\n",
              "    [theme=dark] .colab-df-convert {\n",
              "      background-color: #3B4455;\n",
              "      fill: #D2E3FC;\n",
              "    }\n",
              "\n",
              "    [theme=dark] .colab-df-convert:hover {\n",
              "      background-color: #434B5C;\n",
              "      box-shadow: 0px 1px 3px 1px rgba(0, 0, 0, 0.15);\n",
              "      filter: drop-shadow(0px 1px 2px rgba(0, 0, 0, 0.3));\n",
              "      fill: #FFFFFF;\n",
              "    }\n",
              "  </style>\n",
              "\n",
              "      <script>\n",
              "        const buttonEl =\n",
              "          document.querySelector('#df-715abd7e-78d3-4a64-a44a-e33048bdcb4f button.colab-df-convert');\n",
              "        buttonEl.style.display =\n",
              "          google.colab.kernel.accessAllowed ? 'block' : 'none';\n",
              "\n",
              "        async function convertToInteractive(key) {\n",
              "          const element = document.querySelector('#df-715abd7e-78d3-4a64-a44a-e33048bdcb4f');\n",
              "          const dataTable =\n",
              "            await google.colab.kernel.invokeFunction('convertToInteractive',\n",
              "                                                     [key], {});\n",
              "          if (!dataTable) return;\n",
              "\n",
              "          const docLinkHtml = 'Like what you see? Visit the ' +\n",
              "            '<a target=\"_blank\" href=https://colab.research.google.com/notebooks/data_table.ipynb>data table notebook</a>'\n",
              "            + ' to learn more about interactive tables.';\n",
              "          element.innerHTML = '';\n",
              "          dataTable['output_type'] = 'display_data';\n",
              "          await google.colab.output.renderOutput(dataTable, element);\n",
              "          const docLink = document.createElement('div');\n",
              "          docLink.innerHTML = docLinkHtml;\n",
              "          element.appendChild(docLink);\n",
              "        }\n",
              "      </script>\n",
              "    </div>\n",
              "  </div>\n",
              "  "
            ]
          },
          "metadata": {},
          "execution_count": 3
        }
      ]
    },
    {
      "cell_type": "markdown",
      "metadata": {
        "id": "YLsCp9UsYHUC"
      },
      "source": [
        "**[1.4]** Display the dimensions (shape) of df"
      ]
    },
    {
      "cell_type": "code",
      "metadata": {
        "id": "5i6dNGiLYHfI"
      },
      "source": [
        "# Placeholder for student's code"
      ],
      "execution_count": null,
      "outputs": []
    },
    {
      "cell_type": "code",
      "metadata": {
        "id": "TdbObU_jYHce",
        "colab": {
          "base_uri": "https://localhost:8080/"
        },
        "outputId": "4d02a0e8-66e1-4de1-c8de-d743f9b41985"
      },
      "source": [
        "# Solution\n",
        "df.shape"
      ],
      "execution_count": null,
      "outputs": [
        {
          "output_type": "execute_result",
          "data": {
            "text/plain": [
              "(1728, 7)"
            ]
          },
          "metadata": {},
          "execution_count": 4
        }
      ]
    },
    {
      "cell_type": "markdown",
      "metadata": {
        "id": "WbOGn9hjYMvF"
      },
      "source": [
        "**[1.5]** Display the summary (info) of df"
      ]
    },
    {
      "cell_type": "code",
      "metadata": {
        "id": "3g9V0n0qYM57"
      },
      "source": [
        "# Placeholder for student's code"
      ],
      "execution_count": null,
      "outputs": []
    },
    {
      "cell_type": "code",
      "metadata": {
        "id": "OiSOgO-nYM3a",
        "colab": {
          "base_uri": "https://localhost:8080/"
        },
        "outputId": "0befa1ac-d0fe-418e-8c99-1a0c67f76afb"
      },
      "source": [
        "# Solution\n",
        "df.info()"
      ],
      "execution_count": null,
      "outputs": [
        {
          "output_type": "stream",
          "name": "stdout",
          "text": [
            "<class 'pandas.core.frame.DataFrame'>\n",
            "RangeIndex: 1728 entries, 0 to 1727\n",
            "Data columns (total 7 columns):\n",
            " #   Column            Non-Null Count  Dtype \n",
            "---  ------            --------------  ----- \n",
            " 0   buying_price      1728 non-null   object\n",
            " 1   maintenance_cost  1728 non-null   object\n",
            " 2   doors             1728 non-null   object\n",
            " 3   persons_capacity  1728 non-null   object\n",
            " 4   luggage_boot      1728 non-null   object\n",
            " 5   safety            1728 non-null   object\n",
            " 6   evaluation        1728 non-null   object\n",
            "dtypes: object(7)\n",
            "memory usage: 94.6+ KB\n"
          ]
        }
      ]
    },
    {
      "cell_type": "markdown",
      "metadata": {
        "id": "-FDlMHfaYRl0"
      },
      "source": [
        "**[1.6]** Display the descriptive statictics of df\n"
      ]
    },
    {
      "cell_type": "code",
      "metadata": {
        "id": "y8TcgfnAYRv2"
      },
      "source": [
        "# Placeholder for student's code"
      ],
      "execution_count": null,
      "outputs": []
    },
    {
      "cell_type": "code",
      "metadata": {
        "id": "OfTeLJg9YRtk",
        "colab": {
          "base_uri": "https://localhost:8080/",
          "height": 175
        },
        "outputId": "22834620-ad07-460f-9039-c00bbc3f4658"
      },
      "source": [
        "# Solution\n",
        "df.describe()"
      ],
      "execution_count": null,
      "outputs": [
        {
          "output_type": "execute_result",
          "data": {
            "text/plain": [
              "       buying_price maintenance_cost doors persons_capacity luggage_boot  \\\n",
              "count          1728             1728  1728             1728         1728   \n",
              "unique            4                4     4                3            3   \n",
              "top           vhigh            vhigh     2                2        small   \n",
              "freq            432              432   432              576          576   \n",
              "\n",
              "       safety evaluation  \n",
              "count    1728       1728  \n",
              "unique      3          4  \n",
              "top       low      unacc  \n",
              "freq      576       1210  "
            ],
            "text/html": [
              "\n",
              "  <div id=\"df-c4672920-ef6f-4c02-9ccf-783c7fa2447c\">\n",
              "    <div class=\"colab-df-container\">\n",
              "      <div>\n",
              "<style scoped>\n",
              "    .dataframe tbody tr th:only-of-type {\n",
              "        vertical-align: middle;\n",
              "    }\n",
              "\n",
              "    .dataframe tbody tr th {\n",
              "        vertical-align: top;\n",
              "    }\n",
              "\n",
              "    .dataframe thead th {\n",
              "        text-align: right;\n",
              "    }\n",
              "</style>\n",
              "<table border=\"1\" class=\"dataframe\">\n",
              "  <thead>\n",
              "    <tr style=\"text-align: right;\">\n",
              "      <th></th>\n",
              "      <th>buying_price</th>\n",
              "      <th>maintenance_cost</th>\n",
              "      <th>doors</th>\n",
              "      <th>persons_capacity</th>\n",
              "      <th>luggage_boot</th>\n",
              "      <th>safety</th>\n",
              "      <th>evaluation</th>\n",
              "    </tr>\n",
              "  </thead>\n",
              "  <tbody>\n",
              "    <tr>\n",
              "      <th>count</th>\n",
              "      <td>1728</td>\n",
              "      <td>1728</td>\n",
              "      <td>1728</td>\n",
              "      <td>1728</td>\n",
              "      <td>1728</td>\n",
              "      <td>1728</td>\n",
              "      <td>1728</td>\n",
              "    </tr>\n",
              "    <tr>\n",
              "      <th>unique</th>\n",
              "      <td>4</td>\n",
              "      <td>4</td>\n",
              "      <td>4</td>\n",
              "      <td>3</td>\n",
              "      <td>3</td>\n",
              "      <td>3</td>\n",
              "      <td>4</td>\n",
              "    </tr>\n",
              "    <tr>\n",
              "      <th>top</th>\n",
              "      <td>vhigh</td>\n",
              "      <td>vhigh</td>\n",
              "      <td>2</td>\n",
              "      <td>2</td>\n",
              "      <td>small</td>\n",
              "      <td>low</td>\n",
              "      <td>unacc</td>\n",
              "    </tr>\n",
              "    <tr>\n",
              "      <th>freq</th>\n",
              "      <td>432</td>\n",
              "      <td>432</td>\n",
              "      <td>432</td>\n",
              "      <td>576</td>\n",
              "      <td>576</td>\n",
              "      <td>576</td>\n",
              "      <td>1210</td>\n",
              "    </tr>\n",
              "  </tbody>\n",
              "</table>\n",
              "</div>\n",
              "      <button class=\"colab-df-convert\" onclick=\"convertToInteractive('df-c4672920-ef6f-4c02-9ccf-783c7fa2447c')\"\n",
              "              title=\"Convert this dataframe to an interactive table.\"\n",
              "              style=\"display:none;\">\n",
              "        \n",
              "  <svg xmlns=\"http://www.w3.org/2000/svg\" height=\"24px\"viewBox=\"0 0 24 24\"\n",
              "       width=\"24px\">\n",
              "    <path d=\"M0 0h24v24H0V0z\" fill=\"none\"/>\n",
              "    <path d=\"M18.56 5.44l.94 2.06.94-2.06 2.06-.94-2.06-.94-.94-2.06-.94 2.06-2.06.94zm-11 1L8.5 8.5l.94-2.06 2.06-.94-2.06-.94L8.5 2.5l-.94 2.06-2.06.94zm10 10l.94 2.06.94-2.06 2.06-.94-2.06-.94-.94-2.06-.94 2.06-2.06.94z\"/><path d=\"M17.41 7.96l-1.37-1.37c-.4-.4-.92-.59-1.43-.59-.52 0-1.04.2-1.43.59L10.3 9.45l-7.72 7.72c-.78.78-.78 2.05 0 2.83L4 21.41c.39.39.9.59 1.41.59.51 0 1.02-.2 1.41-.59l7.78-7.78 2.81-2.81c.8-.78.8-2.07 0-2.86zM5.41 20L4 18.59l7.72-7.72 1.47 1.35L5.41 20z\"/>\n",
              "  </svg>\n",
              "      </button>\n",
              "      \n",
              "  <style>\n",
              "    .colab-df-container {\n",
              "      display:flex;\n",
              "      flex-wrap:wrap;\n",
              "      gap: 12px;\n",
              "    }\n",
              "\n",
              "    .colab-df-convert {\n",
              "      background-color: #E8F0FE;\n",
              "      border: none;\n",
              "      border-radius: 50%;\n",
              "      cursor: pointer;\n",
              "      display: none;\n",
              "      fill: #1967D2;\n",
              "      height: 32px;\n",
              "      padding: 0 0 0 0;\n",
              "      width: 32px;\n",
              "    }\n",
              "\n",
              "    .colab-df-convert:hover {\n",
              "      background-color: #E2EBFA;\n",
              "      box-shadow: 0px 1px 2px rgba(60, 64, 67, 0.3), 0px 1px 3px 1px rgba(60, 64, 67, 0.15);\n",
              "      fill: #174EA6;\n",
              "    }\n",
              "\n",
              "    [theme=dark] .colab-df-convert {\n",
              "      background-color: #3B4455;\n",
              "      fill: #D2E3FC;\n",
              "    }\n",
              "\n",
              "    [theme=dark] .colab-df-convert:hover {\n",
              "      background-color: #434B5C;\n",
              "      box-shadow: 0px 1px 3px 1px rgba(0, 0, 0, 0.15);\n",
              "      filter: drop-shadow(0px 1px 2px rgba(0, 0, 0, 0.3));\n",
              "      fill: #FFFFFF;\n",
              "    }\n",
              "  </style>\n",
              "\n",
              "      <script>\n",
              "        const buttonEl =\n",
              "          document.querySelector('#df-c4672920-ef6f-4c02-9ccf-783c7fa2447c button.colab-df-convert');\n",
              "        buttonEl.style.display =\n",
              "          google.colab.kernel.accessAllowed ? 'block' : 'none';\n",
              "\n",
              "        async function convertToInteractive(key) {\n",
              "          const element = document.querySelector('#df-c4672920-ef6f-4c02-9ccf-783c7fa2447c');\n",
              "          const dataTable =\n",
              "            await google.colab.kernel.invokeFunction('convertToInteractive',\n",
              "                                                     [key], {});\n",
              "          if (!dataTable) return;\n",
              "\n",
              "          const docLinkHtml = 'Like what you see? Visit the ' +\n",
              "            '<a target=\"_blank\" href=https://colab.research.google.com/notebooks/data_table.ipynb>data table notebook</a>'\n",
              "            + ' to learn more about interactive tables.';\n",
              "          element.innerHTML = '';\n",
              "          dataTable['output_type'] = 'display_data';\n",
              "          await google.colab.output.renderOutput(dataTable, element);\n",
              "          const docLink = document.createElement('div');\n",
              "          docLink.innerHTML = docLinkHtml;\n",
              "          element.appendChild(docLink);\n",
              "        }\n",
              "      </script>\n",
              "    </div>\n",
              "  </div>\n",
              "  "
            ]
          },
          "metadata": {},
          "execution_count": 6
        }
      ]
    },
    {
      "cell_type": "markdown",
      "metadata": {
        "id": "V1oMhIWVhm9R"
      },
      "source": [
        "**[1.7]** Create a for loop that will iterate through each columns and print their list of unique values"
      ]
    },
    {
      "cell_type": "code",
      "metadata": {
        "id": "iwbIniWFY2qH"
      },
      "source": [
        "# Placeholder for student's code"
      ],
      "execution_count": null,
      "outputs": []
    },
    {
      "cell_type": "code",
      "metadata": {
        "id": "feVW6t5XhwiN",
        "colab": {
          "base_uri": "https://localhost:8080/"
        },
        "outputId": "d6dabd13-8380-4a09-92b5-01e5761cc39f"
      },
      "source": [
        "# Solution: \n",
        "for col in df.columns:\n",
        "  print(col)\n",
        "  print(df[col].unique())"
      ],
      "execution_count": null,
      "outputs": [
        {
          "output_type": "stream",
          "name": "stdout",
          "text": [
            "buying_price\n",
            "['vhigh' 'high' 'med' 'low']\n",
            "maintenance_cost\n",
            "['vhigh' 'high' 'med' 'low']\n",
            "doors\n",
            "['2' '3' '4' '5more']\n",
            "persons_capacity\n",
            "['2' '4' 'more']\n",
            "luggage_boot\n",
            "['small' 'med' 'big']\n",
            "safety\n",
            "['low' 'med' 'high']\n",
            "evaluation\n",
            "['unacc' 'acc' 'vgood' 'good']\n"
          ]
        }
      ]
    },
    {
      "cell_type": "markdown",
      "metadata": {
        "id": "az2czyPXiX2j"
      },
      "source": [
        "## 2. Data Preparation"
      ]
    },
    {
      "cell_type": "markdown",
      "source": [
        "**[2.1]** Create a copy of df and save it into a variable called df_cleaned"
      ],
      "metadata": {
        "id": "nh1smnBcFloq"
      }
    },
    {
      "cell_type": "code",
      "metadata": {
        "id": "JObI_bjYfTfs"
      },
      "source": [
        "# Placeholder for student's code"
      ],
      "execution_count": null,
      "outputs": []
    },
    {
      "cell_type": "code",
      "metadata": {
        "id": "Et9_BPHmfJfF"
      },
      "source": [
        "# Solution\n",
        "df_cleaned = df.copy()"
      ],
      "execution_count": null,
      "outputs": []
    },
    {
      "cell_type": "code",
      "source": [
        "# Unit Tests\n",
        "assert isinstance(df_cleaned, pd.DataFrame)\n",
        "assert df_cleaned.shape == df.shape"
      ],
      "metadata": {
        "id": "cBvzgFsceAe-"
      },
      "execution_count": null,
      "outputs": []
    },
    {
      "cell_type": "markdown",
      "metadata": {
        "id": "mU9Ej6DFfIo4"
      },
      "source": [
        "**[2.2]** Import OrdinalEncoder from sklearn.preprocessing"
      ]
    },
    {
      "cell_type": "code",
      "metadata": {
        "id": "H3qwqqNGa3I1"
      },
      "source": [
        "# Placeholder for student's code"
      ],
      "execution_count": null,
      "outputs": []
    },
    {
      "cell_type": "code",
      "metadata": {
        "id": "QsRtuK6zaMCo"
      },
      "source": [
        "# Solution\n",
        "from sklearn.preprocessing import OrdinalEncoder"
      ],
      "execution_count": null,
      "outputs": []
    },
    {
      "cell_type": "markdown",
      "metadata": {
        "id": "ckbtJMzYaMNA"
      },
      "source": [
        "**[2.3]** Create a list called 'buying_price_categories' containing the list of values ordered from the smallest to the highest\n",
        "\n",
        "Note: It has to be a list of list"
      ]
    },
    {
      "cell_type": "code",
      "metadata": {
        "id": "sw5aDrIQaZxQ"
      },
      "source": [
        "# Placeholder for student's code"
      ],
      "execution_count": null,
      "outputs": []
    },
    {
      "cell_type": "code",
      "metadata": {
        "id": "PXAisZ4vWoAf"
      },
      "source": [
        "# Solution\n",
        "buying_price_cats = [['low', 'med', 'high', 'vhigh']]"
      ],
      "execution_count": null,
      "outputs": []
    },
    {
      "cell_type": "code",
      "source": [
        "# Unit Tests\n",
        "assert isinstance(buying_price_cats, list)\n",
        "assert isinstance(buying_price_cats[0], list)\n",
        "assert len(buying_price_cats[0]) == 4"
      ],
      "metadata": {
        "id": "ac0duC6WeFmT"
      },
      "execution_count": null,
      "outputs": []
    },
    {
      "cell_type": "markdown",
      "metadata": {
        "id": "3Wwbji9ZXGOn"
      },
      "source": [
        "**[2.4]** Instantiate the OrdinalEncoder class with 'buying_price_cats' as categories and save it into a variable called buying_price_enc"
      ]
    },
    {
      "cell_type": "code",
      "metadata": {
        "id": "RUOVJvQ7bUiH"
      },
      "source": [
        "# Placeholder for student's code"
      ],
      "execution_count": null,
      "outputs": []
    },
    {
      "cell_type": "code",
      "metadata": {
        "id": "7bbMEImXjjxW"
      },
      "source": [
        "# Solution\n",
        "buying_price_enc = OrdinalEncoder(categories=buying_price_cats)"
      ],
      "execution_count": null,
      "outputs": []
    },
    {
      "cell_type": "markdown",
      "metadata": {
        "id": "bcYVjW_8bc4y"
      },
      "source": [
        "**[2.5]** Use our trained encoder to transform this column"
      ]
    },
    {
      "cell_type": "code",
      "source": [
        "# Placeholder for student's code"
      ],
      "metadata": {
        "id": "ZXjoWnkK22hC"
      },
      "execution_count": null,
      "outputs": []
    },
    {
      "cell_type": "code",
      "metadata": {
        "id": "82VCq58Ujpbw"
      },
      "source": [
        "# Solution\n",
        "df_cleaned['buying_price_encoded'] = buying_price_enc.fit_transform(df_cleaned[['buying_price']])"
      ],
      "execution_count": null,
      "outputs": []
    },
    {
      "cell_type": "markdown",
      "metadata": {
        "id": "aXROEjnrbnSK"
      },
      "source": [
        "**[2.6]** Display the columns 'buying_price','buying_price_encoded'"
      ]
    },
    {
      "cell_type": "code",
      "metadata": {
        "id": "gVnyPHmObnYF"
      },
      "source": [
        "# Placeholder for student's code"
      ],
      "execution_count": null,
      "outputs": []
    },
    {
      "cell_type": "code",
      "metadata": {
        "id": "1s0rZDnnY5a6",
        "colab": {
          "base_uri": "https://localhost:8080/",
          "height": 424
        },
        "outputId": "00581840-a3dd-4e65-b430-72c021f324ba"
      },
      "source": [
        "# Solution\n",
        "df_cleaned[['buying_price','buying_price_encoded']]"
      ],
      "execution_count": null,
      "outputs": [
        {
          "output_type": "execute_result",
          "data": {
            "text/plain": [
              "     buying_price  buying_price_encoded\n",
              "0           vhigh                   3.0\n",
              "1           vhigh                   3.0\n",
              "2           vhigh                   3.0\n",
              "3           vhigh                   3.0\n",
              "4           vhigh                   3.0\n",
              "...           ...                   ...\n",
              "1723          low                   0.0\n",
              "1724          low                   0.0\n",
              "1725          low                   0.0\n",
              "1726          low                   0.0\n",
              "1727          low                   0.0\n",
              "\n",
              "[1728 rows x 2 columns]"
            ],
            "text/html": [
              "\n",
              "  <div id=\"df-e9f3caab-f963-4ae1-8a5c-409b5c8bd8ec\">\n",
              "    <div class=\"colab-df-container\">\n",
              "      <div>\n",
              "<style scoped>\n",
              "    .dataframe tbody tr th:only-of-type {\n",
              "        vertical-align: middle;\n",
              "    }\n",
              "\n",
              "    .dataframe tbody tr th {\n",
              "        vertical-align: top;\n",
              "    }\n",
              "\n",
              "    .dataframe thead th {\n",
              "        text-align: right;\n",
              "    }\n",
              "</style>\n",
              "<table border=\"1\" class=\"dataframe\">\n",
              "  <thead>\n",
              "    <tr style=\"text-align: right;\">\n",
              "      <th></th>\n",
              "      <th>buying_price</th>\n",
              "      <th>buying_price_encoded</th>\n",
              "    </tr>\n",
              "  </thead>\n",
              "  <tbody>\n",
              "    <tr>\n",
              "      <th>0</th>\n",
              "      <td>vhigh</td>\n",
              "      <td>3.0</td>\n",
              "    </tr>\n",
              "    <tr>\n",
              "      <th>1</th>\n",
              "      <td>vhigh</td>\n",
              "      <td>3.0</td>\n",
              "    </tr>\n",
              "    <tr>\n",
              "      <th>2</th>\n",
              "      <td>vhigh</td>\n",
              "      <td>3.0</td>\n",
              "    </tr>\n",
              "    <tr>\n",
              "      <th>3</th>\n",
              "      <td>vhigh</td>\n",
              "      <td>3.0</td>\n",
              "    </tr>\n",
              "    <tr>\n",
              "      <th>4</th>\n",
              "      <td>vhigh</td>\n",
              "      <td>3.0</td>\n",
              "    </tr>\n",
              "    <tr>\n",
              "      <th>...</th>\n",
              "      <td>...</td>\n",
              "      <td>...</td>\n",
              "    </tr>\n",
              "    <tr>\n",
              "      <th>1723</th>\n",
              "      <td>low</td>\n",
              "      <td>0.0</td>\n",
              "    </tr>\n",
              "    <tr>\n",
              "      <th>1724</th>\n",
              "      <td>low</td>\n",
              "      <td>0.0</td>\n",
              "    </tr>\n",
              "    <tr>\n",
              "      <th>1725</th>\n",
              "      <td>low</td>\n",
              "      <td>0.0</td>\n",
              "    </tr>\n",
              "    <tr>\n",
              "      <th>1726</th>\n",
              "      <td>low</td>\n",
              "      <td>0.0</td>\n",
              "    </tr>\n",
              "    <tr>\n",
              "      <th>1727</th>\n",
              "      <td>low</td>\n",
              "      <td>0.0</td>\n",
              "    </tr>\n",
              "  </tbody>\n",
              "</table>\n",
              "<p>1728 rows × 2 columns</p>\n",
              "</div>\n",
              "      <button class=\"colab-df-convert\" onclick=\"convertToInteractive('df-e9f3caab-f963-4ae1-8a5c-409b5c8bd8ec')\"\n",
              "              title=\"Convert this dataframe to an interactive table.\"\n",
              "              style=\"display:none;\">\n",
              "        \n",
              "  <svg xmlns=\"http://www.w3.org/2000/svg\" height=\"24px\"viewBox=\"0 0 24 24\"\n",
              "       width=\"24px\">\n",
              "    <path d=\"M0 0h24v24H0V0z\" fill=\"none\"/>\n",
              "    <path d=\"M18.56 5.44l.94 2.06.94-2.06 2.06-.94-2.06-.94-.94-2.06-.94 2.06-2.06.94zm-11 1L8.5 8.5l.94-2.06 2.06-.94-2.06-.94L8.5 2.5l-.94 2.06-2.06.94zm10 10l.94 2.06.94-2.06 2.06-.94-2.06-.94-.94-2.06-.94 2.06-2.06.94z\"/><path d=\"M17.41 7.96l-1.37-1.37c-.4-.4-.92-.59-1.43-.59-.52 0-1.04.2-1.43.59L10.3 9.45l-7.72 7.72c-.78.78-.78 2.05 0 2.83L4 21.41c.39.39.9.59 1.41.59.51 0 1.02-.2 1.41-.59l7.78-7.78 2.81-2.81c.8-.78.8-2.07 0-2.86zM5.41 20L4 18.59l7.72-7.72 1.47 1.35L5.41 20z\"/>\n",
              "  </svg>\n",
              "      </button>\n",
              "      \n",
              "  <style>\n",
              "    .colab-df-container {\n",
              "      display:flex;\n",
              "      flex-wrap:wrap;\n",
              "      gap: 12px;\n",
              "    }\n",
              "\n",
              "    .colab-df-convert {\n",
              "      background-color: #E8F0FE;\n",
              "      border: none;\n",
              "      border-radius: 50%;\n",
              "      cursor: pointer;\n",
              "      display: none;\n",
              "      fill: #1967D2;\n",
              "      height: 32px;\n",
              "      padding: 0 0 0 0;\n",
              "      width: 32px;\n",
              "    }\n",
              "\n",
              "    .colab-df-convert:hover {\n",
              "      background-color: #E2EBFA;\n",
              "      box-shadow: 0px 1px 2px rgba(60, 64, 67, 0.3), 0px 1px 3px 1px rgba(60, 64, 67, 0.15);\n",
              "      fill: #174EA6;\n",
              "    }\n",
              "\n",
              "    [theme=dark] .colab-df-convert {\n",
              "      background-color: #3B4455;\n",
              "      fill: #D2E3FC;\n",
              "    }\n",
              "\n",
              "    [theme=dark] .colab-df-convert:hover {\n",
              "      background-color: #434B5C;\n",
              "      box-shadow: 0px 1px 3px 1px rgba(0, 0, 0, 0.15);\n",
              "      filter: drop-shadow(0px 1px 2px rgba(0, 0, 0, 0.3));\n",
              "      fill: #FFFFFF;\n",
              "    }\n",
              "  </style>\n",
              "\n",
              "      <script>\n",
              "        const buttonEl =\n",
              "          document.querySelector('#df-e9f3caab-f963-4ae1-8a5c-409b5c8bd8ec button.colab-df-convert');\n",
              "        buttonEl.style.display =\n",
              "          google.colab.kernel.accessAllowed ? 'block' : 'none';\n",
              "\n",
              "        async function convertToInteractive(key) {\n",
              "          const element = document.querySelector('#df-e9f3caab-f963-4ae1-8a5c-409b5c8bd8ec');\n",
              "          const dataTable =\n",
              "            await google.colab.kernel.invokeFunction('convertToInteractive',\n",
              "                                                     [key], {});\n",
              "          if (!dataTable) return;\n",
              "\n",
              "          const docLinkHtml = 'Like what you see? Visit the ' +\n",
              "            '<a target=\"_blank\" href=https://colab.research.google.com/notebooks/data_table.ipynb>data table notebook</a>'\n",
              "            + ' to learn more about interactive tables.';\n",
              "          element.innerHTML = '';\n",
              "          dataTable['output_type'] = 'display_data';\n",
              "          await google.colab.output.renderOutput(dataTable, element);\n",
              "          const docLink = document.createElement('div');\n",
              "          docLink.innerHTML = docLinkHtml;\n",
              "          element.appendChild(docLink);\n",
              "        }\n",
              "      </script>\n",
              "    </div>\n",
              "  </div>\n",
              "  "
            ]
          },
          "metadata": {},
          "execution_count": 13
        }
      ]
    },
    {
      "cell_type": "markdown",
      "metadata": {
        "id": "pWtewMh2cOFJ"
      },
      "source": [
        "**[2.7]** Replace the values of 'buying_price' with its encoded version and remove the 'buying_price_encoded' column"
      ]
    },
    {
      "cell_type": "code",
      "source": [
        "# Placeholder for student's code"
      ],
      "metadata": {
        "id": "UCj_5dD-27XY"
      },
      "execution_count": null,
      "outputs": []
    },
    {
      "cell_type": "code",
      "metadata": {
        "id": "88-azlpocON2"
      },
      "source": [
        "# Solution\n",
        "df_cleaned['buying_price'] = df_cleaned['buying_price_encoded']\n",
        "df_cleaned.drop('buying_price_encoded', axis=1, inplace=True)"
      ],
      "execution_count": null,
      "outputs": []
    },
    {
      "cell_type": "code",
      "source": [
        "df_cleaned['buying_price'].unique()"
      ],
      "metadata": {
        "colab": {
          "base_uri": "https://localhost:8080/"
        },
        "id": "ZEl9RraVeg1K",
        "outputId": "6cbdbdb0-3a40-4040-d086-53fa7c2ec71b"
      },
      "execution_count": null,
      "outputs": [
        {
          "output_type": "execute_result",
          "data": {
            "text/plain": [
              "array([3., 2., 1., 0.])"
            ]
          },
          "metadata": {},
          "execution_count": 15
        }
      ]
    },
    {
      "cell_type": "code",
      "source": [
        "# Unit Tests\n",
        "assert list(df_cleaned['buying_price'].unique()) == [3., 2., 1., 0.]"
      ],
      "metadata": {
        "id": "1DzSKBa6ecEe"
      },
      "execution_count": null,
      "outputs": []
    },
    {
      "cell_type": "markdown",
      "metadata": {
        "id": "Wunc8uSRcwGC"
      },
      "source": [
        "**[2.8]** Repeat the same process to convert 'maintenance_cost' into index mapping"
      ]
    },
    {
      "cell_type": "code",
      "metadata": {
        "id": "dcKXkIZYcwMY"
      },
      "source": [
        "# Placeholder for student's code"
      ],
      "execution_count": null,
      "outputs": []
    },
    {
      "cell_type": "code",
      "metadata": {
        "id": "s16IrcduZ788"
      },
      "source": [
        "# Solution\n",
        "maintenance_cost_cats = [['low', 'med', 'high', 'vhigh']]\n",
        "maintenance_cost_enc = OrdinalEncoder(categories=maintenance_cost_cats)\n",
        "df_cleaned['maintenance_cost'] = maintenance_cost_enc.fit_transform(df_cleaned[['maintenance_cost']])"
      ],
      "execution_count": null,
      "outputs": []
    },
    {
      "cell_type": "markdown",
      "metadata": {
        "id": "hUMBnki5dVhN"
      },
      "source": [
        "**[2.9]** Create a dictionay for the remaining categorical variables containing their list of values"
      ]
    },
    {
      "cell_type": "code",
      "source": [
        "# Placeholder for student's code"
      ],
      "metadata": {
        "id": "8nAGLHtYMoqp"
      },
      "execution_count": null,
      "outputs": []
    },
    {
      "cell_type": "code",
      "metadata": {
        "id": "Z9cgSfU-dV4Z"
      },
      "source": [
        "# Solution\n",
        "cats_dict = {\n",
        "    'doors': [['2', '3', '4', '5more']],\n",
        "    'persons_capacity': [['2', '4', 'more']],\n",
        "    'luggage_boot': [['small', 'med', 'big']],\n",
        "    'safety': [['low', 'med', 'high']]\n",
        "}"
      ],
      "execution_count": null,
      "outputs": []
    },
    {
      "cell_type": "markdown",
      "metadata": {
        "id": "l-9wKSl4d0mB"
      },
      "source": [
        "**[2.10]** Create a for loop that iterates 'cats_dict' and transform each column into ordinal type"
      ]
    },
    {
      "cell_type": "code",
      "metadata": {
        "id": "-btaEgJUd0y9"
      },
      "source": [
        "# Placeholder for student's code"
      ],
      "execution_count": null,
      "outputs": []
    },
    {
      "cell_type": "code",
      "metadata": {
        "id": "D9CPtwiVd087"
      },
      "source": [
        "# Solution\n",
        "for col, cats in cats_dict.items():\n",
        "  col_encoder = OrdinalEncoder(categories=cats)\n",
        "  df_cleaned[col] = col_encoder.fit_transform(df_cleaned[[col]])"
      ],
      "execution_count": null,
      "outputs": []
    },
    {
      "cell_type": "code",
      "source": [
        "# Unit Tests\n",
        "for col, cats in cats_dict.items():\n",
        "  assert list(df_cleaned[col].unique()) == list(range(len(cats[0])))"
      ],
      "metadata": {
        "id": "nZ_wYBjge2eU"
      },
      "execution_count": null,
      "outputs": []
    },
    {
      "cell_type": "markdown",
      "metadata": {
        "id": "rj-oPwfNeP2a"
      },
      "source": [
        "**[2.11]** Print the first 5 rows of df_cleaned"
      ]
    },
    {
      "cell_type": "code",
      "metadata": {
        "id": "Dq1E_9K6ezQb"
      },
      "source": [
        "# Placeholder for student's code"
      ],
      "execution_count": null,
      "outputs": []
    },
    {
      "cell_type": "code",
      "metadata": {
        "id": "nSkMJIHkeP7o",
        "colab": {
          "base_uri": "https://localhost:8080/",
          "height": 206
        },
        "outputId": "3d290590-a887-4c37-bc22-d57ef160455d"
      },
      "source": [
        "# Solution\n",
        "df_cleaned.head()"
      ],
      "execution_count": null,
      "outputs": [
        {
          "output_type": "execute_result",
          "data": {
            "text/plain": [
              "   buying_price  maintenance_cost  doors  persons_capacity  luggage_boot  \\\n",
              "0           3.0               3.0    0.0               0.0           0.0   \n",
              "1           3.0               3.0    0.0               0.0           0.0   \n",
              "2           3.0               3.0    0.0               0.0           0.0   \n",
              "3           3.0               3.0    0.0               0.0           1.0   \n",
              "4           3.0               3.0    0.0               0.0           1.0   \n",
              "\n",
              "   safety evaluation  \n",
              "0     0.0      unacc  \n",
              "1     1.0      unacc  \n",
              "2     2.0      unacc  \n",
              "3     0.0      unacc  \n",
              "4     1.0      unacc  "
            ],
            "text/html": [
              "\n",
              "  <div id=\"df-0b645c8c-76f2-4de0-9b09-ec63d3713e22\">\n",
              "    <div class=\"colab-df-container\">\n",
              "      <div>\n",
              "<style scoped>\n",
              "    .dataframe tbody tr th:only-of-type {\n",
              "        vertical-align: middle;\n",
              "    }\n",
              "\n",
              "    .dataframe tbody tr th {\n",
              "        vertical-align: top;\n",
              "    }\n",
              "\n",
              "    .dataframe thead th {\n",
              "        text-align: right;\n",
              "    }\n",
              "</style>\n",
              "<table border=\"1\" class=\"dataframe\">\n",
              "  <thead>\n",
              "    <tr style=\"text-align: right;\">\n",
              "      <th></th>\n",
              "      <th>buying_price</th>\n",
              "      <th>maintenance_cost</th>\n",
              "      <th>doors</th>\n",
              "      <th>persons_capacity</th>\n",
              "      <th>luggage_boot</th>\n",
              "      <th>safety</th>\n",
              "      <th>evaluation</th>\n",
              "    </tr>\n",
              "  </thead>\n",
              "  <tbody>\n",
              "    <tr>\n",
              "      <th>0</th>\n",
              "      <td>3.0</td>\n",
              "      <td>3.0</td>\n",
              "      <td>0.0</td>\n",
              "      <td>0.0</td>\n",
              "      <td>0.0</td>\n",
              "      <td>0.0</td>\n",
              "      <td>unacc</td>\n",
              "    </tr>\n",
              "    <tr>\n",
              "      <th>1</th>\n",
              "      <td>3.0</td>\n",
              "      <td>3.0</td>\n",
              "      <td>0.0</td>\n",
              "      <td>0.0</td>\n",
              "      <td>0.0</td>\n",
              "      <td>1.0</td>\n",
              "      <td>unacc</td>\n",
              "    </tr>\n",
              "    <tr>\n",
              "      <th>2</th>\n",
              "      <td>3.0</td>\n",
              "      <td>3.0</td>\n",
              "      <td>0.0</td>\n",
              "      <td>0.0</td>\n",
              "      <td>0.0</td>\n",
              "      <td>2.0</td>\n",
              "      <td>unacc</td>\n",
              "    </tr>\n",
              "    <tr>\n",
              "      <th>3</th>\n",
              "      <td>3.0</td>\n",
              "      <td>3.0</td>\n",
              "      <td>0.0</td>\n",
              "      <td>0.0</td>\n",
              "      <td>1.0</td>\n",
              "      <td>0.0</td>\n",
              "      <td>unacc</td>\n",
              "    </tr>\n",
              "    <tr>\n",
              "      <th>4</th>\n",
              "      <td>3.0</td>\n",
              "      <td>3.0</td>\n",
              "      <td>0.0</td>\n",
              "      <td>0.0</td>\n",
              "      <td>1.0</td>\n",
              "      <td>1.0</td>\n",
              "      <td>unacc</td>\n",
              "    </tr>\n",
              "  </tbody>\n",
              "</table>\n",
              "</div>\n",
              "      <button class=\"colab-df-convert\" onclick=\"convertToInteractive('df-0b645c8c-76f2-4de0-9b09-ec63d3713e22')\"\n",
              "              title=\"Convert this dataframe to an interactive table.\"\n",
              "              style=\"display:none;\">\n",
              "        \n",
              "  <svg xmlns=\"http://www.w3.org/2000/svg\" height=\"24px\"viewBox=\"0 0 24 24\"\n",
              "       width=\"24px\">\n",
              "    <path d=\"M0 0h24v24H0V0z\" fill=\"none\"/>\n",
              "    <path d=\"M18.56 5.44l.94 2.06.94-2.06 2.06-.94-2.06-.94-.94-2.06-.94 2.06-2.06.94zm-11 1L8.5 8.5l.94-2.06 2.06-.94-2.06-.94L8.5 2.5l-.94 2.06-2.06.94zm10 10l.94 2.06.94-2.06 2.06-.94-2.06-.94-.94-2.06-.94 2.06-2.06.94z\"/><path d=\"M17.41 7.96l-1.37-1.37c-.4-.4-.92-.59-1.43-.59-.52 0-1.04.2-1.43.59L10.3 9.45l-7.72 7.72c-.78.78-.78 2.05 0 2.83L4 21.41c.39.39.9.59 1.41.59.51 0 1.02-.2 1.41-.59l7.78-7.78 2.81-2.81c.8-.78.8-2.07 0-2.86zM5.41 20L4 18.59l7.72-7.72 1.47 1.35L5.41 20z\"/>\n",
              "  </svg>\n",
              "      </button>\n",
              "      \n",
              "  <style>\n",
              "    .colab-df-container {\n",
              "      display:flex;\n",
              "      flex-wrap:wrap;\n",
              "      gap: 12px;\n",
              "    }\n",
              "\n",
              "    .colab-df-convert {\n",
              "      background-color: #E8F0FE;\n",
              "      border: none;\n",
              "      border-radius: 50%;\n",
              "      cursor: pointer;\n",
              "      display: none;\n",
              "      fill: #1967D2;\n",
              "      height: 32px;\n",
              "      padding: 0 0 0 0;\n",
              "      width: 32px;\n",
              "    }\n",
              "\n",
              "    .colab-df-convert:hover {\n",
              "      background-color: #E2EBFA;\n",
              "      box-shadow: 0px 1px 2px rgba(60, 64, 67, 0.3), 0px 1px 3px 1px rgba(60, 64, 67, 0.15);\n",
              "      fill: #174EA6;\n",
              "    }\n",
              "\n",
              "    [theme=dark] .colab-df-convert {\n",
              "      background-color: #3B4455;\n",
              "      fill: #D2E3FC;\n",
              "    }\n",
              "\n",
              "    [theme=dark] .colab-df-convert:hover {\n",
              "      background-color: #434B5C;\n",
              "      box-shadow: 0px 1px 3px 1px rgba(0, 0, 0, 0.15);\n",
              "      filter: drop-shadow(0px 1px 2px rgba(0, 0, 0, 0.3));\n",
              "      fill: #FFFFFF;\n",
              "    }\n",
              "  </style>\n",
              "\n",
              "      <script>\n",
              "        const buttonEl =\n",
              "          document.querySelector('#df-0b645c8c-76f2-4de0-9b09-ec63d3713e22 button.colab-df-convert');\n",
              "        buttonEl.style.display =\n",
              "          google.colab.kernel.accessAllowed ? 'block' : 'none';\n",
              "\n",
              "        async function convertToInteractive(key) {\n",
              "          const element = document.querySelector('#df-0b645c8c-76f2-4de0-9b09-ec63d3713e22');\n",
              "          const dataTable =\n",
              "            await google.colab.kernel.invokeFunction('convertToInteractive',\n",
              "                                                     [key], {});\n",
              "          if (!dataTable) return;\n",
              "\n",
              "          const docLinkHtml = 'Like what you see? Visit the ' +\n",
              "            '<a target=\"_blank\" href=https://colab.research.google.com/notebooks/data_table.ipynb>data table notebook</a>'\n",
              "            + ' to learn more about interactive tables.';\n",
              "          element.innerHTML = '';\n",
              "          dataTable['output_type'] = 'display_data';\n",
              "          await google.colab.output.renderOutput(dataTable, element);\n",
              "          const docLink = document.createElement('div');\n",
              "          docLink.innerHTML = docLinkHtml;\n",
              "          element.appendChild(docLink);\n",
              "        }\n",
              "      </script>\n",
              "    </div>\n",
              "  </div>\n",
              "  "
            ]
          },
          "metadata": {},
          "execution_count": 19
        }
      ]
    },
    {
      "cell_type": "markdown",
      "metadata": {
        "id": "hqqr-Gjr2MZT"
      },
      "source": [
        "**[2.12]** Split the target (X) and the features (Y)"
      ]
    },
    {
      "cell_type": "code",
      "metadata": {
        "id": "71ht1AV32Mng"
      },
      "source": [
        "# Placeholder for student's code"
      ],
      "execution_count": null,
      "outputs": []
    },
    {
      "cell_type": "code",
      "metadata": {
        "id": "ycruhwz6kwh9"
      },
      "source": [
        "# Solution: \n",
        "y = df_cleaned.pop('evaluation')\n",
        "X = df_cleaned"
      ],
      "execution_count": null,
      "outputs": []
    },
    {
      "cell_type": "code",
      "source": [
        "# Unit Tests\n",
        "assert y.shape == (1728, )\n",
        "assert X.shape == (1728, 6)"
      ],
      "metadata": {
        "id": "y_d_vUeejPCX"
      },
      "execution_count": null,
      "outputs": []
    },
    {
      "cell_type": "markdown",
      "metadata": {
        "id": "gDBhpdTR6WCU"
      },
      "source": [
        "## 3. Split data"
      ]
    },
    {
      "cell_type": "markdown",
      "metadata": {
        "id": "v0jlPJnf3RBR"
      },
      "source": [
        "**[3.1]** Print the number of occurence for each value of the target \n",
        "variable"
      ]
    },
    {
      "cell_type": "code",
      "metadata": {
        "id": "GT-d9HBR3dPF"
      },
      "source": [
        "# Placeholder for student's code"
      ],
      "execution_count": null,
      "outputs": []
    },
    {
      "cell_type": "code",
      "metadata": {
        "id": "gdNDcqkE3RJ2",
        "colab": {
          "base_uri": "https://localhost:8080/"
        },
        "outputId": "fe1154b7-5577-4ca3-db04-fb6c414f7574"
      },
      "source": [
        "# Solution: \n",
        "y.value_counts()"
      ],
      "execution_count": null,
      "outputs": [
        {
          "output_type": "execute_result",
          "data": {
            "text/plain": [
              "unacc    1210\n",
              "acc       384\n",
              "good       69\n",
              "vgood      65\n",
              "Name: evaluation, dtype: int64"
            ]
          },
          "metadata": {},
          "execution_count": 21
        }
      ]
    },
    {
      "cell_type": "markdown",
      "metadata": {
        "id": "9cVLqzqr542x"
      },
      "source": [
        "**[3.2]** Print the frequencies of each value of the target variable"
      ]
    },
    {
      "cell_type": "code",
      "metadata": {
        "id": "j2ZTl_rl55Fu"
      },
      "source": [
        "# Placeholder for student's code"
      ],
      "execution_count": null,
      "outputs": []
    },
    {
      "cell_type": "code",
      "metadata": {
        "id": "B6ic0OAY55Kl",
        "colab": {
          "base_uri": "https://localhost:8080/"
        },
        "outputId": "493ef94e-1473-46f2-b003-0f0cd26002b3"
      },
      "source": [
        "# Solution: \n",
        "y.value_counts(normalize=True)"
      ],
      "execution_count": null,
      "outputs": [
        {
          "output_type": "execute_result",
          "data": {
            "text/plain": [
              "unacc    0.700231\n",
              "acc      0.222222\n",
              "good     0.039931\n",
              "vgood    0.037616\n",
              "Name: evaluation, dtype: float64"
            ]
          },
          "metadata": {},
          "execution_count": 22
        }
      ]
    },
    {
      "cell_type": "markdown",
      "metadata": {
        "id": "WP93DJ2l49uA"
      },
      "source": [
        "**[3.3]** Import train_test_split from sklearn.model_selection"
      ]
    },
    {
      "cell_type": "code",
      "metadata": {
        "id": "jVQ0oKfH497t"
      },
      "source": [
        "# Placeholder for student's code"
      ],
      "execution_count": null,
      "outputs": []
    },
    {
      "cell_type": "code",
      "metadata": {
        "id": "jZxsXlPF4-IM"
      },
      "source": [
        "# Solution: \n",
        "from sklearn.model_selection import train_test_split"
      ],
      "execution_count": null,
      "outputs": []
    },
    {
      "cell_type": "markdown",
      "metadata": {
        "id": "l48uEfrf4-Qn"
      },
      "source": [
        "**[3.4]** Split the dataset into 2 different sets: data (80%) and test (20%)"
      ]
    },
    {
      "cell_type": "code",
      "source": [
        "# Placeholder for student's code"
      ],
      "metadata": {
        "id": "mEJG97Fw3LiJ"
      },
      "execution_count": null,
      "outputs": []
    },
    {
      "cell_type": "code",
      "metadata": {
        "id": "F0ADrp1E4-Zu"
      },
      "source": [
        "# Solution: \n",
        "X_data, X_test, y_data, y_test = train_test_split(X, y, test_size=0.2, random_state=8)"
      ],
      "execution_count": null,
      "outputs": []
    },
    {
      "cell_type": "code",
      "source": [
        "# Unit Tests\n",
        "assert y_test.shape == (346, )\n",
        "assert X_test.shape == (346, 6)"
      ],
      "metadata": {
        "id": "lmptHaDIj4d4"
      },
      "execution_count": null,
      "outputs": []
    },
    {
      "cell_type": "markdown",
      "metadata": {
        "id": "DBwquvbC5is7"
      },
      "source": [
        "**[3.5]** Print the frequencies of each value of the testing target"
      ]
    },
    {
      "cell_type": "code",
      "metadata": {
        "id": "warkOpoT4-fs"
      },
      "source": [
        "# Placeholder for student's code"
      ],
      "execution_count": null,
      "outputs": []
    },
    {
      "cell_type": "code",
      "metadata": {
        "id": "2-Xsu5J-8n2b",
        "colab": {
          "base_uri": "https://localhost:8080/"
        },
        "outputId": "64072628-02dc-4e0d-cb04-75d9804abd55"
      },
      "source": [
        "# Solution: \n",
        "y_test.value_counts(normalize=True)"
      ],
      "execution_count": null,
      "outputs": [
        {
          "output_type": "execute_result",
          "data": {
            "text/plain": [
              "unacc    0.710983\n",
              "acc      0.196532\n",
              "vgood    0.052023\n",
              "good     0.040462\n",
              "Name: evaluation, dtype: float64"
            ]
          },
          "metadata": {},
          "execution_count": 27
        }
      ]
    },
    {
      "cell_type": "markdown",
      "metadata": {
        "id": "R3om11NU9Ct5"
      },
      "source": [
        "**[3.6]** Split the data randomly into 2 different sets: training (80%) and validation (20%)"
      ]
    },
    {
      "cell_type": "code",
      "metadata": {
        "id": "gUfQ7suh8MwQ"
      },
      "source": [
        "# Placeholder for student's code"
      ],
      "execution_count": null,
      "outputs": []
    },
    {
      "cell_type": "code",
      "metadata": {
        "id": "cv3wSoCAs6Av"
      },
      "source": [
        "# Solution: \n",
        "X_train, X_val, y_train, y_val = train_test_split(X_data, y_data, test_size=0.2, random_state=8)"
      ],
      "execution_count": null,
      "outputs": []
    },
    {
      "cell_type": "code",
      "source": [
        "# Unit Tests\n",
        "assert y_train.shape == (1105, )\n",
        "assert X_train.shape == (1105, 6)\n",
        "assert y_val.shape == (277, )\n",
        "assert X_val.shape == (277, 6)"
      ],
      "metadata": {
        "id": "t-2wvAaglXAM"
      },
      "execution_count": null,
      "outputs": []
    },
    {
      "cell_type": "markdown",
      "metadata": {
        "id": "b0t0YocODoJb"
      },
      "source": [
        "**[3.7]** Print the frequencies of each value of the validation target"
      ]
    },
    {
      "cell_type": "code",
      "metadata": {
        "id": "vq2be8qaDoQw"
      },
      "source": [
        "# Placeholder for student's code"
      ],
      "execution_count": null,
      "outputs": []
    },
    {
      "cell_type": "code",
      "metadata": {
        "id": "k4VOeXfdDoY1",
        "colab": {
          "base_uri": "https://localhost:8080/"
        },
        "outputId": "17d061b8-4991-485a-d3b7-b53f4dcfe0c0"
      },
      "source": [
        "# Solution: \n",
        "y_val.value_counts(normalize=True)"
      ],
      "execution_count": null,
      "outputs": [
        {
          "output_type": "execute_result",
          "data": {
            "text/plain": [
              "unacc    0.685921\n",
              "acc      0.249097\n",
              "good     0.043321\n",
              "vgood    0.021661\n",
              "Name: evaluation, dtype: float64"
            ]
          },
          "metadata": {},
          "execution_count": 28
        }
      ]
    },
    {
      "cell_type": "markdown",
      "metadata": {
        "id": "LANN_r4EDrsz"
      },
      "source": [
        "**[3.8]** Print the frequencies of each value of the training target"
      ]
    },
    {
      "cell_type": "code",
      "metadata": {
        "id": "cEWLwLpVDquG"
      },
      "source": [
        "# Placeholder for student's code"
      ],
      "execution_count": null,
      "outputs": []
    },
    {
      "cell_type": "code",
      "metadata": {
        "id": "tru2D75kDq3n",
        "colab": {
          "base_uri": "https://localhost:8080/"
        },
        "outputId": "c7e4105e-5916-472a-92d7-88ab4c2ecdf8"
      },
      "source": [
        "# Solution: \n",
        "y_train.value_counts(normalize=True)"
      ],
      "execution_count": null,
      "outputs": [
        {
          "output_type": "execute_result",
          "data": {
            "text/plain": [
              "unacc    0.700452\n",
              "acc      0.223529\n",
              "good     0.038914\n",
              "vgood    0.037104\n",
              "Name: evaluation, dtype: float64"
            ]
          },
          "metadata": {},
          "execution_count": 29
        }
      ]
    },
    {
      "cell_type": "markdown",
      "source": [
        "## 4. Scale Data"
      ],
      "metadata": {
        "id": "E1RsyxpoGoUE"
      }
    },
    {
      "cell_type": "markdown",
      "source": [
        "**[4.1]** Import StandardScaler from Sklearn"
      ],
      "metadata": {
        "id": "KbsNp4DqG-6f"
      }
    },
    {
      "cell_type": "code",
      "source": [
        "# Placeholder for student's code"
      ],
      "metadata": {
        "id": "c1ua975MG_AU"
      },
      "execution_count": null,
      "outputs": []
    },
    {
      "cell_type": "code",
      "source": [
        "# Solution: \n",
        "from sklearn.preprocessing import StandardScaler"
      ],
      "metadata": {
        "id": "4XQsdPv5G_Co"
      },
      "execution_count": null,
      "outputs": []
    },
    {
      "cell_type": "markdown",
      "source": [
        "**[4.2]** Instantiate a StandardScaler and save it into a variable called `scaler`"
      ],
      "metadata": {
        "id": "K7jFP_9TH2sa"
      }
    },
    {
      "cell_type": "code",
      "source": [
        "# Placeholder for student's code"
      ],
      "metadata": {
        "id": "hHPWQUKPH20P"
      },
      "execution_count": null,
      "outputs": []
    },
    {
      "cell_type": "code",
      "source": [
        "# Solution: \n",
        "scaler = StandardScaler()"
      ],
      "metadata": {
        "id": "xH0o_GR2H22k"
      },
      "execution_count": null,
      "outputs": []
    },
    {
      "cell_type": "markdown",
      "source": [
        "**[4.3]** Fit the scaler on the training set"
      ],
      "metadata": {
        "id": "A1ql4rj4IBZJ"
      }
    },
    {
      "cell_type": "code",
      "source": [
        "# Placeholder for student's code"
      ],
      "metadata": {
        "id": "z8WReRJcIBgc"
      },
      "execution_count": null,
      "outputs": []
    },
    {
      "cell_type": "code",
      "source": [
        "# Solution: \n",
        "scaler.fit(X_train)"
      ],
      "metadata": {
        "colab": {
          "base_uri": "https://localhost:8080/",
          "height": 75
        },
        "id": "PfS_4AjcIBiz",
        "outputId": "5a198d44-4305-46a9-9d19-53e636cea809"
      },
      "execution_count": null,
      "outputs": [
        {
          "output_type": "execute_result",
          "data": {
            "text/plain": [
              "StandardScaler()"
            ],
            "text/html": [
              "<style>#sk-container-id-1 {color: black;background-color: white;}#sk-container-id-1 pre{padding: 0;}#sk-container-id-1 div.sk-toggleable {background-color: white;}#sk-container-id-1 label.sk-toggleable__label {cursor: pointer;display: block;width: 100%;margin-bottom: 0;padding: 0.3em;box-sizing: border-box;text-align: center;}#sk-container-id-1 label.sk-toggleable__label-arrow:before {content: \"▸\";float: left;margin-right: 0.25em;color: #696969;}#sk-container-id-1 label.sk-toggleable__label-arrow:hover:before {color: black;}#sk-container-id-1 div.sk-estimator:hover label.sk-toggleable__label-arrow:before {color: black;}#sk-container-id-1 div.sk-toggleable__content {max-height: 0;max-width: 0;overflow: hidden;text-align: left;background-color: #f0f8ff;}#sk-container-id-1 div.sk-toggleable__content pre {margin: 0.2em;color: black;border-radius: 0.25em;background-color: #f0f8ff;}#sk-container-id-1 input.sk-toggleable__control:checked~div.sk-toggleable__content {max-height: 200px;max-width: 100%;overflow: auto;}#sk-container-id-1 input.sk-toggleable__control:checked~label.sk-toggleable__label-arrow:before {content: \"▾\";}#sk-container-id-1 div.sk-estimator input.sk-toggleable__control:checked~label.sk-toggleable__label {background-color: #d4ebff;}#sk-container-id-1 div.sk-label input.sk-toggleable__control:checked~label.sk-toggleable__label {background-color: #d4ebff;}#sk-container-id-1 input.sk-hidden--visually {border: 0;clip: rect(1px 1px 1px 1px);clip: rect(1px, 1px, 1px, 1px);height: 1px;margin: -1px;overflow: hidden;padding: 0;position: absolute;width: 1px;}#sk-container-id-1 div.sk-estimator {font-family: monospace;background-color: #f0f8ff;border: 1px dotted black;border-radius: 0.25em;box-sizing: border-box;margin-bottom: 0.5em;}#sk-container-id-1 div.sk-estimator:hover {background-color: #d4ebff;}#sk-container-id-1 div.sk-parallel-item::after {content: \"\";width: 100%;border-bottom: 1px solid gray;flex-grow: 1;}#sk-container-id-1 div.sk-label:hover label.sk-toggleable__label {background-color: #d4ebff;}#sk-container-id-1 div.sk-serial::before {content: \"\";position: absolute;border-left: 1px solid gray;box-sizing: border-box;top: 0;bottom: 0;left: 50%;z-index: 0;}#sk-container-id-1 div.sk-serial {display: flex;flex-direction: column;align-items: center;background-color: white;padding-right: 0.2em;padding-left: 0.2em;position: relative;}#sk-container-id-1 div.sk-item {position: relative;z-index: 1;}#sk-container-id-1 div.sk-parallel {display: flex;align-items: stretch;justify-content: center;background-color: white;position: relative;}#sk-container-id-1 div.sk-item::before, #sk-container-id-1 div.sk-parallel-item::before {content: \"\";position: absolute;border-left: 1px solid gray;box-sizing: border-box;top: 0;bottom: 0;left: 50%;z-index: -1;}#sk-container-id-1 div.sk-parallel-item {display: flex;flex-direction: column;z-index: 1;position: relative;background-color: white;}#sk-container-id-1 div.sk-parallel-item:first-child::after {align-self: flex-end;width: 50%;}#sk-container-id-1 div.sk-parallel-item:last-child::after {align-self: flex-start;width: 50%;}#sk-container-id-1 div.sk-parallel-item:only-child::after {width: 0;}#sk-container-id-1 div.sk-dashed-wrapped {border: 1px dashed gray;margin: 0 0.4em 0.5em 0.4em;box-sizing: border-box;padding-bottom: 0.4em;background-color: white;}#sk-container-id-1 div.sk-label label {font-family: monospace;font-weight: bold;display: inline-block;line-height: 1.2em;}#sk-container-id-1 div.sk-label-container {text-align: center;}#sk-container-id-1 div.sk-container {/* jupyter's `normalize.less` sets `[hidden] { display: none; }` but bootstrap.min.css set `[hidden] { display: none !important; }` so we also need the `!important` here to be able to override the default hidden behavior on the sphinx rendered scikit-learn.org. See: https://github.com/scikit-learn/scikit-learn/issues/21755 */display: inline-block !important;position: relative;}#sk-container-id-1 div.sk-text-repr-fallback {display: none;}</style><div id=\"sk-container-id-1\" class=\"sk-top-container\"><div class=\"sk-text-repr-fallback\"><pre>StandardScaler()</pre><b>In a Jupyter environment, please rerun this cell to show the HTML representation or trust the notebook. <br />On GitHub, the HTML representation is unable to render, please try loading this page with nbviewer.org.</b></div><div class=\"sk-container\" hidden><div class=\"sk-item\"><div class=\"sk-estimator sk-toggleable\"><input class=\"sk-toggleable__control sk-hidden--visually\" id=\"sk-estimator-id-1\" type=\"checkbox\" checked><label for=\"sk-estimator-id-1\" class=\"sk-toggleable__label sk-toggleable__label-arrow\">StandardScaler</label><div class=\"sk-toggleable__content\"><pre>StandardScaler()</pre></div></div></div></div></div>"
            ]
          },
          "metadata": {},
          "execution_count": 32
        }
      ]
    },
    {
      "cell_type": "markdown",
      "source": [
        "**[4.4]** Apply the scaler on the training set and display the result"
      ],
      "metadata": {
        "id": "wDzm1R_SIL9M"
      }
    },
    {
      "cell_type": "code",
      "source": [
        "# Placeholder for student's code"
      ],
      "metadata": {
        "id": "XOrJI6hgIMDc"
      },
      "execution_count": null,
      "outputs": []
    },
    {
      "cell_type": "code",
      "source": [
        "# Solution: \n",
        "scaler.transform(X_train)"
      ],
      "metadata": {
        "colab": {
          "base_uri": "https://localhost:8080/"
        },
        "id": "ie2gHrZYIMGS",
        "outputId": "caea41d0-66f2-4530-f9e9-a9ce9384aeae"
      },
      "execution_count": null,
      "outputs": [
        {
          "output_type": "execute_result",
          "data": {
            "text/plain": [
              "array([[ 1.34398139, -0.44250491,  1.31747787, -1.21681147, -1.20696075,\n",
              "        -0.01673801],\n",
              "       [ 1.34398139,  1.32911801,  1.31747787, -1.21681147,  1.22235005,\n",
              "        -0.01673801],\n",
              "       [ 1.34398139,  1.32911801, -1.34397194,  1.24578318, -1.20696075,\n",
              "         1.21629517],\n",
              "       ...,\n",
              "       [ 0.4605195 ,  1.32911801,  1.31747787, -1.21681147, -1.20696075,\n",
              "         1.21629517],\n",
              "       [ 1.34398139,  0.44330655, -0.456822  , -1.21681147,  1.22235005,\n",
              "         1.21629517],\n",
              "       [-1.30640428,  1.32911801, -1.34397194, -1.21681147,  0.00769465,\n",
              "         1.21629517]])"
            ]
          },
          "metadata": {},
          "execution_count": 33
        }
      ]
    },
    {
      "cell_type": "markdown",
      "source": [
        "**[4.5]** Replace the features values with the results of the scaler"
      ],
      "metadata": {
        "id": "7SEHTwlKIF0-"
      }
    },
    {
      "cell_type": "code",
      "source": [
        "# Placeholder for student's code"
      ],
      "metadata": {
        "id": "TzHt2LuMIF6W"
      },
      "execution_count": null,
      "outputs": []
    },
    {
      "cell_type": "code",
      "source": [
        "# Solution: \n",
        "X_train = scaler.transform(X_train)\n",
        "X_val = scaler.transform(X_val)\n",
        "X_test = scaler.transform(X_test)"
      ],
      "metadata": {
        "id": "tBv8Q_JiIF88"
      },
      "execution_count": null,
      "outputs": []
    },
    {
      "cell_type": "markdown",
      "metadata": {
        "id": "GzPsvRGA21T1"
      },
      "source": [
        "## 5. Assess Baseline Model"
      ]
    },
    {
      "cell_type": "markdown",
      "metadata": {
        "id": "1IsxKh9S23oM"
      },
      "source": [
        "**[5.1]** Find the mode of the target variable from the training set and print its value"
      ]
    },
    {
      "cell_type": "code",
      "metadata": {
        "id": "IMCtszlM25oE"
      },
      "source": [
        "# Placeholder for student's code"
      ],
      "execution_count": null,
      "outputs": []
    },
    {
      "cell_type": "code",
      "metadata": {
        "id": "cLcnZ-he27Cf",
        "colab": {
          "base_uri": "https://localhost:8080/"
        },
        "outputId": "f9638c9d-2441-4d84-fe39-3637ef7af0a6"
      },
      "source": [
        "# Solution\n",
        "y_mode = y_train.mode()\n",
        "y_mode"
      ],
      "execution_count": null,
      "outputs": [
        {
          "output_type": "execute_result",
          "data": {
            "text/plain": [
              "0    unacc\n",
              "Name: evaluation, dtype: object"
            ]
          },
          "metadata": {},
          "execution_count": 35
        }
      ]
    },
    {
      "cell_type": "markdown",
      "metadata": {
        "id": "kYVN0ssQ3iAb"
      },
      "source": [
        "**[5.2]** Create a numpy array with the same dimensions as for the training set called y_base filled with this value\n",
        "\n"
      ]
    },
    {
      "cell_type": "code",
      "metadata": {
        "id": "Tou88zKs29rz"
      },
      "source": [
        "# Placeholder for student's code"
      ],
      "execution_count": null,
      "outputs": []
    },
    {
      "cell_type": "code",
      "metadata": {
        "id": "DwGRyhuG293c"
      },
      "source": [
        "# Solution\n",
        "y_base = np.full(y_train.shape, y_mode)"
      ],
      "execution_count": null,
      "outputs": []
    },
    {
      "cell_type": "markdown",
      "metadata": {
        "id": "eG52TP9Y352S"
      },
      "source": [
        "**[5.3]** Import the accuracy and f1 scores from sklearn"
      ]
    },
    {
      "cell_type": "code",
      "metadata": {
        "id": "45vdyKem36Cc"
      },
      "source": [
        "# Placeholder for student's code"
      ],
      "execution_count": null,
      "outputs": []
    },
    {
      "cell_type": "code",
      "metadata": {
        "id": "-q6FEvnj35_7"
      },
      "source": [
        "# Solution\n",
        "from sklearn.metrics import accuracy_score, f1_score"
      ],
      "execution_count": null,
      "outputs": []
    },
    {
      "cell_type": "markdown",
      "metadata": {
        "id": "0SGDh14S4D8t"
      },
      "source": [
        "**[5.4]** Display the accuracy and f1 scores of this baseline model on the training set"
      ]
    },
    {
      "cell_type": "code",
      "metadata": {
        "id": "OJ2Pwd644FF4"
      },
      "source": [
        "# Placeholder for student's code"
      ],
      "execution_count": null,
      "outputs": []
    },
    {
      "cell_type": "code",
      "metadata": {
        "id": "FCabTwTq4FN3",
        "colab": {
          "base_uri": "https://localhost:8080/"
        },
        "outputId": "465df274-22fe-41f1-ba51-126a193b1e69"
      },
      "source": [
        "# Solution\n",
        "print(accuracy_score(y_train, y_base))\n",
        "print(f1_score(y_train, y_base, average='weighted'))"
      ],
      "execution_count": null,
      "outputs": [
        {
          "output_type": "stream",
          "name": "stdout",
          "text": [
            "0.7004524886877828\n",
            "0.5770625079769494\n"
          ]
        }
      ]
    },
    {
      "cell_type": "markdown",
      "metadata": {
        "id": "fjDue9cAacH2"
      },
      "source": [
        "### 6. Train SVC with default Hyperparameter"
      ]
    },
    {
      "cell_type": "markdown",
      "metadata": {
        "id": "Bl6wWBiCE-iP"
      },
      "source": [
        "**[6.1]** Import SVC from sklearn.svm"
      ]
    },
    {
      "cell_type": "code",
      "metadata": {
        "id": "DjCOuNOQE-1A"
      },
      "source": [
        "# Placeholder for student's code"
      ],
      "execution_count": null,
      "outputs": []
    },
    {
      "cell_type": "code",
      "metadata": {
        "id": "Qz2Df6O0FWkG"
      },
      "source": [
        "# Solution\n",
        "from sklearn.svm import SVC"
      ],
      "execution_count": null,
      "outputs": []
    },
    {
      "cell_type": "markdown",
      "metadata": {
        "id": "08pMDobUxCRW"
      },
      "source": [
        "**[6.2]** Instantiate a SVC() model with default hyperparameters"
      ]
    },
    {
      "cell_type": "code",
      "metadata": {
        "id": "ZQq-ol-bFv9-"
      },
      "source": [
        "# Placeholder for student's code"
      ],
      "execution_count": null,
      "outputs": []
    },
    {
      "cell_type": "code",
      "metadata": {
        "id": "Kmymp4S18MqY"
      },
      "source": [
        "# Solution\n",
        "svc_1 = SVC()"
      ],
      "execution_count": null,
      "outputs": []
    },
    {
      "cell_type": "markdown",
      "metadata": {
        "id": "99Y27hu7F5dg"
      },
      "source": [
        "**[6.3]** Train the model on the training set"
      ]
    },
    {
      "cell_type": "code",
      "metadata": {
        "id": "tRL2skahF5tD"
      },
      "source": [
        "# Placeholder for student's code"
      ],
      "execution_count": null,
      "outputs": []
    },
    {
      "cell_type": "code",
      "metadata": {
        "id": "gxDI5b85FjGZ",
        "colab": {
          "base_uri": "https://localhost:8080/",
          "height": 75
        },
        "outputId": "f2c55239-1437-4f2a-c4af-aa76bbf2ffa6"
      },
      "source": [
        "# Solution\n",
        "svc_1.fit(X_train, y_train)"
      ],
      "execution_count": null,
      "outputs": [
        {
          "output_type": "execute_result",
          "data": {
            "text/plain": [
              "SVC()"
            ],
            "text/html": [
              "<style>#sk-container-id-2 {color: black;background-color: white;}#sk-container-id-2 pre{padding: 0;}#sk-container-id-2 div.sk-toggleable {background-color: white;}#sk-container-id-2 label.sk-toggleable__label {cursor: pointer;display: block;width: 100%;margin-bottom: 0;padding: 0.3em;box-sizing: border-box;text-align: center;}#sk-container-id-2 label.sk-toggleable__label-arrow:before {content: \"▸\";float: left;margin-right: 0.25em;color: #696969;}#sk-container-id-2 label.sk-toggleable__label-arrow:hover:before {color: black;}#sk-container-id-2 div.sk-estimator:hover label.sk-toggleable__label-arrow:before {color: black;}#sk-container-id-2 div.sk-toggleable__content {max-height: 0;max-width: 0;overflow: hidden;text-align: left;background-color: #f0f8ff;}#sk-container-id-2 div.sk-toggleable__content pre {margin: 0.2em;color: black;border-radius: 0.25em;background-color: #f0f8ff;}#sk-container-id-2 input.sk-toggleable__control:checked~div.sk-toggleable__content {max-height: 200px;max-width: 100%;overflow: auto;}#sk-container-id-2 input.sk-toggleable__control:checked~label.sk-toggleable__label-arrow:before {content: \"▾\";}#sk-container-id-2 div.sk-estimator input.sk-toggleable__control:checked~label.sk-toggleable__label {background-color: #d4ebff;}#sk-container-id-2 div.sk-label input.sk-toggleable__control:checked~label.sk-toggleable__label {background-color: #d4ebff;}#sk-container-id-2 input.sk-hidden--visually {border: 0;clip: rect(1px 1px 1px 1px);clip: rect(1px, 1px, 1px, 1px);height: 1px;margin: -1px;overflow: hidden;padding: 0;position: absolute;width: 1px;}#sk-container-id-2 div.sk-estimator {font-family: monospace;background-color: #f0f8ff;border: 1px dotted black;border-radius: 0.25em;box-sizing: border-box;margin-bottom: 0.5em;}#sk-container-id-2 div.sk-estimator:hover {background-color: #d4ebff;}#sk-container-id-2 div.sk-parallel-item::after {content: \"\";width: 100%;border-bottom: 1px solid gray;flex-grow: 1;}#sk-container-id-2 div.sk-label:hover label.sk-toggleable__label {background-color: #d4ebff;}#sk-container-id-2 div.sk-serial::before {content: \"\";position: absolute;border-left: 1px solid gray;box-sizing: border-box;top: 0;bottom: 0;left: 50%;z-index: 0;}#sk-container-id-2 div.sk-serial {display: flex;flex-direction: column;align-items: center;background-color: white;padding-right: 0.2em;padding-left: 0.2em;position: relative;}#sk-container-id-2 div.sk-item {position: relative;z-index: 1;}#sk-container-id-2 div.sk-parallel {display: flex;align-items: stretch;justify-content: center;background-color: white;position: relative;}#sk-container-id-2 div.sk-item::before, #sk-container-id-2 div.sk-parallel-item::before {content: \"\";position: absolute;border-left: 1px solid gray;box-sizing: border-box;top: 0;bottom: 0;left: 50%;z-index: -1;}#sk-container-id-2 div.sk-parallel-item {display: flex;flex-direction: column;z-index: 1;position: relative;background-color: white;}#sk-container-id-2 div.sk-parallel-item:first-child::after {align-self: flex-end;width: 50%;}#sk-container-id-2 div.sk-parallel-item:last-child::after {align-self: flex-start;width: 50%;}#sk-container-id-2 div.sk-parallel-item:only-child::after {width: 0;}#sk-container-id-2 div.sk-dashed-wrapped {border: 1px dashed gray;margin: 0 0.4em 0.5em 0.4em;box-sizing: border-box;padding-bottom: 0.4em;background-color: white;}#sk-container-id-2 div.sk-label label {font-family: monospace;font-weight: bold;display: inline-block;line-height: 1.2em;}#sk-container-id-2 div.sk-label-container {text-align: center;}#sk-container-id-2 div.sk-container {/* jupyter's `normalize.less` sets `[hidden] { display: none; }` but bootstrap.min.css set `[hidden] { display: none !important; }` so we also need the `!important` here to be able to override the default hidden behavior on the sphinx rendered scikit-learn.org. See: https://github.com/scikit-learn/scikit-learn/issues/21755 */display: inline-block !important;position: relative;}#sk-container-id-2 div.sk-text-repr-fallback {display: none;}</style><div id=\"sk-container-id-2\" class=\"sk-top-container\"><div class=\"sk-text-repr-fallback\"><pre>SVC()</pre><b>In a Jupyter environment, please rerun this cell to show the HTML representation or trust the notebook. <br />On GitHub, the HTML representation is unable to render, please try loading this page with nbviewer.org.</b></div><div class=\"sk-container\" hidden><div class=\"sk-item\"><div class=\"sk-estimator sk-toggleable\"><input class=\"sk-toggleable__control sk-hidden--visually\" id=\"sk-estimator-id-2\" type=\"checkbox\" checked><label for=\"sk-estimator-id-2\" class=\"sk-toggleable__label sk-toggleable__label-arrow\">SVC</label><div class=\"sk-toggleable__content\"><pre>SVC()</pre></div></div></div></div></div>"
            ]
          },
          "metadata": {},
          "execution_count": 41
        }
      ]
    },
    {
      "cell_type": "markdown",
      "metadata": {
        "id": "AkNsZORVxo6C"
      },
      "source": [
        "**[6.4]** Print the accuracy and f1 scores of the training set"
      ]
    },
    {
      "cell_type": "code",
      "metadata": {
        "id": "GyiulSJbGdFC"
      },
      "source": [
        "# Placeholder for student's code"
      ],
      "execution_count": null,
      "outputs": []
    },
    {
      "cell_type": "code",
      "metadata": {
        "id": "RHDvuDNYc558",
        "colab": {
          "base_uri": "https://localhost:8080/"
        },
        "outputId": "ed52a8a1-e1c2-42ff-f078-5109951b69e4"
      },
      "source": [
        "# Solution\n",
        "y_train_preds = svc_1.predict(X_train)\n",
        "print(accuracy_score(y_train, y_train_preds))\n",
        "print(f1_score(y_train, y_train_preds, average='weighted'))"
      ],
      "execution_count": null,
      "outputs": [
        {
          "output_type": "stream",
          "name": "stdout",
          "text": [
            "0.9782805429864253\n",
            "0.9784126631618301\n"
          ]
        }
      ]
    },
    {
      "cell_type": "markdown",
      "metadata": {
        "id": "-tMs3e8uHktr"
      },
      "source": [
        "**[6.5]** Import confusion_matrix, ConfusionMatrixDisplay from sklearn.metrics and matplotlib"
      ]
    },
    {
      "cell_type": "code",
      "metadata": {
        "id": "dx1vKE_rHlAT"
      },
      "source": [
        "# Placeholder for student's code"
      ],
      "execution_count": null,
      "outputs": []
    },
    {
      "cell_type": "code",
      "source": [
        "# Solution\n",
        "from sklearn.metrics import confusion_matrix, ConfusionMatrixDisplay"
      ],
      "metadata": {
        "id": "zuraMV5jWBGD"
      },
      "execution_count": null,
      "outputs": []
    },
    {
      "cell_type": "markdown",
      "source": [
        "**[6.6]** Create a confusion matrix on the training set"
      ],
      "metadata": {
        "id": "XiuUN-jQWy8g"
      }
    },
    {
      "cell_type": "code",
      "source": [
        "confusion_matrix(y_train, y_train_preds, labels=svc_1.classes_)"
      ],
      "metadata": {
        "colab": {
          "base_uri": "https://localhost:8080/"
        },
        "id": "UeHmHbqVWwRb",
        "outputId": "f92ed1a3-06bb-4a2c-f896-cfa238d75c9b"
      },
      "execution_count": null,
      "outputs": [
        {
          "output_type": "execute_result",
          "data": {
            "text/plain": [
              "array([[242,   1,   4,   0],\n",
              "       [  3,  39,   0,   1],\n",
              "       [ 14,   0, 760,   0],\n",
              "       [  1,   0,   0,  40]])"
            ]
          },
          "metadata": {},
          "execution_count": 44
        }
      ]
    },
    {
      "cell_type": "markdown",
      "source": [
        "**[6.7]** Create a frequency confusion matrix on the training set"
      ],
      "metadata": {
        "id": "VUzmaxMqEOwI"
      }
    },
    {
      "cell_type": "code",
      "source": [
        "confusion_matrix(y_train, y_train_preds, labels=svc_1.classes_, normalize='true')"
      ],
      "metadata": {
        "colab": {
          "base_uri": "https://localhost:8080/"
        },
        "id": "KgPn03J_YoeK",
        "outputId": "29536070-8546-411f-b87e-3bbae3e58c42"
      },
      "execution_count": null,
      "outputs": [
        {
          "output_type": "execute_result",
          "data": {
            "text/plain": [
              "array([[0.97975709, 0.00404858, 0.01619433, 0.        ],\n",
              "       [0.06976744, 0.90697674, 0.        , 0.02325581],\n",
              "       [0.01808786, 0.        , 0.98191214, 0.        ],\n",
              "       [0.02439024, 0.        , 0.        , 0.97560976]])"
            ]
          },
          "metadata": {},
          "execution_count": 45
        }
      ]
    },
    {
      "cell_type": "markdown",
      "source": [
        "**[6.8]** Display the confusion matrix as a chart"
      ],
      "metadata": {
        "id": "-lfas8JfW6fU"
      }
    },
    {
      "cell_type": "code",
      "source": [
        "ConfusionMatrixDisplay.from_estimator(svc_1, X_train, y_train, normalize='true')"
      ],
      "metadata": {
        "colab": {
          "base_uri": "https://localhost:8080/",
          "height": 466
        },
        "id": "9y0PCIqyWBZT",
        "outputId": "3d5a9a72-6a92-4130-d911-5b98b0df830d"
      },
      "execution_count": null,
      "outputs": [
        {
          "output_type": "execute_result",
          "data": {
            "text/plain": [
              "<sklearn.metrics._plot.confusion_matrix.ConfusionMatrixDisplay at 0x7f66427b31c0>"
            ]
          },
          "metadata": {},
          "execution_count": 46
        },
        {
          "output_type": "display_data",
          "data": {
            "text/plain": [
              "<Figure size 640x480 with 2 Axes>"
            ],
            "image/png": "[encoded data removed]"
          },
          "metadata": {}
        }
      ]
    },
    {
      "cell_type": "markdown",
      "metadata": {
        "id": "0B7PPFG0cQ2J"
      },
      "source": [
        "**[6.9]** Print the accuracy and f1 scores of the validation set"
      ]
    },
    {
      "cell_type": "code",
      "metadata": {
        "id": "Udc0WjCqGfeA"
      },
      "source": [
        "# Placeholder for student's code"
      ],
      "execution_count": null,
      "outputs": []
    },
    {
      "cell_type": "code",
      "metadata": {
        "id": "2BCdzkS4MpXo",
        "colab": {
          "base_uri": "https://localhost:8080/"
        },
        "outputId": "7937b572-7b4c-4d75-afc2-1baa97572edf"
      },
      "source": [
        "# Solution: \n",
        "y_val_preds = svc_1.predict(X_val)\n",
        "print(accuracy_score(y_val, y_val_preds))\n",
        "print(f1_score(y_val, y_val_preds, average='weighted'))"
      ],
      "execution_count": null,
      "outputs": [
        {
          "output_type": "stream",
          "name": "stdout",
          "text": [
            "0.9350180505415162\n",
            "0.9272801687510517\n"
          ]
        }
      ]
    },
    {
      "cell_type": "markdown",
      "metadata": {
        "id": "x9tcSgMuJRD0"
      },
      "source": [
        "**[6.10]** Print the confusion matrix on the validation set"
      ]
    },
    {
      "cell_type": "code",
      "metadata": {
        "id": "u_2xq6vUJbeY",
        "colab": {
          "base_uri": "https://localhost:8080/",
          "height": 472
        },
        "outputId": "cb66b2c0-1df2-4d79-9687-5b8d0ac984a8"
      },
      "source": [
        "ConfusionMatrixDisplay.from_estimator(svc_1, X_val, y_val, normalize='true')"
      ],
      "execution_count": null,
      "outputs": [
        {
          "output_type": "execute_result",
          "data": {
            "text/plain": [
              "<sklearn.metrics._plot.confusion_matrix.ConfusionMatrixDisplay at 0x7f663a3d1880>"
            ]
          },
          "metadata": {},
          "execution_count": 48
        },
        {
          "output_type": "display_data",
          "data": {
            "text/plain": [
              "<Figure size 640x480 with 2 Axes>"
            ],
            "image/png": "[encoded data removed]"
          },
          "metadata": {}
        }
      ]
    },
    {
      "cell_type": "markdown",
      "source": [
        "## 7. Reduce SVC Overfitting with class weights"
      ],
      "metadata": {
        "id": "5SYIHBAI0FHH"
      }
    },
    {
      "cell_type": "markdown",
      "source": [
        "**[7.1]** Instantiate another SVC model by adding a weighting hyperparameter in order to balance each class "
      ],
      "metadata": {
        "id": "1zxxsHEx0NZj"
      }
    },
    {
      "cell_type": "code",
      "source": [
        "# Placeholder for student's code"
      ],
      "metadata": {
        "id": "ZWOULmL30Nel"
      },
      "execution_count": null,
      "outputs": []
    },
    {
      "cell_type": "code",
      "source": [
        "# Solution: \n",
        "svc_2 = SVC(class_weight='balanced')"
      ],
      "metadata": {
        "id": "FEJptXmD0Me-"
      },
      "execution_count": null,
      "outputs": []
    },
    {
      "cell_type": "markdown",
      "source": [
        "**[7.2]** Train this model on the training set"
      ],
      "metadata": {
        "id": "j7cSUHC00ZMw"
      }
    },
    {
      "cell_type": "code",
      "source": [
        "# Placeholder for student's code"
      ],
      "metadata": {
        "id": "dCIUD_VN0ZTU"
      },
      "execution_count": null,
      "outputs": []
    },
    {
      "cell_type": "code",
      "source": [
        "# Solution: \n",
        "svc_2.fit(X_train, y_train)"
      ],
      "metadata": {
        "colab": {
          "base_uri": "https://localhost:8080/",
          "height": 75
        },
        "id": "_8-WKz3t0ZVt",
        "outputId": "1f431e25-9afa-4976-906b-578dc623ba55"
      },
      "execution_count": null,
      "outputs": [
        {
          "output_type": "execute_result",
          "data": {
            "text/plain": [
              "SVC(class_weight='balanced')"
            ],
            "text/html": [
              "<style>#sk-container-id-3 {color: black;background-color: white;}#sk-container-id-3 pre{padding: 0;}#sk-container-id-3 div.sk-toggleable {background-color: white;}#sk-container-id-3 label.sk-toggleable__label {cursor: pointer;display: block;width: 100%;margin-bottom: 0;padding: 0.3em;box-sizing: border-box;text-align: center;}#sk-container-id-3 label.sk-toggleable__label-arrow:before {content: \"▸\";float: left;margin-right: 0.25em;color: #696969;}#sk-container-id-3 label.sk-toggleable__label-arrow:hover:before {color: black;}#sk-container-id-3 div.sk-estimator:hover label.sk-toggleable__label-arrow:before {color: black;}#sk-container-id-3 div.sk-toggleable__content {max-height: 0;max-width: 0;overflow: hidden;text-align: left;background-color: #f0f8ff;}#sk-container-id-3 div.sk-toggleable__content pre {margin: 0.2em;color: black;border-radius: 0.25em;background-color: #f0f8ff;}#sk-container-id-3 input.sk-toggleable__control:checked~div.sk-toggleable__content {max-height: 200px;max-width: 100%;overflow: auto;}#sk-container-id-3 input.sk-toggleable__control:checked~label.sk-toggleable__label-arrow:before {content: \"▾\";}#sk-container-id-3 div.sk-estimator input.sk-toggleable__control:checked~label.sk-toggleable__label {background-color: #d4ebff;}#sk-container-id-3 div.sk-label input.sk-toggleable__control:checked~label.sk-toggleable__label {background-color: #d4ebff;}#sk-container-id-3 input.sk-hidden--visually {border: 0;clip: rect(1px 1px 1px 1px);clip: rect(1px, 1px, 1px, 1px);height: 1px;margin: -1px;overflow: hidden;padding: 0;position: absolute;width: 1px;}#sk-container-id-3 div.sk-estimator {font-family: monospace;background-color: #f0f8ff;border: 1px dotted black;border-radius: 0.25em;box-sizing: border-box;margin-bottom: 0.5em;}#sk-container-id-3 div.sk-estimator:hover {background-color: #d4ebff;}#sk-container-id-3 div.sk-parallel-item::after {content: \"\";width: 100%;border-bottom: 1px solid gray;flex-grow: 1;}#sk-container-id-3 div.sk-label:hover label.sk-toggleable__label {background-color: #d4ebff;}#sk-container-id-3 div.sk-serial::before {content: \"\";position: absolute;border-left: 1px solid gray;box-sizing: border-box;top: 0;bottom: 0;left: 50%;z-index: 0;}#sk-container-id-3 div.sk-serial {display: flex;flex-direction: column;align-items: center;background-color: white;padding-right: 0.2em;padding-left: 0.2em;position: relative;}#sk-container-id-3 div.sk-item {position: relative;z-index: 1;}#sk-container-id-3 div.sk-parallel {display: flex;align-items: stretch;justify-content: center;background-color: white;position: relative;}#sk-container-id-3 div.sk-item::before, #sk-container-id-3 div.sk-parallel-item::before {content: \"\";position: absolute;border-left: 1px solid gray;box-sizing: border-box;top: 0;bottom: 0;left: 50%;z-index: -1;}#sk-container-id-3 div.sk-parallel-item {display: flex;flex-direction: column;z-index: 1;position: relative;background-color: white;}#sk-container-id-3 div.sk-parallel-item:first-child::after {align-self: flex-end;width: 50%;}#sk-container-id-3 div.sk-parallel-item:last-child::after {align-self: flex-start;width: 50%;}#sk-container-id-3 div.sk-parallel-item:only-child::after {width: 0;}#sk-container-id-3 div.sk-dashed-wrapped {border: 1px dashed gray;margin: 0 0.4em 0.5em 0.4em;box-sizing: border-box;padding-bottom: 0.4em;background-color: white;}#sk-container-id-3 div.sk-label label {font-family: monospace;font-weight: bold;display: inline-block;line-height: 1.2em;}#sk-container-id-3 div.sk-label-container {text-align: center;}#sk-container-id-3 div.sk-container {/* jupyter's `normalize.less` sets `[hidden] { display: none; }` but bootstrap.min.css set `[hidden] { display: none !important; }` so we also need the `!important` here to be able to override the default hidden behavior on the sphinx rendered scikit-learn.org. See: https://github.com/scikit-learn/scikit-learn/issues/21755 */display: inline-block !important;position: relative;}#sk-container-id-3 div.sk-text-repr-fallback {display: none;}</style><div id=\"sk-container-id-3\" class=\"sk-top-container\"><div class=\"sk-text-repr-fallback\"><pre>SVC(class_weight=&#x27;balanced&#x27;)</pre><b>In a Jupyter environment, please rerun this cell to show the HTML representation or trust the notebook. <br />On GitHub, the HTML representation is unable to render, please try loading this page with nbviewer.org.</b></div><div class=\"sk-container\" hidden><div class=\"sk-item\"><div class=\"sk-estimator sk-toggleable\"><input class=\"sk-toggleable__control sk-hidden--visually\" id=\"sk-estimator-id-3\" type=\"checkbox\" checked><label for=\"sk-estimator-id-3\" class=\"sk-toggleable__label sk-toggleable__label-arrow\">SVC</label><div class=\"sk-toggleable__content\"><pre>SVC(class_weight=&#x27;balanced&#x27;)</pre></div></div></div></div></div>"
            ]
          },
          "metadata": {},
          "execution_count": 50
        }
      ]
    },
    {
      "cell_type": "markdown",
      "source": [
        "**[7.3]** Save its predictions from the training and validation sets on 2 different variables"
      ],
      "metadata": {
        "id": "m74i-zp60f20"
      }
    },
    {
      "cell_type": "code",
      "source": [
        "# Placeholder for student's code"
      ],
      "metadata": {
        "id": "oxD5Y95H0f9g"
      },
      "execution_count": null,
      "outputs": []
    },
    {
      "cell_type": "code",
      "source": [
        "# Solution: \n",
        "y_train_preds = svc_2.predict(X_train)\n",
        "y_val_preds = svc_2.predict(X_val)"
      ],
      "metadata": {
        "id": "LaRxUTwR0f_r"
      },
      "execution_count": null,
      "outputs": []
    },
    {
      "cell_type": "markdown",
      "metadata": {
        "id": "2CIbx4edpNbR"
      },
      "source": [
        "**[7.4]** Display the accuracy score on the training and validation sets"
      ]
    },
    {
      "cell_type": "code",
      "source": [
        "# Placeholder for student's code"
      ],
      "metadata": {
        "id": "tY7_eyrN4xHs"
      },
      "execution_count": null,
      "outputs": []
    },
    {
      "cell_type": "code",
      "metadata": {
        "id": "XU0nEowLoMZi",
        "colab": {
          "base_uri": "https://localhost:8080/"
        },
        "outputId": "cc555450-9bc9-43d7-c137-c7c0a4829a55"
      },
      "source": [
        "# Solution: \n",
        "print(accuracy_score(y_train, y_train_preds))\n",
        "print(accuracy_score(y_val, y_val_preds))"
      ],
      "execution_count": null,
      "outputs": [
        {
          "output_type": "stream",
          "name": "stdout",
          "text": [
            "0.9420814479638009\n",
            "0.9205776173285198\n"
          ]
        }
      ]
    },
    {
      "cell_type": "markdown",
      "source": [
        "**[7.5]** Display the f1 score on the training and validation sets"
      ],
      "metadata": {
        "id": "Fg7HzUqr1qV7"
      }
    },
    {
      "cell_type": "code",
      "source": [
        "# Placeholder for student's code"
      ],
      "metadata": {
        "id": "pWQjMJ8I1qdN"
      },
      "execution_count": null,
      "outputs": []
    },
    {
      "cell_type": "code",
      "source": [
        "# Solution: \n",
        "print(f1_score(y_train, y_train_preds, average='weighted'))\n",
        "print(f1_score(y_val, y_val_preds, average='weighted'))"
      ],
      "metadata": {
        "colab": {
          "base_uri": "https://localhost:8080/"
        },
        "id": "dmUvEFn81qfw",
        "outputId": "ace22460-c7b4-4164-8d17-3e30727d8512"
      },
      "execution_count": null,
      "outputs": [
        {
          "output_type": "stream",
          "name": "stdout",
          "text": [
            "0.9439425348302004\n",
            "0.9235486678925439\n"
          ]
        }
      ]
    },
    {
      "cell_type": "markdown",
      "metadata": {
        "id": "j-lBRr8cp_wE"
      },
      "source": [
        "**[7.6]** Display the confusion matrices for this model on the training set"
      ]
    },
    {
      "cell_type": "code",
      "source": [
        "# Placeholder for student's code"
      ],
      "metadata": {
        "id": "DtkhAl584wiD"
      },
      "execution_count": null,
      "outputs": []
    },
    {
      "cell_type": "code",
      "metadata": {
        "id": "K4UhZh6noMoP",
        "colab": {
          "base_uri": "https://localhost:8080/",
          "height": 472
        },
        "outputId": "fdf233cb-9766-4d62-efff-091d05a5a803"
      },
      "source": [
        "# Solution: \n",
        "ConfusionMatrixDisplay.from_estimator(svc_2, X_train, y_train, normalize='true')"
      ],
      "execution_count": null,
      "outputs": [
        {
          "output_type": "execute_result",
          "data": {
            "text/plain": [
              "<sklearn.metrics._plot.confusion_matrix.ConfusionMatrixDisplay at 0x7f663ad86070>"
            ]
          },
          "metadata": {},
          "execution_count": 54
        },
        {
          "output_type": "display_data",
          "data": {
            "text/plain": [
              "<Figure size 640x480 with 2 Axes>"
            ],
            "image/png": "[encoded data removed]"
          },
          "metadata": {}
        }
      ]
    },
    {
      "cell_type": "markdown",
      "source": [
        "**[7.7]** Display the confusion matrices for this model on the validation set"
      ],
      "metadata": {
        "id": "J8VcFdgZX84m"
      }
    },
    {
      "cell_type": "code",
      "source": [
        "# Placeholder for student's code"
      ],
      "metadata": {
        "id": "0UZgEe-dX890"
      },
      "execution_count": null,
      "outputs": []
    },
    {
      "cell_type": "code",
      "source": [
        "# Solution: \n",
        "ConfusionMatrixDisplay.from_estimator(svc_2, X_val, y_val, normalize='true')"
      ],
      "metadata": {
        "colab": {
          "base_uri": "https://localhost:8080/",
          "height": 472
        },
        "id": "2hs-9TjyX9AZ",
        "outputId": "41a47d22-7a0e-4326-c42d-32bad6f7fcd5"
      },
      "execution_count": null,
      "outputs": [
        {
          "output_type": "execute_result",
          "data": {
            "text/plain": [
              "<sklearn.metrics._plot.confusion_matrix.ConfusionMatrixDisplay at 0x7f663789c940>"
            ]
          },
          "metadata": {},
          "execution_count": 55
        },
        {
          "output_type": "display_data",
          "data": {
            "text/plain": [
              "<Figure size 640x480 with 2 Axes>"
            ],
            "image/png": "[encoded data removed]"
          },
          "metadata": {}
        }
      ]
    },
    {
      "cell_type": "markdown",
      "metadata": {
        "id": "6eMGUKBpfAPn"
      },
      "source": [
        "## 8. Reduce SVC Overfitting with C Hyperparameter"
      ]
    },
    {
      "cell_type": "markdown",
      "metadata": {
        "id": "OdaRAiydfWJl"
      },
      "source": [
        "**[8.1]** Train a SVC model with C=0.5"
      ]
    },
    {
      "cell_type": "code",
      "metadata": {
        "id": "RQAkshZxhU8i"
      },
      "source": [
        "# Placeholder for student's code"
      ],
      "execution_count": null,
      "outputs": []
    },
    {
      "cell_type": "code",
      "metadata": {
        "id": "PLG4EF_OklSw"
      },
      "source": [
        "# Solution\n",
        "svc_c_1 = SVC(class_weight='balanced', C=0.5).fit(X_train, y_train)"
      ],
      "execution_count": null,
      "outputs": []
    },
    {
      "cell_type": "markdown",
      "source": [
        "**[8.2]** Save its predictions from the training and validation sets on 2 different variables"
      ],
      "metadata": {
        "id": "2FLbHpUT44qO"
      }
    },
    {
      "cell_type": "code",
      "source": [
        "# Placeholder for student's code"
      ],
      "metadata": {
        "id": "ATy4rthp44vs"
      },
      "execution_count": null,
      "outputs": []
    },
    {
      "cell_type": "code",
      "source": [
        "# Solution: \n",
        "y_train_preds = svc_c_1.predict(X_train)\n",
        "y_val_preds = svc_c_1.predict(X_val)"
      ],
      "metadata": {
        "id": "YyRAAymT440Z"
      },
      "execution_count": null,
      "outputs": []
    },
    {
      "cell_type": "markdown",
      "source": [
        "**[8.3]** Display the accuracy score on the training and validation sets"
      ],
      "metadata": {
        "id": "FlU1_Up245kI"
      }
    },
    {
      "cell_type": "code",
      "source": [
        "# Placeholder for student's code"
      ],
      "metadata": {
        "id": "5iemdAps45rm"
      },
      "execution_count": null,
      "outputs": []
    },
    {
      "cell_type": "code",
      "source": [
        "# Solution: \n",
        "print(accuracy_score(y_train, y_train_preds))\n",
        "print(accuracy_score(y_val, y_val_preds))"
      ],
      "metadata": {
        "colab": {
          "base_uri": "https://localhost:8080/"
        },
        "id": "mgVEWnIg45uL",
        "outputId": "68a13274-439d-47b7-d1da-2cc4be4e4b69"
      },
      "execution_count": null,
      "outputs": [
        {
          "output_type": "stream",
          "name": "stdout",
          "text": [
            "0.9266968325791856\n",
            "0.9169675090252708\n"
          ]
        }
      ]
    },
    {
      "cell_type": "markdown",
      "source": [
        "**[8.4]** Display the f1 score on the training and validation sets"
      ],
      "metadata": {
        "id": "jW3-GSA947gA"
      }
    },
    {
      "cell_type": "code",
      "source": [
        "# Placeholder for student's code"
      ],
      "metadata": {
        "id": "BQU-HfJu47lm"
      },
      "execution_count": null,
      "outputs": []
    },
    {
      "cell_type": "code",
      "source": [
        "# Solution: \n",
        "print(f1_score(y_train, y_train_preds, average='weighted'))\n",
        "print(f1_score(y_val, y_val_preds, average='weighted'))"
      ],
      "metadata": {
        "colab": {
          "base_uri": "https://localhost:8080/"
        },
        "id": "ng-MUnLz47oU",
        "outputId": "7401db7e-81b2-46a6-8ed6-b15cc67a8000"
      },
      "execution_count": null,
      "outputs": [
        {
          "output_type": "stream",
          "name": "stdout",
          "text": [
            "0.9298918594499036\n",
            "0.9212286969772636\n"
          ]
        }
      ]
    },
    {
      "cell_type": "markdown",
      "source": [
        "## 9. Reduce SVC Overfitting with C Hyperparameter"
      ],
      "metadata": {
        "id": "N35WxG5o5UPB"
      }
    },
    {
      "cell_type": "markdown",
      "metadata": {
        "id": "rvMmJdD7iSc4"
      },
      "source": [
        "**[9.1]** Train a SVC model with a different value for C"
      ]
    },
    {
      "cell_type": "code",
      "metadata": {
        "id": "88Xk8Ye6ifTk"
      },
      "source": [
        "# Placeholder for student's code"
      ],
      "execution_count": null,
      "outputs": []
    },
    {
      "cell_type": "code",
      "metadata": {
        "id": "wNzgV6K7kZfB"
      },
      "source": [
        "# Solution\n",
        "svc_c_2 = SVC(class_weight='balanced', C=1).fit(X_train, y_train)"
      ],
      "execution_count": null,
      "outputs": []
    },
    {
      "cell_type": "markdown",
      "source": [
        "**[9.2]** Save its predictions from the training and validation sets on 2 different variables"
      ],
      "metadata": {
        "id": "d9DBNEwM5yuR"
      }
    },
    {
      "cell_type": "code",
      "source": [
        "# Placeholder for student's code"
      ],
      "metadata": {
        "id": "oWi-M2It5y1T"
      },
      "execution_count": null,
      "outputs": []
    },
    {
      "cell_type": "code",
      "source": [
        "# Solution: \n",
        "y_train_preds = svc_c_2.predict(X_train)\n",
        "y_val_preds = svc_c_2.predict(X_val)"
      ],
      "metadata": {
        "id": "JmyhVSe55y3a"
      },
      "execution_count": null,
      "outputs": []
    },
    {
      "cell_type": "markdown",
      "source": [
        "**[9.3]** Display the accuracy score on the training and validation sets"
      ],
      "metadata": {
        "id": "4mhBthoX5zIV"
      }
    },
    {
      "cell_type": "code",
      "source": [
        "# Placeholder for student's code"
      ],
      "metadata": {
        "id": "vQjMylWh5zOZ"
      },
      "execution_count": null,
      "outputs": []
    },
    {
      "cell_type": "code",
      "source": [
        "# Solution: \n",
        "print(accuracy_score(y_train, y_train_preds))\n",
        "print(accuracy_score(y_val, y_val_preds))"
      ],
      "metadata": {
        "colab": {
          "base_uri": "https://localhost:8080/"
        },
        "id": "ZRWGDfp45zQ4",
        "outputId": "43d7a0a6-3ed5-4cc2-e0a8-88bb18ffec21"
      },
      "execution_count": null,
      "outputs": [
        {
          "output_type": "stream",
          "name": "stdout",
          "text": [
            "0.9420814479638009\n",
            "0.9205776173285198\n"
          ]
        }
      ]
    },
    {
      "cell_type": "markdown",
      "source": [
        "**[9.4]** Display the f1 score on the training and validation sets"
      ],
      "metadata": {
        "id": "1xzOhANd5zZB"
      }
    },
    {
      "cell_type": "code",
      "source": [
        "# Placeholder for student's code"
      ],
      "metadata": {
        "id": "Xa_sDU1l5zej"
      },
      "execution_count": null,
      "outputs": []
    },
    {
      "cell_type": "code",
      "source": [
        "# Solution: \n",
        "print(f1_score(y_train, y_train_preds, average='weighted'))\n",
        "print(f1_score(y_val, y_val_preds, average='weighted'))"
      ],
      "metadata": {
        "colab": {
          "base_uri": "https://localhost:8080/"
        },
        "id": "Ta8Jz1u_5zg4",
        "outputId": "f364b9b7-e1ca-46df-c24d-e2a9017377b8"
      },
      "execution_count": null,
      "outputs": [
        {
          "output_type": "stream",
          "name": "stdout",
          "text": [
            "0.9439425348302004\n",
            "0.9235486678925439\n"
          ]
        }
      ]
    },
    {
      "cell_type": "markdown",
      "source": [
        "## 10. Reduce SVC Overfitting with C Hyperparameter"
      ],
      "metadata": {
        "id": "--IuWVlw50Iu"
      }
    },
    {
      "cell_type": "markdown",
      "metadata": {
        "id": "-axCZYQFib_p"
      },
      "source": [
        "**[10.1]** Train a SVC model with a different value for C"
      ]
    },
    {
      "cell_type": "code",
      "metadata": {
        "id": "5EiuX4w8iiqr"
      },
      "source": [
        "# Placeholder for student's code"
      ],
      "execution_count": null,
      "outputs": []
    },
    {
      "cell_type": "code",
      "metadata": {
        "id": "Ut2dnEUKkrUo"
      },
      "source": [
        "# Solution\n",
        "svc_c_3 = SVC(class_weight='balanced', C=0.45).fit(X_train, y_train)"
      ],
      "execution_count": null,
      "outputs": []
    },
    {
      "cell_type": "markdown",
      "source": [
        "**[10.2]** Save its predictions from the training and validation sets on 2 different variables"
      ],
      "metadata": {
        "id": "m99Jp2bw6O5m"
      }
    },
    {
      "cell_type": "code",
      "source": [
        "# Placeholder for student's code"
      ],
      "metadata": {
        "id": "mtwC-Ts86PEi"
      },
      "execution_count": null,
      "outputs": []
    },
    {
      "cell_type": "code",
      "source": [
        "# Solution: \n",
        "y_train_preds = svc_c_3.predict(X_train)\n",
        "y_val_preds = svc_c_3.predict(X_val)"
      ],
      "metadata": {
        "id": "n1NjR_9F6PHI"
      },
      "execution_count": null,
      "outputs": []
    },
    {
      "cell_type": "markdown",
      "source": [
        "**[10.3]** Display the accuracy score on the training and validation sets"
      ],
      "metadata": {
        "id": "jeKwpsek6PSX"
      }
    },
    {
      "cell_type": "code",
      "source": [
        "# Placeholder for student's code"
      ],
      "metadata": {
        "id": "bpiFdhsi6PX8"
      },
      "execution_count": null,
      "outputs": []
    },
    {
      "cell_type": "code",
      "source": [
        "# Solution: \n",
        "print(accuracy_score(y_train, y_train_preds))\n",
        "print(accuracy_score(y_val, y_val_preds))"
      ],
      "metadata": {
        "colab": {
          "base_uri": "https://localhost:8080/"
        },
        "id": "cuMY9WmR6Pau",
        "outputId": "ad8c74e3-7c39-467e-8e7a-41b9fcd8e51e"
      },
      "execution_count": null,
      "outputs": [
        {
          "output_type": "stream",
          "name": "stdout",
          "text": [
            "0.9248868778280543\n",
            "0.9205776173285198\n"
          ]
        }
      ]
    },
    {
      "cell_type": "markdown",
      "source": [
        "**[10.4]** Display the f1 score on the training and validation sets"
      ],
      "metadata": {
        "id": "IrMX2j1O6Poe"
      }
    },
    {
      "cell_type": "code",
      "source": [
        "# Placeholder for student's code"
      ],
      "metadata": {
        "id": "0oJbNBUT6Ptj"
      },
      "execution_count": null,
      "outputs": []
    },
    {
      "cell_type": "code",
      "source": [
        "# Solution: \n",
        "print(f1_score(y_train, y_train_preds, average='weighted'))\n",
        "print(f1_score(y_val, y_val_preds, average='weighted'))"
      ],
      "metadata": {
        "colab": {
          "base_uri": "https://localhost:8080/"
        },
        "id": "MzaDEsnH6PwS",
        "outputId": "30e35dde-7234-4f8d-e0ff-32f9cfe05730"
      },
      "execution_count": null,
      "outputs": [
        {
          "output_type": "stream",
          "name": "stdout",
          "text": [
            "0.9282002098443366\n",
            "0.9246529469274023\n"
          ]
        }
      ]
    },
    {
      "cell_type": "markdown",
      "metadata": {
        "id": "nicDxfxYir9p"
      },
      "source": [
        "**[10.5]** Plot the confusion matrics for the training set"
      ]
    },
    {
      "cell_type": "code",
      "metadata": {
        "id": "IrgYmuE7isPY"
      },
      "source": [
        "# Placeholder for student's code"
      ],
      "execution_count": null,
      "outputs": []
    },
    {
      "cell_type": "code",
      "metadata": {
        "id": "FqX0abehTjqC",
        "colab": {
          "base_uri": "https://localhost:8080/",
          "height": 472
        },
        "outputId": "94767643-886b-488a-85bd-58902078a747"
      },
      "source": [
        "# Solution\n",
        "ConfusionMatrixDisplay.from_estimator(svc_c_3, X_train, y_train, normalize='true')"
      ],
      "execution_count": null,
      "outputs": [
        {
          "output_type": "execute_result",
          "data": {
            "text/plain": [
              "<sklearn.metrics._plot.confusion_matrix.ConfusionMatrixDisplay at 0x7f663d753ca0>"
            ]
          },
          "metadata": {},
          "execution_count": 68
        },
        {
          "output_type": "display_data",
          "data": {
            "text/plain": [
              "<Figure size 640x480 with 2 Axes>"
            ],
            "image/png": "[encoded data removed]"
          },
          "metadata": {}
        }
      ]
    },
    {
      "cell_type": "markdown",
      "source": [
        "**[10.6]** Plot the confusion matrics for the validation set"
      ],
      "metadata": {
        "id": "Ooax-Uh5ZOBF"
      }
    },
    {
      "cell_type": "code",
      "source": [
        "# Placeholder for student's code"
      ],
      "metadata": {
        "id": "iGWrb5NeZOK-"
      },
      "execution_count": null,
      "outputs": []
    },
    {
      "cell_type": "code",
      "source": [
        "# Solution: \n",
        "ConfusionMatrixDisplay.from_estimator(svc_c_3, X_val, y_val, normalize='true')"
      ],
      "metadata": {
        "colab": {
          "base_uri": "https://localhost:8080/",
          "height": 472
        },
        "id": "t59XJgOLZOTH",
        "outputId": "1393706d-c1d6-4e13-add4-87579aac5d57"
      },
      "execution_count": null,
      "outputs": [
        {
          "output_type": "execute_result",
          "data": {
            "text/plain": [
              "<sklearn.metrics._plot.confusion_matrix.ConfusionMatrixDisplay at 0x7f66427b38e0>"
            ]
          },
          "metadata": {},
          "execution_count": 69
        },
        {
          "output_type": "display_data",
          "data": {
            "text/plain": [
              "<Figure size 640x480 with 2 Axes>"
            ],
            "image/png": "[encoded data removed]"
          },
          "metadata": {}
        }
      ]
    },
    {
      "cell_type": "markdown",
      "source": [
        "## 11.  Assess model on Testing Set"
      ],
      "metadata": {
        "id": "mW8RpeR-AVj2"
      }
    },
    {
      "cell_type": "markdown",
      "metadata": {
        "id": "67MM8GB0lxeE"
      },
      "source": [
        "**[11.1]** Print the accuracy and f1 scores on the testing set"
      ]
    },
    {
      "cell_type": "code",
      "metadata": {
        "id": "CaHA2EhFmrtr"
      },
      "source": [
        "# Placeholder for student's code"
      ],
      "execution_count": null,
      "outputs": []
    },
    {
      "cell_type": "code",
      "metadata": {
        "id": "WjXWrk6Xlxmb",
        "colab": {
          "base_uri": "https://localhost:8080/"
        },
        "outputId": "faac97e6-f383-4668-94b8-5a894aedacda"
      },
      "source": [
        "# Solution: \n",
        "y_test_preds = svc_c_3.predict(X_test)\n",
        "print(accuracy_score(y_test, y_test_preds))\n",
        "print(f1_score(y_test, y_test_preds, average='weighted'))"
      ],
      "execution_count": null,
      "outputs": [
        {
          "output_type": "stream",
          "name": "stdout",
          "text": [
            "0.9104046242774566\n",
            "0.9148056748563718\n"
          ]
        }
      ]
    },
    {
      "cell_type": "markdown",
      "source": [
        "**[11.2]** Plot the confusion matrics for the training and validation sets"
      ],
      "metadata": {
        "id": "Mji8eU1eZV37"
      }
    },
    {
      "cell_type": "code",
      "source": [
        "# Placeholder for student's code"
      ],
      "metadata": {
        "id": "cR3nF1xwZV9_"
      },
      "execution_count": null,
      "outputs": []
    },
    {
      "cell_type": "code",
      "source": [
        "# Solution: \n",
        "ConfusionMatrixDisplay.from_estimator(svc_c_3, X_test, y_test, normalize='true')\n",
        "ConfusionMatrixDisplay.from_estimator(svc_c_3, X_val, y_val, normalize='true')"
      ],
      "metadata": {
        "colab": {
          "base_uri": "https://localhost:8080/",
          "height": 910
        },
        "id": "AQ16rFSVZWAD",
        "outputId": "e6e2f7ce-7774-4a3d-c1ab-c9cff6af1c19"
      },
      "execution_count": null,
      "outputs": [
        {
          "output_type": "execute_result",
          "data": {
            "text/plain": [
              "<sklearn.metrics._plot.confusion_matrix.ConfusionMatrixDisplay at 0x7f663767bdf0>"
            ]
          },
          "metadata": {},
          "execution_count": 71
        },
        {
          "output_type": "display_data",
          "data": {
            "text/plain": [
              "<Figure size 640x480 with 2 Axes>"
            ],
            "image/png": "[encoded data removed]"
          },
          "metadata": {}
        },
        {
          "output_type": "display_data",
          "data": {
            "text/plain": [
              "<Figure size 640x480 with 2 Axes>"
            ],
            "image/png": "[encoded data removed]"
          },
          "metadata": {}
        }
      ]
    }
  ]
}